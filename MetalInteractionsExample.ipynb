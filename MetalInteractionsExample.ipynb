{
 "cells": [
  {
   "cell_type": "markdown",
   "metadata": {},
   "source": [
    "# Example of using PySpark to find metal interactions"
   ]
  },
  {
   "cell_type": "markdown",
   "metadata": {},
   "source": [
    "## Imports and variables"
   ]
  },
  {
   "cell_type": "code",
   "execution_count": 10,
   "metadata": {
    "scrolled": true
   },
   "outputs": [],
   "source": [
    "from pyspark import SparkConf, SparkContext                    \n",
    "from mmtfPyspark.io import mmtfReader\n",
    "from mmtfPyspark.interactions import InteractionFilter, GroupInteractionExtractor\n",
    "from mmtfPyspark.filters import ContainsLProteinChain, Resolution\n",
    "from mmtfPyspark.webFilters import Pisces\n",
    "import matplotlib.pyplot as plt\n",
    "import pandas as pd\n",
    "import py3Dmol\n",
    "import time\n",
    "                                                               \n",
    "# Create variables                                             \n",
    "APP_NAME = \"MMTF_Spark\"                                        \n",
    "path = \"./resources/mmtf_full_sample/\"\n",
    "\n",
    "# Configure Spark                                              \n",
    "conf = SparkConf().setAppName(APP_NAME).setMaster(\"local[*]\")  \n",
    "sc = SparkContext(conf=conf)                                   "
   ]
  },
  {
   "cell_type": "markdown",
   "metadata": {},
   "source": [
    "## Define Variables"
   ]
  },
  {
   "cell_type": "code",
   "execution_count": 11,
   "metadata": {},
   "outputs": [],
   "source": [
    "# input parameters\n",
    "sequenceIdentityCutoff = 30\n",
    "resolution = 2.5\n",
    "minInteractions = 4\n",
    "maxInteractions = 6\n",
    "distanceCutoff = 3.0\n",
    "\n",
    "# chemical component codes of metals in different oxidation states\n",
    "metals = {\"V\",\"CR\",\"MN\",\"MN3\",\"FE\",\"FE2\",\"CO\",\"3CO\",\"NI\",\"3NI\", \"CU\",\"CU1\",\"CU3\",\"ZN\",\"MO\",\"4MO\",\"6MO\"}"
   ]
  },
  {
   "cell_type": "markdown",
   "metadata": {},
   "source": [
    "## Read PDB and create PISCES non-redundant set"
   ]
  },
  {
   "cell_type": "code",
   "execution_count": 12,
   "metadata": {},
   "outputs": [],
   "source": [
    "pdb = mmtfReader.read_sequence_file(path, sc)\n",
    "pdb = pdb.filter(Pisces(sequenceIdentity = sequenceIdentityCutoff, resolution = resolution))         "
   ]
  },
  {
   "cell_type": "markdown",
   "metadata": {},
   "source": [
    "## Setup criteria for metal interactions"
   ]
  },
  {
   "cell_type": "code",
   "execution_count": 13,
   "metadata": {},
   "outputs": [],
   "source": [
    "interactions_filter = InteractionFilter()\n",
    "interactions_filter.set_distance_cutoff(distanceCutoff)\n",
    "interactions_filter.set_min_interactions(minInteractions)\n",
    "interactions_filter.set_max_interactions(maxInteractions)\n",
    "interactions_filter.set_query_groups(True, metals)\n",
    "\n",
    "#Exclude non-polar interactions\n",
    "interactions_filter.set_target_elements(False, ['H','C','P'])"
   ]
  },
  {
   "cell_type": "markdown",
   "metadata": {},
   "source": [
    "## Tabulate interactions in a Dataframe"
   ]
  },
  {
   "cell_type": "code",
   "execution_count": 14,
   "metadata": {},
   "outputs": [
    {
     "name": "stdout",
     "output_type": "stream",
     "text": [
      "Metal interactions: 52\n"
     ]
    }
   ],
   "source": [
    "interactions = GroupInteractionExtractor().get_interactions(pdb,interactions_filter).cache()\n",
    "print(f\"Metal interactions: {interactions.count()}\")"
   ]
  },
  {
   "cell_type": "markdown",
   "metadata": {},
   "source": [
    "## Select interacting atoms and orientational order parameters (q4-q6)"
   ]
  },
  {
   "cell_type": "code",
   "execution_count": 15,
   "metadata": {},
   "outputs": [
    {
     "data": {
      "text/html": [
       "<div>\n",
       "<style scoped>\n",
       "    .dataframe tbody tr th:only-of-type {\n",
       "        vertical-align: middle;\n",
       "    }\n",
       "\n",
       "    .dataframe tbody tr th {\n",
       "        vertical-align: top;\n",
       "    }\n",
       "\n",
       "    .dataframe thead th {\n",
       "        text-align: right;\n",
       "    }\n",
       "</style>\n",
       "<table border=\"1\" class=\"dataframe\">\n",
       "  <thead>\n",
       "    <tr style=\"text-align: right;\">\n",
       "      <th></th>\n",
       "      <th>pdbId</th>\n",
       "      <th>q4</th>\n",
       "      <th>q5</th>\n",
       "      <th>q6</th>\n",
       "      <th>element0</th>\n",
       "      <th>groupNum0</th>\n",
       "      <th>chain0</th>\n",
       "      <th>element1</th>\n",
       "      <th>groupNum1</th>\n",
       "      <th>chain1</th>\n",
       "      <th>...</th>\n",
       "      <th>chain4</th>\n",
       "      <th>distance4</th>\n",
       "      <th>element5</th>\n",
       "      <th>groupNum5</th>\n",
       "      <th>chain5</th>\n",
       "      <th>distance5</th>\n",
       "      <th>element6</th>\n",
       "      <th>groupNum6</th>\n",
       "      <th>chain6</th>\n",
       "      <th>distance6</th>\n",
       "    </tr>\n",
       "  </thead>\n",
       "  <tbody>\n",
       "    <tr>\n",
       "      <th>0</th>\n",
       "      <td>1A2P</td>\n",
       "      <td>0.545893</td>\n",
       "      <td>NaN</td>\n",
       "      <td>NaN</td>\n",
       "      <td>Zn</td>\n",
       "      <td>112</td>\n",
       "      <td>C</td>\n",
       "      <td>O</td>\n",
       "      <td>139</td>\n",
       "      <td>C</td>\n",
       "      <td>...</td>\n",
       "      <td>C</td>\n",
       "      <td>2.120991</td>\n",
       "      <td>None</td>\n",
       "      <td>None</td>\n",
       "      <td>None</td>\n",
       "      <td>0.000000</td>\n",
       "      <td>None</td>\n",
       "      <td>None</td>\n",
       "      <td>None</td>\n",
       "      <td>0.00000</td>\n",
       "    </tr>\n",
       "    <tr>\n",
       "      <th>1</th>\n",
       "      <td>1FN9</td>\n",
       "      <td>0.982773</td>\n",
       "      <td>NaN</td>\n",
       "      <td>NaN</td>\n",
       "      <td>Zn</td>\n",
       "      <td>1001</td>\n",
       "      <td>A</td>\n",
       "      <td>S</td>\n",
       "      <td>51</td>\n",
       "      <td>A</td>\n",
       "      <td>...</td>\n",
       "      <td>A</td>\n",
       "      <td>2.219631</td>\n",
       "      <td>None</td>\n",
       "      <td>None</td>\n",
       "      <td>None</td>\n",
       "      <td>0.000000</td>\n",
       "      <td>None</td>\n",
       "      <td>None</td>\n",
       "      <td>None</td>\n",
       "      <td>0.00000</td>\n",
       "    </tr>\n",
       "    <tr>\n",
       "      <th>2</th>\n",
       "      <td>1BYF</td>\n",
       "      <td>0.455097</td>\n",
       "      <td>0.396868</td>\n",
       "      <td>NaN</td>\n",
       "      <td>Zn</td>\n",
       "      <td>302</td>\n",
       "      <td>A</td>\n",
       "      <td>O</td>\n",
       "      <td>126</td>\n",
       "      <td>A</td>\n",
       "      <td>...</td>\n",
       "      <td>A</td>\n",
       "      <td>2.788446</td>\n",
       "      <td>O</td>\n",
       "      <td>127</td>\n",
       "      <td>A</td>\n",
       "      <td>1.971687</td>\n",
       "      <td>None</td>\n",
       "      <td>None</td>\n",
       "      <td>None</td>\n",
       "      <td>0.00000</td>\n",
       "    </tr>\n",
       "    <tr>\n",
       "      <th>3</th>\n",
       "      <td>1AH7</td>\n",
       "      <td>0.877007</td>\n",
       "      <td>0.970126</td>\n",
       "      <td>NaN</td>\n",
       "      <td>Zn</td>\n",
       "      <td>246</td>\n",
       "      <td>A</td>\n",
       "      <td>N</td>\n",
       "      <td>118</td>\n",
       "      <td>A</td>\n",
       "      <td>...</td>\n",
       "      <td>A</td>\n",
       "      <td>2.196544</td>\n",
       "      <td>O</td>\n",
       "      <td>249</td>\n",
       "      <td>A</td>\n",
       "      <td>2.191126</td>\n",
       "      <td>None</td>\n",
       "      <td>None</td>\n",
       "      <td>None</td>\n",
       "      <td>0.00000</td>\n",
       "    </tr>\n",
       "    <tr>\n",
       "      <th>4</th>\n",
       "      <td>1B9M</td>\n",
       "      <td>0.581767</td>\n",
       "      <td>0.817296</td>\n",
       "      <td>0.478988</td>\n",
       "      <td>Ni</td>\n",
       "      <td>263</td>\n",
       "      <td>A</td>\n",
       "      <td>O</td>\n",
       "      <td>148</td>\n",
       "      <td>A</td>\n",
       "      <td>...</td>\n",
       "      <td>A</td>\n",
       "      <td>2.238572</td>\n",
       "      <td>N</td>\n",
       "      <td>146</td>\n",
       "      <td>A</td>\n",
       "      <td>2.063766</td>\n",
       "      <td>O</td>\n",
       "      <td>465</td>\n",
       "      <td>A</td>\n",
       "      <td>2.13188</td>\n",
       "    </tr>\n",
       "  </tbody>\n",
       "</table>\n",
       "<p>5 rows × 31 columns</p>\n",
       "</div>"
      ],
      "text/plain": [
       "  pdbId        q4        q5        q6 element0 groupNum0 chain0 element1  \\\n",
       "0  1A2P  0.545893       NaN       NaN       Zn       112      C        O   \n",
       "1  1FN9  0.982773       NaN       NaN       Zn      1001      A        S   \n",
       "2  1BYF  0.455097  0.396868       NaN       Zn       302      A        O   \n",
       "3  1AH7  0.877007  0.970126       NaN       Zn       246      A        N   \n",
       "4  1B9M  0.581767  0.817296  0.478988       Ni       263      A        O   \n",
       "\n",
       "  groupNum1 chain1    ...     chain4 distance4 element5 groupNum5  chain5  \\\n",
       "0       139      C    ...          C  2.120991     None      None    None   \n",
       "1        51      A    ...          A  2.219631     None      None    None   \n",
       "2       126      A    ...          A  2.788446        O       127       A   \n",
       "3       118      A    ...          A  2.196544        O       249       A   \n",
       "4       148      A    ...          A  2.238572        N       146       A   \n",
       "\n",
       "  distance5 element6 groupNum6  chain6 distance6  \n",
       "0  0.000000     None      None    None   0.00000  \n",
       "1  0.000000     None      None    None   0.00000  \n",
       "2  1.971687     None      None    None   0.00000  \n",
       "3  2.191126     None      None    None   0.00000  \n",
       "4  2.063766        O       465       A   2.13188  \n",
       "\n",
       "[5 rows x 31 columns]"
      ]
     },
     "execution_count": 15,
     "metadata": {},
     "output_type": "execute_result"
    }
   ],
   "source": [
    "interactions = interactions.select(\"pdbId\", \\\n",
    "                \"q4\",\"q5\",\"q6\", \\\n",
    "                \"element0\",\"groupNum0\",\"chain0\", \\\n",
    "                \"element1\",\"groupNum1\",\"chain1\",\"distance1\", \\\n",
    "                \"element2\",\"groupNum2\",\"chain2\",\"distance2\", \\\n",
    "                \"element3\",\"groupNum3\",\"chain3\",\"distance3\", \\\n",
    "                \"element4\",\"groupNum4\",\"chain4\",\"distance4\", \\\n",
    "                \"element5\",\"groupNum5\",\"chain5\",\"distance5\", \\\n",
    "                \"element6\",\"groupNum6\",\"chain6\",\"distance6\").cache();\n",
    "\n",
    "# show some example interactions\n",
    "ds = interactions.dropDuplicates([\"pdbId\"])\n",
    "df = ds.toPandas() # convert to pandas dataframe to fit table in jupyter notebook cell\n",
    "df.head()"
   ]
  },
  {
   "cell_type": "markdown",
   "metadata": {},
   "source": [
    "## Count Unique interactions by metal"
   ]
  },
  {
   "cell_type": "code",
   "execution_count": 16,
   "metadata": {},
   "outputs": [
    {
     "name": "stdout",
     "output_type": "stream",
     "text": [
      "Unique interactions by metal: \n",
      "+--------+-----+\n",
      "|element0|count|\n",
      "+--------+-----+\n",
      "|      Ni|    1|\n",
      "|      Cu|    2|\n",
      "|      Fe|    9|\n",
      "|      Mn|   12|\n",
      "|      Zn|   28|\n",
      "+--------+-----+\n",
      "\n"
     ]
    }
   ],
   "source": [
    "print(\"Unique interactions by metal: \")\n",
    "unique_ds = interactions.groupBy(['element0']).count().sort(\"count\")\n",
    "unique_ds.show()"
   ]
  },
  {
   "cell_type": "markdown",
   "metadata": {},
   "source": [
    "## Plot histogram for unique interactions count"
   ]
  },
  {
   "cell_type": "code",
   "execution_count": 17,
   "metadata": {},
   "outputs": [
    {
     "data": {
      "text/plain": [
       "<matplotlib.axes._subplots.AxesSubplot at 0x7fdb408783c8>"
      ]
     },
     "execution_count": 17,
     "metadata": {},
     "output_type": "execute_result"
    },
    {
     "data": {
      "image/png": "[encoded data removed]",
      "text/plain": [
       "<Figure size 432x288 with 1 Axes>"
      ]
     },
     "metadata": {},
     "output_type": "display_data"
    }
   ],
   "source": [
    "unique_df = unique_ds.toPandas()\n",
    "unique_df.plot(x='element0', y='count', kind='bar')"
   ]
  },
  {
   "cell_type": "markdown",
   "metadata": {},
   "source": [
    "## Terminate Spark"
   ]
  },
  {
   "cell_type": "code",
   "execution_count": 18,
   "metadata": {},
   "outputs": [],
   "source": [
    "sc.stop()"
   ]
  }
 ],
 "metadata": {
  "kernelspec": {
   "display_name": "Python 3",
   "language": "python",
   "name": "python3"
  },
  "language_info": {
   "codemirror_mode": {
    "name": "ipython",
    "version": 3
   },
   "file_extension": ".py",
   "mimetype": "text/x-python",
   "name": "python",
   "nbconvert_exporter": "python",
   "pygments_lexer": "ipython3",
   "version": "3.6.0"
  }
 },
 "nbformat": 4,
 "nbformat_minor": 2
}
