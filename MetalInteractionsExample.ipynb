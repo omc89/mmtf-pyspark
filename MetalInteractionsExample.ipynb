{
 "cells": [
  {
   "cell_type": "markdown",
   "metadata": {},
   "source": [
    "# Example of using PySpark to find metal interactions"
   ]
  },
  {
   "cell_type": "markdown",
   "metadata": {},
   "source": [
    "## Imports and variables"
   ]
  },
  {
   "cell_type": "code",
   "execution_count": 5,
   "metadata": {
    "scrolled": true
   },
   "outputs": [],
   "source": [
    "from pyspark import SparkConf, SparkContext                    \n",
    "from mmtfPyspark.io import MmtfReader\n",
    "from mmtfPyspark.interactions import InteractionFilter, GroupInteractionExtractor\n",
    "from mmtfPyspark.filters import containsLProteinChain, resolution\n",
    "from mmtfPyspark.webFilters import Pisces\n",
    "import py3Dmol\n",
    "import time\n",
    "                                                               \n",
    "# Create variables                                             \n",
    "APP_NAME = \"MMTF_Spark\"                                        \n",
    "#path = \"./resources/mmtf_full_sample/\"                            \n",
    "path = \"/home/marshuang80/PDB/full\"\n",
    "\n",
    "# Configure Spark                                              \n",
    "conf = SparkConf().setAppName(APP_NAME).setMaster(\"local[*]\")  \n",
    "sc = SparkContext(conf=conf)                                   "
   ]
  },
  {
   "cell_type": "markdown",
   "metadata": {},
   "source": [
    "## Define Variables"
   ]
  },
  {
   "cell_type": "code",
   "execution_count": 6,
   "metadata": {},
   "outputs": [],
   "source": [
    "# input parameters\n",
    "sequenceIdentityCutoff = 30\n",
    "resolution = 2.5\n",
    "minInteractions = 4\n",
    "maxInteractions = 6\n",
    "distanceCutoff = 3.0\n",
    "\n",
    "# chemical component codes of metals in different oxidation states\n",
    "metals = {\"V\",\"CR\",\"MN\",\"MN3\",\"FE\",\"FE2\",\"CO\",\"3CO\",\"NI\",\"3NI\", \"CU\",\"CU1\",\"CU3\",\"ZN\",\"MO\",\"4MO\",\"6MO\"}"
   ]
  },
  {
   "cell_type": "markdown",
   "metadata": {},
   "source": [
    "## Read PDB and create PISCES non-redundant set"
   ]
  },
  {
   "cell_type": "code",
   "execution_count": 7,
   "metadata": {},
   "outputs": [],
   "source": [
    "pdb = MmtfReader.read_sequence_file(path, sc)\n",
    "pdb = pdb.filter(Pisces(sequenceIdentity = sequenceIdentityCutoff, resolution = resolution))         "
   ]
  },
  {
   "cell_type": "markdown",
   "metadata": {},
   "source": [
    "## Setup criteria for metal interactions"
   ]
  },
  {
   "cell_type": "code",
   "execution_count": 8,
   "metadata": {},
   "outputs": [],
   "source": [
    "interactions_filter = InteractionFilter()\n",
    "interactions_filter.set_distance_cutoff(distanceCutoff)\n",
    "interactions_filter.set_min_interactions(minInteractions)\n",
    "interactions_filter.set_max_interactions(maxInteractions)\n",
    "interactions_filter.set_query_groups(True, metals)\n",
    "\n",
    "#Exclude non-polar interactions\n",
    "interactions_filter.set_target_elements(False, ['H','C','P'])"
   ]
  },
  {
   "cell_type": "markdown",
   "metadata": {},
   "source": [
    "## Tabulate interactions in a Dataframe"
   ]
  },
  {
   "cell_type": "code",
   "execution_count": 9,
   "metadata": {},
   "outputs": [
    {
     "name": "stdout",
     "output_type": "stream",
     "text": [
      "Metal interactions: 3346\n"
     ]
    }
   ],
   "source": [
    "interactions = GroupInteractionExtractor().get_interactions(pdb,interactions_filter).cache()\n",
    "print(f\"Metal interactions: {interactions.count()}\")"
   ]
  },
  {
   "cell_type": "markdown",
   "metadata": {},
   "source": [
    "## Select interacting atoms and orientational order parameters (q4-q6)"
   ]
  },
  {
   "cell_type": "code",
   "execution_count": 10,
   "metadata": {},
   "outputs": [
    {
     "name": "stdout",
     "output_type": "stream",
     "text": [
      "+-----+----------+----------+----+--------+---------+------+--------+---------+------+---------+--------+---------+------+---------+--------+---------+------+---------+--------+---------+------+---------+--------+---------+------+---------+--------+---------+------+---------+\n",
      "|pdbId|        q4|        q5|  q6|element0|groupNum0|chain0|element1|groupNum1|chain1|distance1|element2|groupNum2|chain2|distance2|element3|groupNum3|chain3|distance3|element4|groupNum4|chain4|distance4|element5|groupNum5|chain5|distance5|element6|groupNum6|chain6|distance6|\n",
      "+-----+----------+----------+----+--------+---------+------+--------+---------+------+---------+--------+---------+------+---------+--------+---------+------+---------+--------+---------+------+---------+--------+---------+------+---------+--------+---------+------+---------+\n",
      "| 1M4L|0.81025696|0.42569426|null|      Zn|     1308|     A|       N|      196|     A|  2.04484|       O|     1324|     A| 1.960923|       O|       72|     A|2.2696981|       O|       72|     A|2.2459834|       N|       69|     A|2.0348155|    null|     null|  null|      0.0|\n",
      "| 1VS0|0.47170502|0.14733909|null|      Zn|     9001|     B|       O|      483|     B|2.7545557|       O|      483|     B|2.1581717|       O|      613|     B|2.8631356|       O|      613|     B|1.6919093|       O|      481|     B|1.8971719|    null|     null|  null|      0.0|\n",
      "| 1YIX| 0.6831221|      null|null|      Zn|      601|     A|       O|      205|     A|2.4193933|       N|        9|     A| 2.070613|       N|        7|     A|2.1390548|       O|       94|     A|2.1793542|    null|     null|  null|      0.0|    null|     null|  null|      0.0|\n",
      "| 2ETV|0.62265515|      null|null|      Ni|        1|     A|       O|      495|     A|2.0441775|       N|       -1|     A|2.1631815|       O|      496|     A|2.1761396|       N|       -3|     A| 2.234011|    null|     null|  null|      0.0|    null|     null|  null|      0.0|\n",
      "| 3A32| 0.9660208|      null|null|      Zn|      708|     A|       N|      166|     A|1.9848884|       S|      112|     A|2.2833107|       O|      661|     A|2.0232403|       N|      310|     A|2.0646474|    null|     null|  null|      0.0|    null|     null|  null|      0.0|\n",
      "| 3GJ5| 0.9805452|      null|null|      Zn|      300|     B|       S|      855|     B|2.2438416|       S|      852|     B|2.4819722|       S|      869|     B|2.3785465|       S|      866|     B| 2.389974|    null|     null|  null|      0.0|    null|     null|  null|      0.0|\n",
      "| 3VK6| 0.9952565|      null|null|      Zn|      103|     A|       S|        4|     A| 2.381257|       S|        7|     A|2.3334603|       S|       28|     A|2.3862994|       S|       25|     A|2.3529496|    null|     null|  null|      0.0|    null|     null|  null|      0.0|\n",
      "| 5FC9|0.91514456|      null|null|      Cu|     1401|     A|       N|     1086|     A| 2.058759|       O|     1508|     A|2.2442153|       N|     1043|     A|1.9770559|       S|     1083|     A|2.2252374|    null|     null|  null|      0.0|    null|     null|  null|      0.0|\n",
      "| 1X6M|0.98829764|      null|null|      Zn|      200|     A|       S|       33|     A|2.4039288|       S|      101|     A|2.3242383|       S|      104|     A|2.3505206|       S|       35|     A| 2.304488|    null|     null|  null|      0.0|    null|     null|  null|      0.0|\n",
      "| 3M4W|0.38243484|0.09784788|null|      Zn|        1|     A|       O|      178|     D| 2.387563|       O|      176|     A|2.3146179|       O|      178|     D|2.1250963|       O|      174|     A|2.4758875|       O|      176|     A|2.6850197|    null|     null|  null|      0.0|\n",
      "+-----+----------+----------+----+--------+---------+------+--------+---------+------+---------+--------+---------+------+---------+--------+---------+------+---------+--------+---------+------+---------+--------+---------+------+---------+--------+---------+------+---------+\n",
      "only showing top 10 rows\n",
      "\n"
     ]
    }
   ],
   "source": [
    "interactions = interactions.select(\"pdbId\", \\\n",
    "                \"q4\",\"q5\",\"q6\", \\\n",
    "                \"element0\",\"groupNum0\",\"chain0\", \\\n",
    "                \"element1\",\"groupNum1\",\"chain1\",\"distance1\", \\\n",
    "                \"element2\",\"groupNum2\",\"chain2\",\"distance2\", \\\n",
    "                \"element3\",\"groupNum3\",\"chain3\",\"distance3\", \\\n",
    "                \"element4\",\"groupNum4\",\"chain4\",\"distance4\", \\\n",
    "                \"element5\",\"groupNum5\",\"chain5\",\"distance5\", \\\n",
    "                \"element6\",\"groupNum6\",\"chain6\",\"distance6\").cache();\n",
    "\n",
    "# show some example interactions\n",
    "interactions.dropDuplicates([\"pdbId\"]).show(10)"
   ]
  },
  {
   "cell_type": "markdown",
   "metadata": {},
   "source": [
    "# Count Unique interactions by metal"
   ]
  },
  {
   "cell_type": "code",
   "execution_count": 11,
   "metadata": {},
   "outputs": [
    {
     "name": "stdout",
     "output_type": "stream",
     "text": [
      "Unique interactions by metal: \n",
      "+--------+-----+\n",
      "|element0|count|\n",
      "+--------+-----+\n",
      "|      Mo|   23|\n",
      "|      Co|   86|\n",
      "|      Cu|   88|\n",
      "|      Ni|  167|\n",
      "|      Fe|  408|\n",
      "|      Mn|  435|\n",
      "|      Zn| 2139|\n",
      "+--------+-----+\n",
      "\n"
     ]
    }
   ],
   "source": [
    "print(\"Unique interactions by metal: \")\n",
    "interactions.groupBy(['element0']).count().sort(\"count\").show()"
   ]
  },
  {
   "cell_type": "markdown",
   "metadata": {},
   "source": [
    "## Terminate Spark"
   ]
  },
  {
   "cell_type": "code",
   "execution_count": 12,
   "metadata": {},
   "outputs": [],
   "source": [
    "sc.stop()"
   ]
  },
  {
   "cell_type": "code",
   "execution_count": null,
   "metadata": {},
   "outputs": [],
   "source": []
  }
 ],
 "metadata": {
  "kernelspec": {
   "display_name": "Python 3",
   "language": "python",
   "name": "python3"
  },
  "language_info": {
   "codemirror_mode": {
    "name": "ipython",
    "version": 3
   },
   "file_extension": ".py",
   "mimetype": "text/x-python",
   "name": "python",
   "nbconvert_exporter": "python",
   "pygments_lexer": "ipython3",
   "version": "3.6.0"
  }
 },
 "nbformat": 4,
 "nbformat_minor": 2
}
