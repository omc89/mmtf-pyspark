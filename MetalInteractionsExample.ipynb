{
 "cells": [
  {
   "cell_type": "markdown",
   "metadata": {},
   "source": [
    "# Example of using PySpark to find metal interactions"
   ]
  },
  {
   "cell_type": "markdown",
   "metadata": {},
   "source": [
    "## Imports and variables"
   ]
  },
  {
   "cell_type": "code",
   "execution_count": 1,
   "metadata": {
    "scrolled": true
   },
   "outputs": [],
   "source": [
    "from pyspark import SparkConf, SparkContext                    \n",
    "from mmtfPyspark.io import mmtfReader\n",
    "from mmtfPyspark.interactions import InteractionFilter, GroupInteractionExtractor\n",
    "from mmtfPyspark.filters import ContainsLProteinChain, Resolution\n",
    "from mmtfPyspark.webFilters import Pisces\n",
    "import matplotlib.pyplot as plt\n",
    "import pandas as pd\n",
    "import py3Dmol\n",
    "import time\n",
    "\n",
    "                                                               \n",
    "# Create variables                                             \n",
    "APP_NAME = \"MMTF_Spark\"                                        \n",
    "path = \"./resources/mmtf_full_sample/\"                            \n",
    "\n",
    "# Configure Spark                                              \n",
    "conf = SparkConf().setAppName(APP_NAME).setMaster(\"local[*]\")  \n",
    "sc = SparkContext(conf=conf)                                   "
   ]
  },
  {
   "cell_type": "markdown",
   "metadata": {},
   "source": [
    "## Define Variables"
   ]
  },
  {
   "cell_type": "code",
   "execution_count": 2,
   "metadata": {},
   "outputs": [],
   "source": [
    "# input parameters\n",
    "sequenceIdentityCutoff = 30\n",
    "resolution = 2.5\n",
    "minInteractions = 4\n",
    "maxInteractions = 6\n",
    "distanceCutoff = 3.0\n",
    "\n",
    "# chemical component codes of metals in different oxidation states\n",
    "metals = {\"V\",\"CR\",\"MN\",\"MN3\",\"FE\",\"FE2\",\"CO\",\"3CO\",\"NI\",\"3NI\", \"CU\",\"CU1\",\"CU3\",\"ZN\",\"MO\",\"4MO\",\"6MO\"}"
   ]
  },
  {
   "cell_type": "markdown",
   "metadata": {},
   "source": [
    "## Read PDB and create PISCES non-redundant set"
   ]
  },
  {
   "cell_type": "code",
   "execution_count": 3,
   "metadata": {},
   "outputs": [],
   "source": [
    "pdb = mmtfReader.read_sequence_file(path, sc)\n",
    "pdb = pdb.filter(Pisces(sequenceIdentity = sequenceIdentityCutoff, resolution = resolution))         "
   ]
  },
  {
   "cell_type": "markdown",
   "metadata": {},
   "source": [
    "## Setup criteria for metal interactions"
   ]
  },
  {
   "cell_type": "code",
   "execution_count": 4,
   "metadata": {},
   "outputs": [],
   "source": [
    "interactions_filter = InteractionFilter()\n",
    "interactions_filter.set_distance_cutoff(distanceCutoff)\n",
    "interactions_filter.set_min_interactions(minInteractions)\n",
    "interactions_filter.set_max_interactions(maxInteractions)\n",
    "interactions_filter.set_query_groups(True, metals)\n",
    "\n",
    "#Exclude non-polar interactions\n",
    "interactions_filter.set_target_elements(False, ['H','C','P'])"
   ]
  },
  {
   "cell_type": "markdown",
   "metadata": {},
   "source": [
    "## Tabulate interactions in a Dataframe"
   ]
  },
  {
   "cell_type": "code",
   "execution_count": 5,
   "metadata": {},
   "outputs": [
    {
     "name": "stdout",
     "output_type": "stream",
     "text": [
      "Metal interactions: 3344\n"
     ]
    }
   ],
   "source": [
    "interactions = GroupInteractionExtractor().get_interactions(pdb,interactions_filter).cache()\n",
    "print(f\"Metal interactions: {interactions.count()}\")"
   ]
  },
  {
   "cell_type": "markdown",
   "metadata": {},
   "source": [
    "## Select interacting atoms and orientational order parameters (q4-q6)"
   ]
  },
  {
   "cell_type": "code",
   "execution_count": 6,
   "metadata": {},
   "outputs": [
    {
     "data": {
      "text/html": [
       "<div>\n",
       "<style scoped>\n",
       "    .dataframe tbody tr th:only-of-type {\n",
       "        vertical-align: middle;\n",
       "    }\n",
       "\n",
       "    .dataframe tbody tr th {\n",
       "        vertical-align: top;\n",
       "    }\n",
       "\n",
       "    .dataframe thead th {\n",
       "        text-align: right;\n",
       "    }\n",
       "</style>\n",
       "<table border=\"1\" class=\"dataframe\">\n",
       "  <thead>\n",
       "    <tr style=\"text-align: right;\">\n",
       "      <th></th>\n",
       "      <th>pdbId</th>\n",
       "      <th>q4</th>\n",
       "      <th>q5</th>\n",
       "      <th>q6</th>\n",
       "      <th>element0</th>\n",
       "      <th>groupNum0</th>\n",
       "      <th>chain0</th>\n",
       "      <th>element1</th>\n",
       "      <th>groupNum1</th>\n",
       "      <th>chain1</th>\n",
       "      <th>...</th>\n",
       "      <th>chain4</th>\n",
       "      <th>distance4</th>\n",
       "      <th>element5</th>\n",
       "      <th>groupNum5</th>\n",
       "      <th>chain5</th>\n",
       "      <th>distance5</th>\n",
       "      <th>element6</th>\n",
       "      <th>groupNum6</th>\n",
       "      <th>chain6</th>\n",
       "      <th>distance6</th>\n",
       "    </tr>\n",
       "  </thead>\n",
       "  <tbody>\n",
       "    <tr>\n",
       "      <th>0</th>\n",
       "      <td>1M4L</td>\n",
       "      <td>0.810257</td>\n",
       "      <td>0.425694</td>\n",
       "      <td>NaN</td>\n",
       "      <td>Zn</td>\n",
       "      <td>1308</td>\n",
       "      <td>A</td>\n",
       "      <td>N</td>\n",
       "      <td>196</td>\n",
       "      <td>A</td>\n",
       "      <td>...</td>\n",
       "      <td>A</td>\n",
       "      <td>2.245983</td>\n",
       "      <td>N</td>\n",
       "      <td>69</td>\n",
       "      <td>A</td>\n",
       "      <td>2.034816</td>\n",
       "      <td>None</td>\n",
       "      <td>None</td>\n",
       "      <td>None</td>\n",
       "      <td>0.0</td>\n",
       "    </tr>\n",
       "    <tr>\n",
       "      <th>1</th>\n",
       "      <td>1VS0</td>\n",
       "      <td>0.471705</td>\n",
       "      <td>0.147339</td>\n",
       "      <td>NaN</td>\n",
       "      <td>Zn</td>\n",
       "      <td>9001</td>\n",
       "      <td>B</td>\n",
       "      <td>O</td>\n",
       "      <td>483</td>\n",
       "      <td>B</td>\n",
       "      <td>...</td>\n",
       "      <td>B</td>\n",
       "      <td>1.691909</td>\n",
       "      <td>O</td>\n",
       "      <td>481</td>\n",
       "      <td>B</td>\n",
       "      <td>1.897172</td>\n",
       "      <td>None</td>\n",
       "      <td>None</td>\n",
       "      <td>None</td>\n",
       "      <td>0.0</td>\n",
       "    </tr>\n",
       "    <tr>\n",
       "      <th>2</th>\n",
       "      <td>1YIX</td>\n",
       "      <td>0.683122</td>\n",
       "      <td>NaN</td>\n",
       "      <td>NaN</td>\n",
       "      <td>Zn</td>\n",
       "      <td>601</td>\n",
       "      <td>A</td>\n",
       "      <td>O</td>\n",
       "      <td>205</td>\n",
       "      <td>A</td>\n",
       "      <td>...</td>\n",
       "      <td>A</td>\n",
       "      <td>2.179354</td>\n",
       "      <td>None</td>\n",
       "      <td>None</td>\n",
       "      <td>None</td>\n",
       "      <td>0.000000</td>\n",
       "      <td>None</td>\n",
       "      <td>None</td>\n",
       "      <td>None</td>\n",
       "      <td>0.0</td>\n",
       "    </tr>\n",
       "    <tr>\n",
       "      <th>3</th>\n",
       "      <td>2ETV</td>\n",
       "      <td>0.622655</td>\n",
       "      <td>NaN</td>\n",
       "      <td>NaN</td>\n",
       "      <td>Ni</td>\n",
       "      <td>1</td>\n",
       "      <td>A</td>\n",
       "      <td>O</td>\n",
       "      <td>495</td>\n",
       "      <td>A</td>\n",
       "      <td>...</td>\n",
       "      <td>A</td>\n",
       "      <td>2.234011</td>\n",
       "      <td>None</td>\n",
       "      <td>None</td>\n",
       "      <td>None</td>\n",
       "      <td>0.000000</td>\n",
       "      <td>None</td>\n",
       "      <td>None</td>\n",
       "      <td>None</td>\n",
       "      <td>0.0</td>\n",
       "    </tr>\n",
       "    <tr>\n",
       "      <th>4</th>\n",
       "      <td>3A32</td>\n",
       "      <td>0.966021</td>\n",
       "      <td>NaN</td>\n",
       "      <td>NaN</td>\n",
       "      <td>Zn</td>\n",
       "      <td>708</td>\n",
       "      <td>A</td>\n",
       "      <td>N</td>\n",
       "      <td>166</td>\n",
       "      <td>A</td>\n",
       "      <td>...</td>\n",
       "      <td>A</td>\n",
       "      <td>2.064647</td>\n",
       "      <td>None</td>\n",
       "      <td>None</td>\n",
       "      <td>None</td>\n",
       "      <td>0.000000</td>\n",
       "      <td>None</td>\n",
       "      <td>None</td>\n",
       "      <td>None</td>\n",
       "      <td>0.0</td>\n",
       "    </tr>\n",
       "  </tbody>\n",
       "</table>\n",
       "<p>5 rows × 31 columns</p>\n",
       "</div>"
      ],
      "text/plain": [
       "  pdbId        q4        q5  q6 element0 groupNum0 chain0 element1 groupNum1  \\\n",
       "0  1M4L  0.810257  0.425694 NaN       Zn      1308      A        N       196   \n",
       "1  1VS0  0.471705  0.147339 NaN       Zn      9001      B        O       483   \n",
       "2  1YIX  0.683122       NaN NaN       Zn       601      A        O       205   \n",
       "3  2ETV  0.622655       NaN NaN       Ni         1      A        O       495   \n",
       "4  3A32  0.966021       NaN NaN       Zn       708      A        N       166   \n",
       "\n",
       "  chain1    ...     chain4 distance4 element5 groupNum5  chain5 distance5  \\\n",
       "0      A    ...          A  2.245983        N        69       A  2.034816   \n",
       "1      B    ...          B  1.691909        O       481       B  1.897172   \n",
       "2      A    ...          A  2.179354     None      None    None  0.000000   \n",
       "3      A    ...          A  2.234011     None      None    None  0.000000   \n",
       "4      A    ...          A  2.064647     None      None    None  0.000000   \n",
       "\n",
       "  element6 groupNum6  chain6 distance6  \n",
       "0     None      None    None       0.0  \n",
       "1     None      None    None       0.0  \n",
       "2     None      None    None       0.0  \n",
       "3     None      None    None       0.0  \n",
       "4     None      None    None       0.0  \n",
       "\n",
       "[5 rows x 31 columns]"
      ]
     },
     "execution_count": 6,
     "metadata": {},
     "output_type": "execute_result"
    }
   ],
   "source": [
    "interactions = interactions.select(\"pdbId\", \\\n",
    "                \"q4\",\"q5\",\"q6\", \\\n",
    "                \"element0\",\"groupNum0\",\"chain0\", \\\n",
    "                \"element1\",\"groupNum1\",\"chain1\",\"distance1\", \\\n",
    "                \"element2\",\"groupNum2\",\"chain2\",\"distance2\", \\\n",
    "                \"element3\",\"groupNum3\",\"chain3\",\"distance3\", \\\n",
    "                \"element4\",\"groupNum4\",\"chain4\",\"distance4\", \\\n",
    "                \"element5\",\"groupNum5\",\"chain5\",\"distance5\", \\\n",
    "                \"element6\",\"groupNum6\",\"chain6\",\"distance6\").cache();\n",
    "\n",
    "# show some example interactions\n",
    "ds = interactions.dropDuplicates([\"pdbId\"])\n",
    "df = ds.toPandas() # convert to pandas dataframe to fit table in jupyter notebook cell\n",
    "df.head()"
   ]
  },
  {
   "cell_type": "markdown",
   "metadata": {},
   "source": [
    "## Count Unique interactions by metal"
   ]
  },
  {
   "cell_type": "code",
   "execution_count": 7,
   "metadata": {},
   "outputs": [
    {
     "name": "stdout",
     "output_type": "stream",
     "text": [
      "Unique interactions by metal: \n",
      "+--------+-----+\n",
      "|element0|count|\n",
      "+--------+-----+\n",
      "|      Mo|   23|\n",
      "|      Co|   86|\n",
      "|      Cu|   88|\n",
      "|      Ni|  166|\n",
      "|      Fe|  405|\n",
      "|      Mn|  435|\n",
      "|      Zn| 2141|\n",
      "+--------+-----+\n",
      "\n"
     ]
    }
   ],
   "source": [
    "print(\"Unique interactions by metal: \")\n",
    "unique_ds = interactions.groupBy(['element0']).count().sort(\"count\")\n",
    "unique_ds.show()"
   ]
  },
  {
   "cell_type": "markdown",
   "metadata": {},
   "source": [
    "## Plot histogram for unique interactions count"
   ]
  },
  {
   "cell_type": "code",
   "execution_count": 8,
   "metadata": {},
   "outputs": [
    {
     "data": {
      "text/plain": [
       "<matplotlib.axes._subplots.AxesSubplot at 0x7f82cc368da0>"
      ]
     },
     "execution_count": 8,
     "metadata": {},
     "output_type": "execute_result"
    },
    {
     "data": {
      "image/png": "[encoded data removed]",
      "text/plain": [
       "<Figure size 432x288 with 1 Axes>"
      ]
     },
     "metadata": {},
     "output_type": "display_data"
    }
   ],
   "source": [
    "unique_df = unique_ds.toPandas()\n",
    "unique_df.plot(x='element0', y='count', kind='bar')"
   ]
  },
  {
   "cell_type": "markdown",
   "metadata": {},
   "source": [
    "## Terminate Spark"
   ]
  },
  {
   "cell_type": "raw",
   "metadata": {},
   "source": [
    "sc.stop()"
   ]
  }
 ],
 "metadata": {
  "kernelspec": {
   "display_name": "Python 3",
   "language": "python",
   "name": "python3"
  },
  "language_info": {
   "codemirror_mode": {
    "name": "ipython",
    "version": 3
   },
   "file_extension": ".py",
   "mimetype": "text/x-python",
   "name": "python",
   "nbconvert_exporter": "python",
   "pygments_lexer": "ipython3",
   "version": "3.6.0"
  }
 },
 "nbformat": 4,
 "nbformat_minor": 2
}
