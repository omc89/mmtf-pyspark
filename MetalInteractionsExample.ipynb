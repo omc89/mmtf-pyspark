{
 "cells": [
  {
   "cell_type": "markdown",
   "metadata": {},
   "source": [
    "# Example of using PySpark to find metal interactions"
   ]
  },
  {
   "cell_type": "markdown",
   "metadata": {},
   "source": [
    "## Imports and variables"
   ]
  },
  {
   "cell_type": "code",
   "execution_count": 1,
   "metadata": {
    "scrolled": true
   },
   "outputs": [],
   "source": [
    "from pyspark import SparkConf, SparkContext                    \n",
    "from mmtfPyspark.io import mmtfReader\n",
    "from mmtfPyspark.interactions import InteractionFilter, GroupInteractionExtractor\n",
    "from mmtfPyspark.filters import ContainsLProteinChain, Resolution\n",
    "from mmtfPyspark.webFilters import Pisces\n",
    "import py3Dmol\n",
    "import time\n",
    "                                                               \n",
    "# Create variables                                             \n",
    "APP_NAME = \"MMTF_Spark\"                                        \n",
    "path = \"./resources/mmtf_full_sample/\"                            \n",
    "\n",
    "# Configure Spark                                              \n",
    "conf = SparkConf().setAppName(APP_NAME).setMaster(\"local[*]\")  \n",
    "sc = SparkContext(conf=conf)                                   "
   ]
  },
  {
   "cell_type": "markdown",
   "metadata": {},
   "source": [
    "## Define Variables"
   ]
  },
  {
   "cell_type": "code",
   "execution_count": 2,
   "metadata": {},
   "outputs": [],
   "source": [
    "# input parameters\n",
    "sequenceIdentityCutoff = 30\n",
    "resolution = 2.5\n",
    "minInteractions = 4\n",
    "maxInteractions = 6\n",
    "distanceCutoff = 3.0\n",
    "\n",
    "# chemical component codes of metals in different oxidation states\n",
    "metals = {\"V\",\"CR\",\"MN\",\"MN3\",\"FE\",\"FE2\",\"CO\",\"3CO\",\"NI\",\"3NI\", \"CU\",\"CU1\",\"CU3\",\"ZN\",\"MO\",\"4MO\",\"6MO\"}"
   ]
  },
  {
   "cell_type": "markdown",
   "metadata": {},
   "source": [
    "## Read PDB and create PISCES non-redundant set"
   ]
  },
  {
   "cell_type": "code",
   "execution_count": 5,
   "metadata": {},
   "outputs": [],
   "source": [
    "pdb = mmtfReader.read_sequence_file(path, sc)\n",
    "pdb = pdb.filter(Pisces(sequenceIdentity = sequenceIdentityCutoff, resolution = resolution))         "
   ]
  },
  {
   "cell_type": "markdown",
   "metadata": {},
   "source": [
    "## Setup criteria for metal interactions"
   ]
  },
  {
   "cell_type": "code",
   "execution_count": 6,
   "metadata": {},
   "outputs": [],
   "source": [
    "interactions_filter = InteractionFilter()\n",
    "interactions_filter.set_distance_cutoff(distanceCutoff)\n",
    "interactions_filter.set_min_interactions(minInteractions)\n",
    "interactions_filter.set_max_interactions(maxInteractions)\n",
    "interactions_filter.set_query_groups(True, metals)\n",
    "\n",
    "#Exclude non-polar interactions\n",
    "interactions_filter.set_target_elements(False, ['H','C','P'])"
   ]
  },
  {
   "cell_type": "markdown",
   "metadata": {},
   "source": [
    "## Tabulate interactions in a Dataframe"
   ]
  },
  {
   "cell_type": "code",
   "execution_count": 7,
   "metadata": {},
   "outputs": [
    {
     "name": "stdout",
     "output_type": "stream",
     "text": [
      "Metal interactions: 52\n"
     ]
    }
   ],
   "source": [
    "interactions = GroupInteractionExtractor().get_interactions(pdb,interactions_filter).cache()\n",
    "print(f\"Metal interactions: {interactions.count()}\")"
   ]
  },
  {
   "cell_type": "markdown",
   "metadata": {},
   "source": [
    "## Select interacting atoms and orientational order parameters (q4-q6)"
   ]
  },
  {
   "cell_type": "code",
   "execution_count": 8,
   "metadata": {},
   "outputs": [
    {
     "name": "stdout",
     "output_type": "stream",
     "text": [
      "+-----+----------+----------+----------+--------+---------+------+--------+---------+------+---------+--------+---------+------+---------+--------+---------+------+---------+--------+---------+------+---------+--------+---------+------+---------+--------+---------+------+---------+\n",
      "|pdbId|        q4|        q5|        q6|element0|groupNum0|chain0|element1|groupNum1|chain1|distance1|element2|groupNum2|chain2|distance2|element3|groupNum3|chain3|distance3|element4|groupNum4|chain4|distance4|element5|groupNum5|chain5|distance5|element6|groupNum6|chain6|distance6|\n",
      "+-----+----------+----------+----------+--------+---------+------+--------+---------+------+---------+--------+---------+------+---------+--------+---------+------+---------+--------+---------+------+---------+--------+---------+------+---------+--------+---------+------+---------+\n",
      "| 1A2P|0.54589266|      null|      null|      Zn|      112|     C|       O|      139|     C|1.9944315|       N|       62|     C| 2.084901|       O|       60|     C| 2.318888|       O|       60|     C|2.1209905|    null|     null|  null|      0.0|    null|     null|  null|      0.0|\n",
      "| 1FN9| 0.9827728|      null|      null|      Zn|     1001|     A|       S|       51|     A|2.3709755|       S|       54|     A|2.3940797|       S|       73|     A|2.3465357|       N|       71|     A|2.2196307|    null|     null|  null|      0.0|    null|     null|  null|      0.0|\n",
      "| 1BYF|0.45509714|  0.396868|      null|      Zn|      302|     A|       O|      126|     A|2.0953326|       O|      126|     A|2.7332275|       O|       52|     A|1.9012648|       O|      127|     A|2.7884457|       O|      127|     A|1.9716868|    null|     null|  null|      0.0|\n",
      "| 1AH7|0.87700707| 0.9701259|      null|      Zn|      246|     A|       N|      118|     A|1.9923105|       N|       69|     A|2.0576968|       O|       55|     A|2.2910185|       O|      122|     A|2.1965442|       O|      249|     A|2.1911263|    null|     null|  null|      0.0|\n",
      "| 1B9M| 0.5817675| 0.8172963|0.47898847|      Ni|      263|     A|       O|      148|     A|2.2294838|       O|      148|     A|2.3075905|       O|      139|     A|2.1531951|       N|      140|     A|2.2385721|       N|      146|     A| 2.063766|       O|      465|     A|2.1318796|\n",
      "| 1CG2| 0.9155044|0.43493617|      null|      Zn|      500|     A|       O|      176|     A|2.4820771|       O|      176|     A|  2.08862|       N|      385|     A|1.9802611|       O|      141|     A|2.0258143|       O|      538|     A|1.8636923|    null|     null|  null|      0.0|\n",
      "| 1A9X|0.40319037| 0.3859639| 0.4188454|      Mn|     7901|     G|       O|     7906|     G|1.7953303|       O|     6301|     G|2.2112253|       O|     6299|     G|2.2855122|       O|      851|     G|2.4858406|       O|     6299|     G|2.3874662|       O|     7900|     G|2.4430552|\n",
      "| 1DS1| 0.7298168|0.27620798|0.46183977|      Fe|      341|     A|       N|      279|     A|2.1172674|       O|      330|     A|2.2054207|       O|      330|     A|2.0072038|       N|      144|     A|2.1490264|       O|      146|     A|2.0634663|       O|      487|     A|2.2112179|\n",
      "| 1AOL|0.49137354|      null|      null|      Zn|      430|     A|       O|       86|     A|2.5990186|       O|      418|     A|2.3371506|       O|      419|     A|2.3161566|       O|      343|     A|2.4071956|    null|     null|  null|      0.0|    null|     null|  null|      0.0|\n",
      "| 1AOZ|0.90204453|      null|      null|      Cu|      701|     A|       N|      445|     A|2.0945914|       S|      517|     A|2.8992662|       N|      512|     A|2.0524392|       S|      507|     A|2.1332207|    null|     null|  null|      0.0|    null|     null|  null|      0.0|\n",
      "+-----+----------+----------+----------+--------+---------+------+--------+---------+------+---------+--------+---------+------+---------+--------+---------+------+---------+--------+---------+------+---------+--------+---------+------+---------+--------+---------+------+---------+\n",
      "only showing top 10 rows\n",
      "\n"
     ]
    }
   ],
   "source": [
    "interactions = interactions.select(\"pdbId\", \\\n",
    "                \"q4\",\"q5\",\"q6\", \\\n",
    "                \"element0\",\"groupNum0\",\"chain0\", \\\n",
    "                \"element1\",\"groupNum1\",\"chain1\",\"distance1\", \\\n",
    "                \"element2\",\"groupNum2\",\"chain2\",\"distance2\", \\\n",
    "                \"element3\",\"groupNum3\",\"chain3\",\"distance3\", \\\n",
    "                \"element4\",\"groupNum4\",\"chain4\",\"distance4\", \\\n",
    "                \"element5\",\"groupNum5\",\"chain5\",\"distance5\", \\\n",
    "                \"element6\",\"groupNum6\",\"chain6\",\"distance6\").cache();\n",
    "\n",
    "# show some example interactions\n",
    "interactions.dropDuplicates([\"pdbId\"]).show(10)"
   ]
  },
  {
   "cell_type": "markdown",
   "metadata": {},
   "source": [
    "# Count Unique interactions by metal"
   ]
  },
  {
   "cell_type": "code",
   "execution_count": 9,
   "metadata": {},
   "outputs": [
    {
     "name": "stdout",
     "output_type": "stream",
     "text": [
      "Unique interactions by metal: \n",
      "+--------+-----+\n",
      "|element0|count|\n",
      "+--------+-----+\n",
      "|      Ni|    1|\n",
      "|      Cu|    2|\n",
      "|      Fe|    9|\n",
      "|      Mn|   12|\n",
      "|      Zn|   28|\n",
      "+--------+-----+\n",
      "\n"
     ]
    }
   ],
   "source": [
    "print(\"Unique interactions by metal: \")\n",
    "interactions.groupBy(['element0']).count().sort(\"count\").show()"
   ]
  },
  {
   "cell_type": "markdown",
   "metadata": {},
   "source": [
    "## Terminate Spark"
   ]
  },
  {
   "cell_type": "code",
   "execution_count": 10,
   "metadata": {},
   "outputs": [],
   "source": [
    "sc.stop()"
   ]
  }
 ],
 "metadata": {
  "kernelspec": {
   "display_name": "Python 3",
   "language": "python",
   "name": "python3"
  },
  "language_info": {
   "codemirror_mode": {
    "name": "ipython",
    "version": 3
   },
   "file_extension": ".py",
   "mimetype": "text/x-python",
   "name": "python",
   "nbconvert_exporter": "python",
   "pygments_lexer": "ipython3",
   "version": "3.6.0"
  }
 },
 "nbformat": 4,
 "nbformat_minor": 2
}
