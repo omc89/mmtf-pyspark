{
 "cells": [
  {
   "cell_type": "markdown",
   "metadata": {},
   "source": [
    "# Filter By Experimental Methods Demo\n",
    "\n",
    "Example how to filter PDB entries by experimental methods.\n",
    "\n",
    "\n",
    "[To learn more about experimental methods](http://pdb101.rcsb.org/learn/guide-to-understanding-pdb-data/methods-for-determining-structure)\n",
    "\n",
    "\n",
    "## Imports"
   ]
  },
  {
   "cell_type": "code",
   "execution_count": 1,
   "metadata": {},
   "outputs": [],
   "source": [
    "from pyspark import SparkConf, SparkContext\n",
    "from mmtfPyspark.io import mmtfReader\n",
    "from mmtfPyspark.filters import ExperimentalMethods\n",
    "from mmtfPyspark.structureViewer import simple_structure_viewer"
   ]
  },
  {
   "cell_type": "markdown",
   "metadata": {},
   "source": [
    "## Configure Spark"
   ]
  },
  {
   "cell_type": "code",
   "execution_count": 2,
   "metadata": {},
   "outputs": [],
   "source": [
    "conf = SparkConf().setMaster(\"local[*]\") \\\n",
    "                      .setAppName(\"FilterByExperimentalMethods\")\n",
    "sc = SparkContext(conf = conf)"
   ]
  },
  {
   "cell_type": "markdown",
   "metadata": {},
   "source": [
    "## Read in MMTF Files"
   ]
  },
  {
   "cell_type": "code",
   "execution_count": 3,
   "metadata": {},
   "outputs": [],
   "source": [
    "path = \"../../resources/mmtf_reduced_sample/\"\n",
    "\n",
    "pdb = mmtfReader.read_sequence_file(path, sc)"
   ]
  },
  {
   "cell_type": "markdown",
   "metadata": {},
   "source": [
    "## Filter by experimental methods\n",
    "\n",
    "#### List of supported experimental methods\n",
    "\n",
    "* experimentalMethods.ELECTRON_CRYSTALLOGRAPHY\n",
    "* experimentalMethods.ELECTRON_MICROSCOPY\n",
    "* experimentalMethods.ERP\n",
    "* experimentalMethods.FIBER_DIFFRACTION\n",
    "* experimentalMethods.FLUORESCENCE_TRANSFER\n",
    "* experimentalMethods.INFRARED_SPECTROSCOPY\n",
    "* experimentalMethods.NEUTRON_DIFFRACTION\n",
    "* experimentalMethods.POWDER_DIFFRACTION\n",
    "* experimentalMethods.SOLID_STATE_NMR\n",
    "* experimentalMethods.SOLUTION_NMR\n",
    "* experimentalMethods.SOLUTION_SCATTERING\n",
    "* experimentalMethods.THEORETICAL_MODEL\n",
    "* experimentalMethods.X_RAY_DIFFRACTION"
   ]
  },
  {
   "cell_type": "code",
   "execution_count": 4,
   "metadata": {},
   "outputs": [],
   "source": [
    "pdb = pdb.filter(ExperimentalMethods(ExperimentalMethods.NEUTRON_DIFFRACTION, ExperimentalMethods.X_RAY_DIFFRACTION))"
   ]
  },
  {
   "cell_type": "markdown",
   "metadata": {},
   "source": [
    "## Print out entries"
   ]
  },
  {
   "cell_type": "code",
   "execution_count": 5,
   "metadata": {},
   "outputs": [
    {
     "name": "stdout",
     "output_type": "stream",
     "text": [
      "['1FDK', '1FDL', '1FDN', '1FDO', '1FDP', '1FDQ', '1FDR', '1FDS', '1FDT', '1FDU', '1FDV', '1FDW', '1FE0', '1FE1', '1FE2', '1FE4', '1FE6', '1FE8', '1FEA', '1FEB', '1FEC', '1FEE', '1FEH', '1FEJ', '1FEL', '1FEM', '1FEN', '1FEP', '1FER', '1FEW', '1FEZ', '1FF0', '1FF3', '1FF4', '1FFA', '1FFB', '1FFC', '1FFD', '1FFE', '1FFF', '1FFG', '1FFH', '1FFI', '1FFK', '1FFN', '1FFP', '1FFS', '1FFT', '1FFU', '1FFV', '1FFX', '1FFY', '1FFZ', '1FG0', '1FG2', '1FG5', '1FG6', '1FG8', '1FG9', '1FGA', '1FGB', '1FGC', '1FGH', '1FGI', '1FGJ', '1FGK', '1FGL', '1FGM', '1FGN', '1FGO', '1FGQ', '1FGR', '1FGS', '1FGT', '1FGU', '1FGV', '1FGX', '1FGY', '1FGZ', '1FH2', '1FH5', '1FH7', '1FHA', '1FHE', '1FHF', '1FHG', '1FHH', '1FHI', '1FHJ', '1FHM', '1FHN', '1FHU', '1FHV', '1FHW', '1FHX', '1FHY', '1FHZ', '1FI1', '1FI2', '1FI8', '1FIA', '1FIB', '1FIC', '1FID', '1FIE', '1FIF', '1FIG', '1FIH', '1FIK', '1FIL', '1FIM', '1FIN', '1FIO', '1FIP', '1FIR', '1FIT', '1FIU', '1FIV', '1FIW', '1FIX', '1FIY', '1FIZ', '1FJ0', '1FJ1', '1FJ4', '1FJ8', '1FJG', '1FJJ', '1FJL', '1FJM', '1FJO', '1FJQ', '1FJR', '1FJT', '1FJU', '1FJV', '1FJW', '1FJX', '1FK5', '1FKA', '1FKB', '1FKD', '1FKF', '1FKG', '1FKH', '1FKI', '1FKJ', '1FKK', '1FKL', '1FKN', '1FKO', '1FKP', '1FKQ', '1FKV', '1FKW', '1FKX', '1FL2', '1FL5', '1FL6', '1FL7', '1FL9', '1FLA', '1FLD', '1FLE', '1FLH', '1FLK', '1FLL', '1FLM', '1FLN', '1FLO', '1FLP', '1FLR', '1FLT', '1FLV', '1FM0', '1FM2', '1FM4', '1FM7', '1FM8', '1FMA', '1FMB', '1FMC', '1FMD', '1FMI', '1FMJ', '1FMK', '1FML', '1FMO', '1FMT', '1FMV', '1FMW', '1FMZ', '1FN0', '1FN1', '1FN2', '1FN4', '1FN7', '1FN8', '1FN9', '1FNA', '1FNB', '1FNC', '1FND', '1FNF', '1FNH', '1FNL', '1FNM', '1FNN', '1FNO', '1FNP', '1FNQ', '1FNS', '1FNT', '1FNU', '1FNY', '1FNZ', '1FO1', '1FO2', '1FO3', '1FO6', '1FO8', '1FO9', '1FOA', '1FOC', '1FOD', '1FOE', '1FOF', '1FOH', '1FOI', '1FOJ', '1FOK', '1FOL', '1FON', '1FOO', '1FOP', '1FOR', '1FOS', '1FOU', '1FP1', '1FP2', '1FP5', '1FP6', '1FP7', '1FPB', '1FPC', '1FPD', '1FPE', '1FPF', '1FPG', '1FPH', '1FPI', '1FPJ', '1FPK', '1FPL', '1FPM', '1FPN', '1FPO', '1FPP', '1FPQ', '1FPS', '1FPT', '1FPU', '1FPV', '1FPX', '1FPY', '1FPZ', '1FQ0', '1FQ1', '1FQ2', '1FQ3', '1FQ9', '1FQA', '1FQB', '1FQC', '1FQD', '1FQE', '1FQI', '1FQL', '1FQM', '1FQN', '1FQR', '1FQT', '1FQV', '1FQW', '1FQX', '1FR3', '1FR4', '1FR5', '1FR7', '1FR8', '1FR9', '1FRB', '1FRD', '1FRF', '1FRG', '1FRH', '1FRI', '1FRJ', '1FRK', '1FRL', '1FRM', '1FRN', '1FRO', '1FRP', '1FRQ', '1FRR', '1FRS', '1FRT', '1FRV', '1FRW', '1FRX', '1FS0', '1FS1', '1FS2', '1FS3', '1FS7', '1FS8', '1FS9', '1FSA', '1FSC', '1FSE', '1FSG', '1FSI', '1FSJ', '1FSK', '1FSL', '1FSN', '1FSO', '1FSQ', '1FSR', '1FSS', '1FST', '1FSU', '1FSW', '1FSY', '1FSZ', '1FT0', '1FT1', '1FT2', '1FT3', '1FT5', '1FT6', '1FT7', '1FT8', '1FT9', '1FTA', '1FTC', '1FTE', '1FTF', '1FTG', '1FTH', '1FTN', '1FTP', '1FTQ', '1FTR', '1FTS', '1FTW', '1FTY', '1FU0', '1FU1', '1FU4', '1FU7', '1FU8', '1FUA', '1FUE', '1FUF', '1FUG', '1FUI', '1FUJ', '1FUN', '1FUO', '1FUP', '1FUQ', '1FUR', '1FUS', '1FUT', '1FUU', '1FUX', '1FUY', '1FV1', '1FV2', '1FV3', '1FVA', '1FVC', '1FVD', '1FVE', '1FVF', '1FVG', '1FVH', '1FVI', '1FVJ', '1FVK', '1FVM', '1FVO', '1FVP', '1FVU', '1FVX', '1FW1', '1FW2', '1FW3', '1FW4', '1FW6', '1FWA', '1FWB', '1FWC', '1FWD', '1FWE', '1FWF', '1FWG', '1FWH', '1FWI', '1FWJ', '1FWL', '1FWN', '1FWR', '1FWU', '1FWV', '1FWY', '1FWZ', '1FX0', '1FX1', '1FX3', '1FX4', '1FX8', '1FX9', '1FXA', '1FXD', '1FXF', '1FXH', '1FXI', '1FXJ', '1FXK', '1FXL', '1FXO', '1FXR', '1FXW', '1FXX', '1FXY', '1FXZ', '1FY1', '1FY2', '1FY3', '1FY4', '1FY5', '1FY7', '1FY9', '1FYA', '1FYD', '1FYE', '1FYF', '1DZE', '1DZF', '1DZG', '1DZH', '1DZI', '1DZJ', '1DZK', '1DZL', '1DZM', '1DZN', '1DZP', '1DZQ', '1DZR', '1DZT', '1DZX', '1DZY', '1DZZ', '1E00', '1E02', '1E03', '1E04', '1E05', '1E06', '1E0B', '1E0C', '1E0D', '1E0J', '1E0K', '1E0O', '1E0P', '1E0R', '1E0S', '1E0T', '1E0U', '1E0V', '1E0W', '1E0X', '1E0Y', '1E12', '1E14', '1E15', '1E18', '1E19', '1E1A', '1E1D', '1E1E', '1E1H', '1E1L', '1E1M', '1E1Q', '1E1R', '1E1T', '1E1V', '1E1X', '1E1Y', '1E1Z', '1E20', '1E21', '1E22', '1E24', '1E25', '1E26', '1E27', '1E28', '1E29', '1E2A', '1E2D', '1E2E', '1E2F', '1E2H', '1E2I', '1E2K', '1E2L', '1E2M', '1E2N', '1E2O', '1E2P', '1E2Q', '1E2R', '1E2S', '1E2T', '1E2U', '1E2V', '1E2W', '1E2X', '1E2Y', '1E2Z', '1E30', '1E31', '1E32', '1E33', '1E34', '1E37', '1E38', '1E39', '1E3A', '1E3B', '1E3C', '1E3D', '1E3E', '1E3G', '1E3H', '1E3I', '1E3J', '1E3K', '1E3L', '1E3O', '1E3P', '1E3R', '1E3S', '1E3U', '1E3V', '1E3W', '1E3X', '1E3Z', '1E40', '1E42', '1E43', '1E44', '1E4D', '1E4F', '1E4G', '1E4I', '1E4J', '1E4K', '1E4L', '1E4M', '1E4N', '1E4O', '1E4W', '1E50', '1E51', '1E54', '1E55', '1E56', '1E58', '1E59', '1E5D', '1E5E', '1E5F', '1E5H', '1E5I', '1E5J', '1E5K', '1E5L', '1E5M', '1E5N', '1E5O', '1E5P', '1E5Q', '1E5R', '1E5S', '1E5T', '1E5V', '1E5W', '1E5X', '1E60', '1E61', '1E62', '1E63', '1E64', '1E66', '1E6A', '1E6B', '1E6C', '1E6D', '1E6E', '1E6F', '1E6G', '1E6H', '1E6I', '1E6J', '1E6K', '1E6L', '1E6N', '1E6O', '1E6P', '1E6Q', '1E6R', '1E6S', '1E6U', '1E6W', '1E6X', '1E6Z', '1E70', '1E71', '1E72', '1E73', '100D', '101D', '101M', '102D', '102L', '102M', '103L', '103M', '104L', '104M', '105M', '106M', '107L', '107M', '108L', '108M', '109D', '109L', '109M', '10GS', '10MH', '110D', '110L', '110M', '111D', '111L', '111M', '112D', '112L', '112M', '113D', '113L', '114D', '114L', '115D', '115L', '116D', '117D', '117E', '118D', '118L', '119D', '119L', '11AS', '11BG', '11GS', '120L', '121D', '121P', '122D', '122L', '123D', '123L', '125L', '126D', '126L', '127D', '127L', '128D', '128L', '129D', '129L', '12AS', '12CA', '12E8', '12GS', '130D', '130L', '131D', '131L', '132L', '133D', '133L', '134L', '135L', '137D', '137L', '138D', '138L', '139L', '13GS', '13PK', '140L', '141L', '142L', '143L', '144D', '144L', '145D', '145L', '146L', '147L', '148L', '149L', '14GS', '150D', '150L', '151D', '151L', '152D', '152L', '153D', '153L', '154D', '154L', '155C', '155L', '156L', '157D', '157L', '158D', '158L', '159D', '159L', '15C8', '160D', '160L', '161D', '161L', '162L', '163L', '164L', '165D', '165L', '166D', '166L', '167D', '167L', '168D', '168L', '169L', '16GS', '16PK', '16VP', '170L', '171L', '172D', '172L', '173D', '173L', '174L', '175L', '176L', '177L', '178D', '178L', '17GS', '180D', '180L', '181D', '181L', '182D', '182L', '183D', '183L', '184D', '184L', '185L', '186L', '187D', '187L', '188D', '188L', '189D', '189L', '18GS', '190D', '190L', '1914', '191D', '191L', '192D', '192L', '193L', '194D', '194L', '195D', '195L', '196D', '196L', '197D', '197L', '198D', '198L', '199L', '19GS', '1A00', '1A01', '1A02', '1A04', '1A05', '1A06', '1A07', '1A08', '1A09', '1A0A', '1A0B', '1A0C', '1A0D', '1A0E', '1A0F', '1A0G', '1A0H', '1A0I', '1A0J', '1A0K', '1A0L', '1A0M', '1A0O', '1A0P', '1A0Q', '1A0R', '1A0S', '1A0T', '1A0U', '1A0Z', '1A12', '1A14', '1A15', '1A16', '1A17', '1A18', '1A19', '1A1A', '1A1B', '1A1C', '1A1E', '1A1F', '1A1G', '1A1H', '1A1I', '1A1J', '1A1K', '1A1L', '1A1M', '1A1N', '1A1O', '1A1Q', '1A1R', '1A1S', '1A1V', '1A1X', '1A21', '1A22', '1A25', '1A26', '1A27', '1A28', '1A29', '1A2A', '1A2B', '1A2C', '1A2D', '1A2E', '1A2F', '1A2G', '1A2J', '1A2K', '1A2L', '1A2M', '1A2N', '1A2O', '1A2P', '1A2Q', '1A2T', '1A2U', '1A2V', '1A2W', '1A2X', '1A2Y', '1A2Z', '1A30', '1A31', '1A32', '1A33', '1A34', '1A35', '1A36', '1A37', '1A38', '1A39', '1A3A', '1A3B', '1A3C', '1A3D', '1A3E', '1A3F', '1A3G', '1A3H', '1A3I', '1A3J', '1A3K', '1A3L', '1A3N', '1A3O', '1A3Q', '1A3R', '1A3S', '1A3T', '1A3U', '1A3V', '1A3W', '1A3X', '1A3Y', '1A3Z', '1A40', '1A41', '1A42', '1A43', '1A44', '1A45', '1A46', '1A47', '1A48', '1A49', '1A4A', '1A4B', '1A4C', '1A4E', '1A4F', '1A4G', '1A4H', '1A4I', '1A4J', '1A4K', '1A4L', '1A4M', '1A4O', '1A4P', '1A4Q', '1A4R', '1A4S', '1A4U', '1A4V', '1A4W', '1A4X', '1A4Y', '1A4Z', '1A50', '1A52', '1A53', '1A54', '1A55', '1A58', '1A59', '1A5A', '1A5B', '1A5C', '1A5D', '1A5F', '1A5G', '1A5H', '1A5I', '1A5K', '1A5L', '1A5M', '1A5N', '1A5O', '1A5P', '1A5Q', '1A5S', '1A5T', '1A5U', '1A5V', '1A5W', '1A5X', '1A5Y', '1A5Z', '1A61', '1A62', '1A64', '1A65', '1A68', '1A69', '1A6A', '1A6C', '1A6D', '1A6E', '1A6F', '1A6G', '1A6I', '1A6J', '1A6K', '1A6L', '1A6M', '1A6N', '1A6P', '1A6Q', '1A6R', '1A6T', '1A6U', '1A6V', '1A6W', '1A6Y', '1A6Z', '1A70', '1A71', '1A72', '1A73', '1A74', '1A75', '1A76', '1A77', '1A78', '1A79', '1A7A', '1A7B', '1A7C', '1A7D', '1A7E', '1A7G', '1A7H', '1A7J', '1A7K', '1A7L', '1A7N', '1A7O', '1A7P', '1A7Q', '1A7R', '1A7S', '1A7T', '1A7U', '1A7V', '1A7W', '1A7X', '1A7Y', '1A7Z', '1A80', '1A81', '1A82', '1A85', '1A86', '1A87', '1A88', '1A8A', '1A8B', '1A8D', '1A8E', '1A8F', '1A8G', '1A8H', '1A8I', '1A8J', '1A8K', '1A8L', '1A8M', '1A8O', '1A8P', '1A8Q', '1A8R', '1A8S', '1A8T', '1A8U', '1A8V', '1A8Y', '1A8Z', '1A92', '1A94', '1A95', '1A96', '1A97', '1A98', '1A99', '1A9B', '1A9C', '1A9E', '1A9M', '1A9N', '1A9O', '1A9P', '1A9Q', '1A9R', '1A9S', '1A9T', '1A9U', '1A9W', '1A9X', '1A9Y', '1A9Z', '1AA0', '1AA1', '1AA2', '1AA4', '1AA6', '1AA7', '1AAC', '1AAJ', '1AAL', '1AAM', '1AAN', '1AAP', '1AAQ', '1AAR', '1AAT', '1AAW', '1AAX', '1AAY', '1AAZ', '1AB0', '1AB4', '1AB5', '1AB6', '1AB8', '1AB9', '1ABA', '1ABB', '1ABE', '1ABF', '1ABI', '1ABJ', '1ABN', '1ABO', '1ABQ', '1ABR', '1ABS', '1ABW', '1ABY', '1AC1', '1AC4', '1AC5', '1AC6', '1AC8', '1ACB', '1ACC', '1ACD', '1ACF', '1ACJ', '1ACL', '1ACM', '1ACO', '1ACV', '1ACX', '1ACY', '1AD0', '1AD1', '1AD2', '1AD3', '1AD4', '1AD5', '1AD6', '1AD8', '1AD9', '1ADB', '1ADC', '1ADD', '1ADE', '1ADF', '1ADG', '1ADI', '1ADJ', '1ADL', '1ADO', '1ADQ', '1ADS', '1ADU', '1ADV', '1ADW', '1ADY', '1AE1', '1AE2', '1AE3', '1AE4', '1AE5', '1AE6', '1AE7', '1AE8', '1AE9', '1AEB', '1AEC', '1AED', '1AEE', '1AEF', '1AEG', '1AEH', '1AEI', '1AEJ', '1AEK', '1AEM', '1AEN', '1AEO', '1AEP', '1AEQ', '1AER', '1AES', '1AET', '1AEU', '1AEV', '1AEW', '1AEX', '1AF0', '1AF3', '1AF4', '1AF5', '1AF6', '1AF7', '1AF9', '1AFA', '1AFB', '1AFC', '1AFD', '1AFE', '1AFK', '1AFL', '1AFQ', '1AFR', '1AFS', '1AFU', '1AFV', '1AFW', '1AG0', '1AG1', '1AG6', '1AG8', '1AG9', '1AGB', '1AGC', '1AGD', '1AGE', '1AGF', '1AGI', '1AGJ', '1AGL', '1AGM', '1AGN', '1AGP', '1AGQ', '1AGR', '1AGS', '1AGW', '1AGX', '1AGY', '1AH0', '1AH3', '1AH4', '1AH5', '1AH6', '1AH7', '1AH8', '1AHA', '1AHB', '1AHC', '1AHE', '1AHF', '1AHG', '1AHH', '1AHI', '1AHJ', '1AHN', '1AHO', '1AHP', '1AHQ', '1AHR', '1AHS', '1AHT', '1AHU', '1AHV', '1AHW', '1AHX', '1AHY', '1AHZ', '1AI1', '1AI2', '1AI3', '1AI4', '1AI5', '1AI6', '1AI7', '1AI8', '1AI9', '1AIA', '1AIB', '1AIC', '1AID', '1AIE', '1AIF', '1AIG', '1AIH', '1AII', '1AIJ', '1AIK', '1AIL', '1AIM', '1AIN', '1AIO', '1AIP', '1AIQ', '1AIR', '1AIS', '1AIU', '1AIV', '1AIX', '1AIZ', '1AJ0', '1AJ2', '1AJ5', '1AJ6', '1AJ7', '1AJ8', '1AJ9', '1AJA', '1AJB', '1AJC', '1AJD', '1AJG', '1AJH', '1AJJ', '1AJK', '1AJM', '1AJN', '1AJO', '1AJP', '1AJQ', '1AJR', '1AJS', '1FYK', '1FYL', '1FYM', '1FYN', '1FYR', '1FYS', '1FYT', '1FYU', '1FYV', '1FYW', '1FYZ', '1FZ0', '1FZ1', '1FZ2', '1FZ3', '1FZ4', '1FZ5', '1FZ6', '1FZ7', '1FZ8', '1FZ9', '1FZA', '1FZB', '1FZC', '1FZD', '1FZE', '1FZF', '1FZG', '1FZH', '1FZI', '1FZJ', '1FZK', '1FZM', '1FZO', '1FZP', '1FZQ', '1FZR', '1FZU', '1FZV', '1FZW', '1FZY', '1G01', '1G02', '1G05', '1G08', '1G09', '1G0A', '1G0B', '1G0C', '1G0D', '1G0H', '1G0I', '1G0N', '1G0O', '1G0R', '1G0S', '1G0T', '1G0U', '1G0V', '1G0W', '1G0X', '1G0Y', '1G15', '1G16', '1G17', '1G18', '1G19', '1G1A', '1G1C', '1G1D', '1G1F', '1G1G', '1G1H', '1G1I', '1G1J', '1G1K', '1G1L', '1G1O', '1G1Q', '1G1R', '1G1S', '1G1T', '1G1V', '1G1W', '1G1X', '1G1Y', '1G20', '1G21', '1G23', '1G24', '1G28', '1G2C', '1G2E', '1G2J', '1G2K', '1G2L', '1G2M', '1G2N', '1G2O', '1G2P', '1G2Q', '1G2R', '1G2V', '1G2W', '1G2Y', '1G2Z', '1G30', '1G31', '1G32', '1G33', '1G35', '1G36', '1G37', '1G39', '1G3B', '1G3C', '1G3D', '1G3E', '1G3I', '1G3J', '1G3K', '1G3L', '1G3M', '1G3P', '1G3Q', '1G3R', '1G3U', '1G3V', '1G3X', '1G3Z', '1G40', '1G41', '1G42', '1G43', '1G44', '1G45', '1G48', '1G4A', '1G4B', '1G4C', '1G4E', '1G4I', '1G4J', '1G4K', '1G4M', '1G4O', '1G4P', '1G4R', '1G4S', '1G4T', '1G4U', '1G4V', '1G4W', '1G4Y', '1G50', '1G52', '1G53', '1G54', '1G55', '1G57', '1G58', '1G59', '1G5A', '1G5B', '1G5C', '1G5G', '1G5I', '1G5N', '1G5P', '1G5Q', '1G5R', '1G5T', '1G5U', '1G5X', '1G5Z', '1G60', '1G61', '1G62', '1G64', '1G65', '1G66', '1G67', '1G68', '1G69', '1G6A', '1G6C', '1G6D', '1G6G', '1G6H', '1G6K', '1G6O', '1G6Q', '1G6R', '1G6U', '1G6V', '1G6W', '1G6X', '1G71', '1G72', '1G73', '1G75', '1G7A', '1G7B', '1G7C', '1G7F', '1G7G', '1G7K', '1G7P', '1G7Q', '1G7R', '1G7S', '1G7T', '1G7U', '1G7V', '1G7Y', '1G82', '1G83', '1G85', '1G86', '1G88', '1G8F', '1G8G', '1G8H', '1G8I', '1G8J', '1G8K', '1G8L', '1G8N', '1G8P', '1G8Q', '1G8R', '1G8T', '1G8U', '1G8V', '1G8Y', '1G8Z', '1G93', '1G95', '1G96', '1G97', '1G98', '1G99', '1G9A', '1G9B', '1G9C', '1G9D', '1G9G', '1G9J', '1G9K', '1G9O', '1G9R', '1G9S', '1G9T', '1G9U', '1G9W', '1G9X', '1G9Y', '1G9Z', '1GA1', '1GA7', '1GA8', '1GA9', '1GAD', '1GAE', '1GAF', '1GAG', '1GAH', '1GAI', '1GAJ', '1GAK', '1GAL', '1GAM', '1GAN', '1GAQ', '1GAR', '1GAV', '1GAW', '1GAX', '1GBA', '1GBB', '1GBC', '1GBD', '1GBE', '1GBF', '1GBG', '1GBH', '1GBI', '1GBJ', '1GBK', '1GBL', '1GBM', '1GBN', '1GBS', '1GBT', '1BZL', '1BZM', '1BZO', '1BZQ', '1BZS', '1BZX', '1BZY', '1BZZ', '1C02', '1C04', '1C08', '1C09', '1C0A', '1C0B', '1C0E', '1C0F', '1C0M', '1C0Q', '1C0R', '1C0T', '1C0U', '1C0W', '1C10', '1C12', '1C14', '1C16', '1C1A', '1C1B', '1C1C', '1C1D', '1C1E', '1C1F', '1C1G', '1C1J', '1C1K', '1C1L', '1C1M', '1C1X', '1C1Y', '1C21', '1C22', '1C23', '1C24', '1C25', '1C27', '1C28', '1C29', '1C2B', '1C2O', '1C2R', '1C2Y', '1C30', '1C39', '1C3A', '1C3B', '1C3C', '1C3D', '1C3G', '1C3H', '1C3I', '1C3J', '1C3K', '1C3L', '1C3M', '1C3N', '1C3O', '1C3P', '1C3Q', '1C3R', '1C3S', '1C3W', '1C41', '1C44', '1C45', '1C46', '1C48', '1C4A', '1C4C', '1C4P', '1C4R', '1C4T', '1C4X', '1C4Z', '1C50', '1C51', '1C52', '1C53', '1C58', '1C5B', '1C5C', '1C5E', '1C5G', '1C5H', '1C5I', '1C5K', '1C60', '1C61', '1C62', '1C63', '1C64', '1C65', '1C66', '1C67', '1C68', '1C69', '1C6A', '1C6B', '1C6C', '1C6D', '1C6E', '1C6F', '1C6G', '1C6H', '1C6I', '1C6J', '1C6K', '1C6L', '1C6M', '1C6N', '1C6P', '1C6Q', '1C6T', '1C6X', '1C6Y', '1C6Z', '1C70', '1C72', '1C74', '1C76', '1C77', '1C78', '1C79', '1C7B', '1C7F', '1C7G', '1C7H', '1C7I', '1C7J', '1C7N', '1C7O', '1C7P', '1C7Q', '1C7R', '1C7T', '1C7Y', '1C7Z', '1C80', '1C81', '1C82', '1C83', '1C84', '1C85', '1C86', '1C87', '1C88', '1C8B', '1C8H', '1C8I', '1C8J', '1C8K', '1C8L', '1C8N', '1C8O', '1C8R', '1C8S', '1C8T', '1C8U', '1C8V', '1C8Z', '1C9B', '1C9C', '1C9D', '1C9E', '1C9H', '1C9K', '1C9S', '1C9W', '1C9Y', '1C9Z', '1CA0', '1CA1', '1CA2', '1CA3', '1CA4', '1CA7', '1CA8', '1CAA', '1CAD', '1CAG', '1CAH', '1CAI', '1CAJ', '1CAK', '1CAL', '1CAM', '1CAN', '1CAO', '1CAQ', '1CAU', '1CAV', '1CAW', '1CAX', '1CAY', '1CAZ', '1CB0', '1CB2', '1CB4', '1CB5', '1CB8', '1CBF', '1CBG', '1CBI', '1CBJ', '1CBK', '1CBL', '1CBM', '1CBN', '1CBQ', '1CBR', '1CBS', '1CBU', '1CBV', '1CBW', '1CBX', '1CBY', '1CC0', '1CC1', '1CC3', '1CC4', '1CC5', '1CC6', '1CC7', '1CCA', '1CCB', '1CCC', '1CCD', '1CCE', '1CCG', '1CCI', '1CCJ', '1CCK', '1CCL', '1CCP', '1CCR', '1CCS', '1CCT', '1CCU', '1CCW', '1CCZ', '1CD0', '1CD1', '1CD5', '1CD8', '1CD9', '1CDC', '1CDD', '1CDE', '1CDG', '1CDH', '1CDI', '1CDJ', '1CDK', '1CDL', '1CDM', '1CDO', '1CDP', '1CDT', '1CDU', '1CDW', '1CDY', '1CDZ', '1CE0', '1CE1', '1CE5', '1CE6', '1CE7', '1CE8', '1CE9', '1CEA', '1CEB', '1CEC', '1CEF', '1CEG', '1CEH', '1CEI', '1CEL', '1CEM', '1CEN', '1CEO', '1CEQ', '1CER', '1CES', '1CET', '1CEV', '1CEW', '1CEX', '1CEZ', '1CF0', '1CF1', '1CF2', '1CF3', '1CF7', '1CF8', '1CF9', '1CFB', '1CFJ', '1CFM', '1CFN', '1CFQ', '1CFR', '1CFS', '1CFT', '1CFV', '1CFW', '1CFY', '1CFZ', '1CG2', '1CG5', '1CG6', '1CG8', '1CG9', '1CGC', '1CGD', '1CGE', '1CGF', '1CGH', '1CGI', '1CGJ', '1CGK', '1CGL', '1CGN', '1CGO', '1CGQ', '1CGS', '1CGT', '1CGU', '1CGV', '1CGW', '1CGX', '1CGY', '1CGZ', '1CH0', '1CH1', '1CH2', '1CH3', '1CH4', '1CH5', '1CH7', '1CHD', '1CHG', '1CHH', '1CHI', '1CHJ', '1CHK', '1CHM', '1CHN', '1CHO', '1CHP', '1CHU', '1CHW', '1CHZ', '1CI0', '1CI1', '1CI3', '1CI4', '1CI6', '1CI7', '1CIA', '1CID', '1CIE', '1CIF', '1CIG', '1CIH', '1CII', '1CIJ', '1CIK', '1CIL', '1CIM', '1CIN', '1CIO', '1CIP', '1CIQ', '1CIT', '1CIU', '1CIV', '1CIY', '1CIZ', '1CJ0', '1CJ2', '1CJ3', '1CJ4', '1CJ6', '1CJ7', '1CJ8', '1CJ9', '1CJA', '1CJB', '1CJC', '1CJD', '1CJE', '1CJF', '1CJK', '1CJL', '1CJM', '1CJP', '1CJS', '1CJT', '1CJU', '1CJV', '1CJW', '1CJX', '1CJY', '1CK0', '1CK1', '1CK4', '1CK6', '1CK7', '1CKA', '1CKB', '1CKC', '1CKD', '1CKE', '1CKF', '1CKG', '1CKH', '1CKI', '1CKJ', '1CKL', '1CKM', '1CKN', '1CKO', '1CKP', '1CKQ', '1CKS', '1CKT', '1CKU', '1CL0', '1CL1', '1CL2', '1CL5', '1CL6', '1CL7', '1CL8', '1CLA', '1CLC', '1CLE', '1CLL', '1CLM', '1CLO', '1CLP', '1CLQ', '1CLS', '1CLU', '1CLV', '1CLW', '1CLX', '1CLY', '1CLZ', '1CM0', '1CM1', '1CM2', '1CM3', '1CM4', '1CM5', '1CM8', '1CM9', '1CMA', '1CMB', '1CMC', '1CMI', '1CMJ', '1CMK', '1CML', '1B72', '1B73', '1B74', '1B77', '1B78', '1B79', '1B7A', '1B7B', '1B7D', '1B7F', '1B7G', '1B7H', '1B7I', '1B7J', '1B7K', '1B7L', '1B7M', '1B7N', '1B7O', '1B7P', '1B7Q', '1B7R', '1B7S', '1B7T', '1B7U', '1B7X', '1B7Z', '1B80', '1B82', '1B85', '1B86', '1B87', '1B88', '1B89', '1B8C', '1B8D', '1B8E', '1B8F', '1B8G', '1B8H', '1B8I', '1B8K', '1B8L', '1B8M', '1B8N', '1B8O', '1B8P', '1B8U', '1B8V', '1B8X', '1B8Z', '1B90', '1B92', '1B94', '1B95', '1B96', '1B97', '1B98', '1B99', '1B9A', '1B9B', '1B9C', '1B9D', '1B9E', '1B9F', '1B9H', '1B9I', '1B9J', '1B9K', '1B9L', '1B9M', '1B9N', '1B9S', '1B9T', '1B9V', '1B9W', '1B9X', '1B9Y', '1B9Z', '1BA0', '1BA1', '1BA2', '1BA3', '1BA7', '1BA8', '1BAB', '1BAF', '1BAG', '1BAI', '1BAJ', '1BAM', '1BAN', '1BAO', '1BAP', '1BAR', '1BAS', '1BAV', '1BAW', '1BAY', '1BAZ', '1BB0', '1BB1', '1BB3', '1BB4', '1BB5', '1BB6', '1BB7', '1BB9', '1BBB', '1BBC', '1BBD', '1BBH', '1BBJ', '1BBP', '1BBR', '1BBS', '1BBT', '1BBU', '1BBW', '1BBZ', '1BC0', '1BC1', '1BC2', '1BC3', '1BC5', '1BC7', '1BC8', '1BCC', '1BCD', '1BCF', '1BCG', '1BCH', '1BCJ', '1BCK', '1BCM', '1BCO', '1BCP', '1BCR', '1BCS', '1BCU', '1BCW', '1BCX', '1BCY', '1BCZ', '1BD0', '1BD1', '1BD2', '1BD3', '1BD4', '1BD7', '1BD8', '1BD9', '1BDA', '1BDB', '1BDF', '1BDG', '1BDH', '1BDI', '1BDJ', '1BDL', '1BDM', '1BDN', '1BDO', '1BDQ', '1BDR', '1BDT', '1BDU', '1BDV', '1BDW', '1BDX', '1BDY', '1BE0', '1BE3', '1BE4', '1BE6', '1BE7', '1BE8', '1BE9', '1BEA', '1BEB', '1BEC', '1BED', '1BEE', '1BEH', '1BEJ', '1BEK', '1BEL', '1BEM', '1BEN', '1BEO', '1BEP', '1BEQ', '1BES', '1BET', '1BEU', '1BEV', '1BEX', '1BEY', '1BEZ', '1BF2', '1BF3', '1BF4', '1BF6', '1BFA', '1BFB', '1BFC', '1BFD', '1BFE', '1BFF', '1BFG', '1BFK', '1BFN', '1BFO', '1BFP', '1BFR', '1BFS', '1BFT', '1BFU', '1BFV', '1BG0', '1BG1', '1BG2', '1BG3', '1BG4', '1BG5', '1BG6', '1BG7', '1BG8', '1BG9', '1BGA', '1BGB', '1BGC', '1BGD', '1BGE', '1BGF', '1BGG', '1BGI', '1BGJ', '1BGN', '1BGO', '1BGP', '1BGQ', '1BGS', '1BGT', '1BGU', '1BGV', '1BGW', '1BGX', '1BGY', '1BH0', '1BH2', '1BH3', '1BH5', '1BH6', '1BH8', '1BH9', '1BHC', '1BHD', '1BHE', '1BHF', '1BHG', '1BHH', '1BHJ', '1BHL', '1BHM', '1BHN', '1BHO', '1BHP', '1BHQ', '1BHS', '1BHT', '1BHW', '1BHX', '1BHY', '1BHZ', '1BI0', '1BI1', '1BI2', '1BI3', '1BI4', '1BI5', '1BI7', '1BI8', '1BI9', '1BIA', '1BIB', '1BIC', '1BID', '1BIF', '1BIH', '1BII', '1BIJ', '1BIK', '1BIL', '1BIM', '1BIN', '1BIO', '1BIQ', '1BIR', '1BIS', '1BIT', '1BIU', '1BIW', '1BIX', '1BIY', '1BIZ', '1BJ1', '1BJ5', '1BJ7', '1BJ9', '1BJA', '1BJE', '1BJF', '1BJG', '1BJI', '1BJJ', '1BJK', '1BJM', '1BJN', '1BJO', '1BJP', '1BJQ', '1BJR', '1BJT', '1BJU', '1BJV', '1BJW', '1BJZ', '1BK0', '1BK1', '1BK2', '1BK5', '1BK6', '1BK7', '1BK9', '1BKA', '1BKB', '1BKC', '1BKD', '1BKE', '1BKF', '1BKG', '1BKH', '1BKJ', '1BKL', '1BKM', '1BKN', '1BKO', '1BKP', '1BKR', '1BKS', '1BKV', '1BKW', '1BKX', '1BKY', '1BKZ', '1BL0', '1BL3', '1BL4', '1BL5', '1BL6', '1BL7', '1BL9', '1BLB', '1BLC', '1BLE', '1BLF', '1BLH', '1BLI', '1BLL', '1BLN', '1BLP', '1BLS', '1BLU', '1BLX', '1BLZ', '1BM0', '1BM1', '1BM2', '1BM7', '1BM8', '1BM9', '1BMA', '1BMB', '1BMC', '1BMD', '1BMF', '1BMG', '1BML', '1BMM', '1BMN', '1BMO', '1BMP', '1BMQ', '1BMS', '1BMT', '1BMV', '1BMZ', '1BN1', '1BN3', '1BN4', '1BN5', '1BN6', '1BN7', '1BN8', '1BNA', '1BNC', '1BND', '1BNE', '1BNF', '1BNG', '1BNI', '1BNJ', '1BNK', '1BNL', '1BNM', '1BNN', '1BNQ', '1BNS', '1BNT', '1BNU', '1BNV', '1BNW', '1BO1', '1BO4', '1BO5', '1BO6', '1BO7', '1BO8', '1BOA', '1BOB', '1BOF', '1BOG', '1BOH', '1BOI', '1BOL', '1BOO', '1BOQ', '1BOS', '1BOT', '1BOU', '1BOW', '1BOX', '1BOY', '1BP0', '1BP1', '1BP2', '1BP3', '1BP5', '1BP6', '1BP7', '1BPB', '1BPD', '1BPE', '1BPH', '1BPI', '1BPJ', '1BPL', '1BPM', '1BPN', '1BPO', '1BPQ', '1BPT', '1BPW', '1BPX', '1BPZ', '1BQ1', '1BQ2', '1BQ3', '1BQ4', '1BQ5', '1BQ6', '1BQ7', '1BQA', '1BQB', '1BQC', '1BQD', '1BQE', '1BQG', '1BQH', '1BQI', '1BQJ', '1BQK', '1BQL', '1BQM', '1BQN', '1BQO', '1BQP', '1BQQ', '1BQR', '1BQS', '1BQU', '1BQY', '1BR1', '1BR2', '1BR3', '1BR4', '1BR8', '1BR9', '1BRA', '1BRB', '1BRC', '1BRE', '1BRG', '1BRH', '1BRI', '1BRJ', '1BRK', '1BRL', '1BRM', '1BRN', '1BRO', '1BRP', '1BRQ', '1BRR', '1BRS', '1BRT', '1BRU', '1BRW', '1BRX', '1BRY', '1BS0', '1BS3', '1BS4', '1BS5', '1BS6', '1BS7', '1BS8', '1BS9', '1BSA', '1BSB', '1BSC', '1BSD', '1BSE', '1BSF', '1BSG', '1BSI', '1BSL', '1BSM', '1BSO', '1BSP', '1BSQ', '1BSR', '1BSU', '1BSW', '1BSX', '1BSY', '1BSZ', '1BT1', '1BT2', '1BT3', '1BT5', '1BT6', '1BT8', '1BTC', '1BTE', '1BTG', '1BTH', '1BTI', '1BTJ', '1BTK', '1BTL', '1BTM', '1BTN', '1BTO', '1BTP', '1BTU', '1BTW', '1BTX', '1BTY', '1BTZ', '1BU1', '1BU2', '1BU3', '1BU4', '1BU5', '1BU6', '1BU7', '1BU8', '1BUA', '1BUC', '1BUD', '1BUE', '1BUG', '1BUH', '1DDE', '1DDH', '1DDI', '1DDJ', '1DDL', '1DDN', '1DDO', '1DDR', '1DDS', '1DDT', '1DDU', '1DDX', '1DDY', '1DDZ', '1DE4', '1DE5', '1DE6', '1DE7', '1DE8', '1DE9', '1DEA', '1DEE', '1DEG', '1DEH', '1DEI', '1DEJ', '1DEK', '1DEL', '1DEQ', '1DET', '1DEV', '1DEW', '1DF0', '1DF1', '1DF7', '1DF8', '1DFA', '1DFB', '1DFC', '1DFF', '1DFG', '1DFH', '1DFI', '1DFJ', '1DFK', '1DFL', '1DFM', '1DFN', '1DFO', '1DFP', '1DFQ', '1DFV', '1DFX', '1DG1', '1DG5', '1DG6', '1DG7', '1DG8', '1DGB', '1DGC', '1DGD', '1DGE', '1DGF', '1DGG', '1DGH', '1DGJ', '1DGK', '1DGL', '1DGM', '1DGP', '1DGS', '1DGW', '1DH3', '1DHF', '1DHG', '1DHI', '1DHJ', '1DHK', '1DHN', '1DHP', '1DHR', '1DHS', '1DHT', '1DHY', '1DI0', '1DI1', '1DI2', '1DI3', '1DI4', '1DI5', '1DI6', '1DI7', '1DI8', '1DI9', '1DIA', '1DIB', '1DIC', '1DID', '1DIE', '1DIF', '1DIG', '1DIH', '1DII', '1DIK', '1DIL', '1DIM', '1DIN', '1DIO', '1DIQ', '1DIR', '1DIT', '1DIV', '1DIY', '1DIZ', '1DJ0', '1DJ8', '1DJA', '1DJB', '1DJC', '1DJG', '1DJH', '1DJI', '1DJL', '1DJO', '1DJR', '1DJT', '1DJW', '1DJX', '1DJY', '1DJZ', '1DK0', '1DK1', '1DK4', '1DK5', '1DK7', '1DK8', '1DKA', '1DKD', '1DKG', '1DKH', '1DKI', '1DKJ', '1DKK', '1DKL', '1DKM', '1DKN', '1DKO', '1DKP', '1DKQ', '1DKS', '1DKT', '1DKW', '1DKX', '1DKY', '1DKZ', '1DL3', '1DL5', '1DL8', '1DLA', '1DLC', '1DLF', '1DLG', '1DLH', '1DLI', '1DLJ', '1DLK', '1DLO', '1DLR', '1DLS', '1DLW', '1DLY', '1DM1', '1DM2', '1DM6', '1DM7', '1DM8', '1DMA', '1DMB', '1DMG', '1DMI', '1DMJ', '1DMK', '1DML', '1DMM', '1DMN', '1DMP', '1DMQ', '1DMR', '1DMS', '1DMT', '1DMU', '1DMX', '1DMY', '1DN0', '1DN4', '1DN5', '1DN6', '1DN8', '1DN9', '1DNA', '1DNC', '1DNE', '1DNF', '1DNH', '1DNK', '1DNM', '1DNO', '1DNP', '1DNS', '1DNU', '1DNV', '1DNW', '1DO0', '1DO2', '1DO5', '1DO8', '1DOA', '1DOB', '1DOC', '1DOD', '1DOE', '1DOF', '1DOG', '1DOH', '1DOI', '1DOJ', '1DOK', '1DOL', '1DOR', '1DOS', '1DOT', '1DOV', '1DOW', '1DP4', '1DP5', '1DP6', '1DP7', '1DP8', '1DP9', '1DPB', '1DPC', '1DPD', '1DPE', '1DPF', '1DPG', '1DPH', '1DPI', '1DPJ', '1DPL', '1DPM', '1DPN', '1DPO', '1DPP', '1DPR', '1DPS', '1DPT', '1DPW', '1DPX', '1DPY', '1DQ3', '1DQ7', '1DQ9', '1DQA', '1DQD', '1DQE', '1DQF', '1DQG', '1DQH', '1DQI', '1DQJ', '1DQK', '1DQM', '1DQN', '1DQO', '1DQP', '1DQQ', '1DQR', '1DQT', '1DQV', '1DQY', '1DQZ', '1DR1', '1DR2', '1DR3', '1DR4', '1DR5', '1DR6', '1DR7', '1DR8', '1DR9', '1DRA', '1DRB', '1DRE', '1DRF', '1DRG', '1DRH', '1DRJ', '1DRK', '1DRM', '1DRT', '1DRU', '1DRV', '1DRW', '1DRY', '1DRZ', '1DS0', '1DS1', '1DS2', '1DS3', '1DS4', '1DS5', '1DS6', '1DSB', '1DSF', '1DSG', '1DSL', '1DSN', '1DSO', '1DSP', '1DSS', '1DST', '1DSU', '1DSX', '1DSY', '1DSZ', '1DT1', '1DT2', '1DT3', '1DT4', '1DT5', '1DT6', '1DT9', '1DTD', '1DTE', '1DTH', '1DTJ', '1DTL', '1DTN', '1DTO', '1DTP', '1DTQ', '1DTS', '1DTU', '1DTW', '1DTX', '1DTY', '1DTZ', '1DU0', '1DU3', '1DU4', '1DU5', '1DUA', '1DUB', '1DUC', '1DUD', '1DUE', '1DUH', '1DUI', '1DUK', '1DUL', '1DUN', '1DUO', '1DUP', '1DUQ', '1DUS', '1DUT', '1DUV', '1DUX', '1DUY', '1DUZ', '1DV3', '1DV6', '1DV7', '1DV8', '1DVA', '1DVB', '1DVE', '1DVF', '1DVG', '1DVI', '1DVJ', '1DVK', '1DVO', '1DVP', '1DVQ', '1DVR', '1DVS', '1DVT', '1DVU', '1DVX', '1DVY', '1DVZ', '1DW0', '1DW1', '1DW2', '1DW3', '1DW9', '1DWA', '1DWB', '1DWC', '1DWD', '1DWE', '1DWG', '1DWI', '1DWJ', '1DWK', '1DWO', '1DWP', '1DWQ', '1DWR', '1DWS', '1DWV', '1DWW', '1DWX', '1DX4', '1DXC', '1DXD', '1DXE', '1DXF', '1DXG', '1DXH', '1DXI', '1DXJ', '1DXK', '1DXL', '1DXM', '1DXP', '1DXR', '1DXT', '1DXU', '1DXV', '1DXX', '1DY2', '1DY3', '1DY5', '1DY7', '1DY8', '1DY9', '1DYA', '1DYB', '1DYC', '1DYD', '1DYE', '1DYF', '1DYG', '1DYH', '1DYI', '1DYJ', '1DYK', '1DYM', '1DYN', '1DYO', '1DYP', '1DYQ', '1DYR', '1DYT', '1DYU', '1DYZ', '1DZ0', '1DZ3', '1DZ4', '1DZ6', '1DZ8', '1DZ9', '1DZA', '1DZB', '1BUL', '1BUN', '1BUP', '1BUU', '1BUV', '1BUW', '1BUX', '1BV1', '1BV3', '1BV4', '1BV7', '1BV9', '1BVB', '1BVC', '1BVD', '1BVI', '1BVK', '1BVL', '1BVN', '1BVP', '1BVS', '1BVT', '1BVU', '1BVV', '1BVW', '1BVX', '1BVY', '1BW0', '1BW8', '1BW9', '1BWA', '1BWB', '1BWC', '1BWF', '1BWH', '1BWI', '1BWJ', '1BWK', '1BWL', '1BWN', '1BWO', '1BWP', '1BWQ', '1BWR', '1BWS', '1BWV', '1BWW', '1BX0', '1BX1', '1BX2', '1BX3', '1BX6', '1BX7', '1BX8', '1BX9', '1BXB', '1BXC', '1BXE', '1BXG', '1BXI', '1BXK', '1BXM', '1BXO', '1BXR', '1BXS', '1BXT', '1BXU', '1BXV', '1BXW', '1BXX', '1BXY', '1BXZ', '1BY2', '1BY3', '1BY4', '1BY5', '1BY7', '1BY9', '1BYA', '1BYB', '1BYC', '1BYD', '1BYE', '1BYF', '1BYG', '1BYH', '1BYI', '1BYO', '1BYP', '1BYQ', '1BYR', '1BYS', '1BYU', '1BYW', '1BZ0', '1BZ1', '1BZ5', '1BZ7', '1BZ9', '1BZA', '1BZC', '1BZH', '1BZJ', '1E77', '1E79', '1E7A', '1E7B', '1E7C', '1E7D', '1E7E', '1E7F', '1E7G', '1E7H', '1E7I', '1E7K', '1E7L', '1E7N', '1E7O', '1E7P', '1E7Q', '1E7R', '1E7S', '1E7U', '1E7V', '1E7W', '1E7Z', '1E80', '1E81', '1E82', '1E83', '1E84', '1E85', '1E86', '1E87', '1E89', '1E8A', '1E8C', '1E8D', '1E8F', '1E8G', '1E8H', '1E8I', '1E8K', '1E8M', '1E8N', '1E8O', '1E8S', '1E8T', '1E8U', '1E8V', '1E8W', '1E8X', '1E8Y', '1E8Z', '1E90', '1E92', '1E93', '1E94', '1E96', '1E97', '1E98', '1E99', '1E9A', '1E9B', '1E9C', '1E9D', '1E9E', '1E9G', '1E9H', '1E9I', '1E9L', '1E9M', '1E9N', '1E9O', '1E9P', '1E9Q', '1E9R', '1E9S', '1E9V', '1E9W', '1E9Y', '1E9Z', '1EA0', '1EA2', '1EA3', '1EA4', '1EA5', '1EA6', '1EA7', '1EA8', '1EA9', '1EAA', '1EAB', '1EAC', '1EAD', '1EAE', '1EAF', '1EAG', '1EAH', '1EAJ', '1EAM', '1EAP', '1EAR', '1EAS', '1EAT', '1EAU', '1EAV', '1EAW', '1EAX', '1EAY', '1EAZ', '1EB0', '1EB2', '1EB3', '1EB4', '1EB6', '1EB7', '1EB8', '1EB9', '1EBA', '1EBB', '1EBC', '1EBD', '1EBG', '1EBH', '1EBL', '1EBM', '1EBO', '1EBP', '1EBT', '1EBU', '1EBW', '1EBY', '1EBZ', '1EC0', '1EC1', '1EC2', '1EC3', '1EC5', '1EC6', '1EC7', '1EC8', '1EC9', '1ECA', '1ECB', '1ECC', '1ECD', '1ECE', '1ECF', '1ECG', '1ECJ', '1ECL', '1ECM', '1ECN', '1ECO', '1ECP', '1ECQ', '1ECR', '1ECS', '1ECV', '1ECW', '1ECX', '1ECY', '1ECZ', '1ED1', '1ED3', '1ED4', '1ED5', '1ED6', '1ED8', '1ED9', '1EDB', '1EDD', '1EDE', '1EDG', '1EDH', '1EDM', '1EDN', '1EDO', '1EDQ', '1EDR', '1EDT', '1EDU', '1EDY', '1EDZ', '1EE0', '1EE2', '1EE4', '1EE5', '1EE6', '1EE8', '1EED', '1EEF', '1EEH', '1EEI', '1EEJ', '1EEM', '1EEN', '1EEO', '1EEP', '1EEQ', '1EER', '1EET', '1EEU', '1EEX', '1EEY', '1EEZ', '1EF0', '1EF1', '1EF2', '1EF3', '1EF7', '1EFA', '1EFC', '1EFD', '1EFG', '1EFH', '1EFI', '1EFK', '1EFL', '1EFM', '1EFN', '1EFP', '1EFQ', '1EFR', '1EFT', '1EFU', '1EFV', '1EFW', '1EFX', '1EFZ', '1EG1', '1EG3', '1EG4', '1EG5', '1EG6', '1EG7', '1EG9', '1EGA', '1EGC', '1EGD', '1EGE', '1EGG', '1EGH', '1EGI', '1EGJ', '1EGK', '1EGM', '1EGN', '1EGP', '1EGQ', '1EGU', '1EGV', '1EGW', '1EGY', '1EGZ', '1EH1', '1EH3', '1EH6', '1EH7', '1EH8', '1EH9', '1EHA', '1EHB', '1EHC', '1EHE', '1EHF', '1EHG', '1EHK', '1EHL', '1EHN', '1EHY', '1EHZ', '1EI3', '1EI4', '1EI5', '1EI8', '1EIA', '1EIB', '1EIC', '1EID', '1EIE', '1EIF', '1EIL', '1EIS', '1EIX', '1EJ1', '1EJ2', '1EJ3', '1EJ7', '1EJ8', '1EJ9', '1EJC', '1EJD', '1EJE', '1EJF', '1EJI', '1EJJ', '1EJL', '1EJN', '1EJO', '1EJS', '1EJT', '1EJU', '1EJV', '1EJW', '1EJX', '1EJY', '1EK1', '1EK2', '1EK3', '1EK8', '1EK9', '1EKB', '1EKE', '1EKF', '1EKG', '1EKJ', '1EKK', '1EKL', '1EKM', '1EKP', '1EKQ', '1EKR', '1EKV', '1EKX', '1EL3', '1EL4', '1EL6', '1ELA', '1ELB', '1ELC', '1ELD', '1ELE', '1ELF', '1ELG', '1ELJ', '1ELK', '1ELO', '1ELP', '1ELQ', '1ELS', '1ELT', '1ELU', '1ELW', '1ELX', '1ELY', '1ELZ', '1EM0', '1EM2', '1EM6', '1EM8', '1EM9', '1EMA', '1EMB', '1EMC', '1EMD', '1EME', '1EMF', '1EMG', '1EMI', '1EMK', '1EML', '1EMM', '1EMR', '1EMS', '1EMV', '1EMY', '1EN2', '1EN3', '1EN4', '1EN5', '1EN6', '1EN7', '1EN8', '1EN9', '1ENA', '1ENC', '1ENE', '1ENH', '1ENI', '1ENJ', '1ENK', '1ENM', '1ENN', '1ENO', '1ENP', '1ENQ', '1ENR', '1ENS', '1ENT', '1ENU', '1ENX', '1ENY', '1ENZ', '1EO3', '1EO4', '1EO5', '1EO6', '1EO7', '1EOD', '1EOE', '1EOF', '1EOG', '1EOH', '1EOK', '1EOM', '1EON', '1EOO', '1EOP', '1EOS', '1EOU', '1EOV', '1EOW', '1EP0', '1EP4', '1EP5', '1EP6', '1EP7', '1EP8', '1EPA', '1EPF', '1EPL', '1EPM', '1EPN', '1EPO', '1EPP', '1EPQ', '1EPR', '1EPS', '1EPT', '1EPV', '1EPW', '1EPX', '1EPZ', '1EQ4', '1EQ5', '1EQ6', '1EQ7', '1EQ9', '1EQA', '1EQB', '1EQE', '1EQF', '1EQG', '1EQH', '1EQJ', '1EQM', '1EQN', '1EQQ', '1EQR', '1EQT', '1EQU', '1EQV', '1EQY', '1ER8', '1ERB', '1ERE', '1ERI', '1ERK', '1ERM', '1ERN', '1ERO', '1ERQ', '1ERR', '1ERT', '1ERU', '1ERV', '1ERW', '1ERZ', '1ES1', '1ES3', '1ES6', '1ES8', '1ES9', '1ESA', '1ESB', '1ESC', '1ESD', '1ESE', '1ESF', '1ESG', '1ESJ', '1ESL', '1ESM', '1ESN', '1ESO', '1ESP', '1ESQ', '1ESR', '1EST', '1ESV', '1ESW', '1ESZ', '1ET0', '1ET4', '1ET5', '1ET6', '1ET7', '1ET8', '1ET9', '1ETA', '1ETB', '1ETE', '1ETH', '1ETJ', '1ETK', '1ETL', '1ETM', '1ETN', '1ETO', '1ETP', '1ETQ', '1ETR', '1ETS', '1ETU', '1ETV', '1ETW', '1ETX', '1ETY', '1EU1', '1EU3', '1EU4', '1EUA', '1AJV', '1AJX', '1AJZ', '1AK0', '1AK1', '1AK2', '1AK4', '1AK5', '1AK9', '1AKA', '1AKB', '1AKC', '1AKD', '1AKE', '1AKG', '1AKH', '1AKI', '1AKJ', '1AKM', '1AKN', '1AKO', '1AKQ', '1AKR', '1AKS', '1AKT', '1AKU', '1AKV', '1AKW', '1AKY', '1AKZ', '1AL0', '1AL1', '1AL2', '1AL3', '1AL4', '1AL6', '1AL7', '1AL8', '1ALA', '1ALB', '1ALC', '1ALD', '1ALH', '1ALI', '1ALJ', '1ALK', '1ALL', '1ALQ', '1ALU', '1ALV', '1ALW', '1ALX', '1ALY', '1ALZ', '1AM1', '1AM2', '1AM4', '1AM5', '1AM6', '1AM7', '1AM9', '1AMA', '1AME', '1AMF', '1AMH', '1AMI', '1AMJ', '1AMK', '1AMM', '1AMN', '1AMO', '1AMP', '1AMQ', '1AMR', '1AMS', '1AMT', '1AMU', '1AMW', '1AMX', '1AMY', '1AMZ', '1AN0', '1AN1', '1AN2', '1AN4', '1AN5', '1AN7', '1AN8', '1AN9', '1ANA', '1ANB', '1ANC', '1AND', '1ANE', '1ANF', '1ANG', '1ANI', '1ANJ', '1ANK', '1ANN', '1ANT', '1ANU', '1ANV', '1ANW', '1ANX', '1AO0', '1AO3', '1AO5', '1AO6', '1AO7', '1AOA', '1AOB', '1AOC', '1AOD', '1AOE', '1AOF', '1AOG', '1AOH', '1AOI', '1AOJ', '1AOK', '1AOL', '1AOM', '1AON', '1AOP', '1AOQ', '1AOR', '1AOS', '1AOV', '1AOW', '1AOX', '1AOZ', '1AP2', '1AP5', '1AP6', '1AP9', '1APA', '1APB', '1APH', '1APL', '1APM', '1APN', '1APT', '1APU', '1APV', '1APW', '1APX', '1APY', '1APZ', '1AQ0', '1AQ1', '1AQ2', '1AQ3', '1AQ6', '1AQ7', '1AQ8', '1AQB', '1AQC', '1AQD', '1AQE', '1AQF', '1AQH', '1AQI', '1AQJ', '1AQK', '1AQL', '1AQM', '1AQN', '1AQP', '1AQT', '1AQU', '1AQV', '1AQW', '1AQX', '1AQZ', '1AR0', '1AR1', '1AR2', '1AR4', '1AR5', '1AR6', '1AR7', '1AR8', '1AR9', '1ARB', '1ARC', '1ARG', '1ARH', '1ARI', '1ARL', '1ARM', '1ARO', '1ARP', '1ARS', '1ART', '1ARU', '1ARV', '1ARW', '1ARX', '1ARY', '1ARZ', '1AS0', '1AS2', '1AS3', '1AS4', '1AS6', '1AS7', '1AS8', '1ASA', '1ASB', '1ASC', '1ASD', '1ASE', '1ASF', '1ASG', '1ASH', '1ASJ', '1ASK', '1ASL', '1ASM', '1ASN', '1ASO', '1ASP', '1ASQ', '1ASS', '1AST', '1ASU', '1ASV', '1ASW', '1ASX', '1ASY', '1ASZ', '1AT1', '1AT3', '1AT5', '1AT6', '1ATG', '1ATH', '1ATI', '1ATJ', '1ATK', '1ATL', '1ATN', '1ATP', '1ATR', '1ATS', '1ATT', '1ATU', '1ATZ', '1AU0', '1AU1', '1AU2', '1AU3', '1AU4', '1AU7', '1AU8', '1AU9', '1AUA', '1AUC', '1AUE', '1AUG', '1AUI', '1AUJ', '1AUK', '1AUM', '1AUN', '1AUO', '1AUP', '1AUQ', '1AUR', '1AUS', '1AUT', '1AUV', '1AUW', '1AUX', '1AUY', '1AV1', '1AV2', '1AV4', '1AV5', '1AV6', '1AV7', '1AV8', '1AVA', '1AVB', '1AVC', '1AVD', '1AVE', '1AVF', '1AVG', '1AVH', '1AVK', '1AVL', '1AVM', '1AVN', '1AVO', '1AVP', '1AVQ', '1AVR', '1AVS', '1AVT', '1AVU', '1AVV', '1AVW', '1AVX', '1AVY', '1AVZ', '1AW1', '1AW2', '1AW7', '1AW8', '1AW9', '1AWB', '1AWC', '1AWD', '1AWF', '1AWH', '1AWI', '1AWP', '1AWQ', '1AWR', '1AWS', '1AWT', '1AWU', '1AWV', '1AX0', '1AX1', '1AX2', '1AX4', '1AX8', '1AX9', '1AXA', '1AXB', '1AXC', '1AXD', '1AXE', '1AXG', '1AXI', '1AXK', '1AXM', '1AXN', '1AXQ', '1AXR', '1AXS', '1AXT', '1AXW', '1AXY', '1AXZ', '1AY0', '1AY1', '1AY2', '1AY4', '1AY5', '1AY6', '1AY7', '1AY8', '1AY9', '1AYA', '1AYB', '1AYC', '1AYD', '1AYE', '1AYF', '1AYI', '1AYL', '1AYM', '1AYN', '1AYO', '1AYP', '1AYR', '1AYU', '1AYV', '1AYW', '1AYX', '1AYY', '1AYZ', '1AZ0', '1AZ1', '1AZ2', '1AZ3', '1AZ4', '1AZ5', '1AZ8', '1AZB', '1AZC', '1AZD', '1AZF', '1AZI', '1AZL', '1AZM', '1AZN', '1AZO', '1AZP', '1AZQ', '1AZR', '1AZS', '1AZT', '1AZU', '1AZV', '1AZW', '1AZX', '1AZY', '1AZZ', '1B00', '1B01', '1B02', '1B04', '1B05', '1B06', '1B07', '1B08', '1B09', '1B0A', '1B0B', '1B0D', '1B0E', '1B0F', '1B0G', '1B0H', '1B0J', '1B0L', '1B0O', '1B0P', '1B0R', '1B0U', '1B0V', '1B0X', '1B0Y', '1B0Z', '1B11', '1B12', '1B13', '1B14', '1B15', '1B16', '1B17', '1B18', '1B19', '1B1B', '1B1H', '1B1I', '1B1J', '1B1U', '1B1X', '1B1Y', '1B1Z', '1B23', '1B24', '1B25', '1B26', '1B27', '1B2A', '1B2B', '1B2C', '1B2D', '1B2E', '1B2F', '1B2G', '1B2H', '1B2J', '1B2L', '1B2O', '1B2P', '1B2R', '1B2S', '1B2U', '1B2V', '1B2Y', '1B30', '1B31', '1B32', '1B33', '1B34', '1B35', '1B37', '1B38', '1B39', '1B3B', '1B3D', '1B3E', '1B3F', '1B3G', '1B3H', '1B3J', '1B3L', '1B3N', '1B3O', '1B3Q', '1B3R', '1B3S', '1B3T', '1B3U', '1B3V', '1B3W', '1B3X', '1B3Y', '1B3Z', '1B40', '1B41', '1B42', '1B43', '1B44', '1B46', '1B47', '1B48', '1B4A', '1B4B', '1B4D', '1B4F', '1B4H', '1B4J', '1B4K', '1B4L', '1B4N', '1B4S', '1B4T', '1B4U', '1B4W', '1B4X', '1B4Z', '1B51', '1B52', '1B54', '1B55', '1B56', '1B57', '1B58', '1B59', '1B5D', '1B5E', '1B5F', '1B5G', '1B5H', '1B5I', '1B5J', '1B5L', '1B5M', '1B5O', '1B5P', '1B5Q', '1B5S', '1B5T', '1B5U', '1B5V', '1B5W', '1B5X', '1B5Y', '1B5Z', '1B62', '1B63', '1B65', '1B66', '1B67', '1B68', '1B6A', '1B6B', '1B6C', '1B6D', '1B6E', '1B6G', '1B6H', '1B6J', '1B6K', '1B6L', '1B6M', '1B6P', '1B6Q', '1B6R', '1B6S', '1B6T', '1B6U', '1B6V', '1B6W', '1B6Z']\n"
     ]
    }
   ],
   "source": [
    "filtered_proteins = pdb.keys().collect()\n",
    "\n",
    "print(filtered_proteins)"
   ]
  },
  {
   "cell_type": "markdown",
   "metadata": {},
   "source": [
    "## Visualize 3D structures of filtered proteins"
   ]
  },
  {
   "cell_type": "code",
   "execution_count": 6,
   "metadata": {},
   "outputs": [
    {
     "data": {
      "application/vnd.jupyter.widget-view+json": {
       "model_id": "6105f253fc334cad9eeeb7e99f665eab",
       "version_major": 2,
       "version_minor": 0
      },
      "text/html": [
       "<p>Failed to display Jupyter Widget of type <code>interactive</code>.</p>\n",
       "<p>\n",
       "  If you're reading this message in the Jupyter Notebook or JupyterLab Notebook, it may mean\n",
       "  that the widgets JavaScript is still loading. If this message persists, it\n",
       "  likely means that the widgets JavaScript library is either not installed or\n",
       "  not enabled. See the <a href=\"https://ipywidgets.readthedocs.io/en/stable/user_install.html\">Jupyter\n",
       "  Widgets Documentation</a> for setup instructions.\n",
       "</p>\n",
       "<p>\n",
       "  If you're reading this message in another frontend (for example, a static\n",
       "  rendering on GitHub or <a href=\"https://nbviewer.jupyter.org/\">NBViewer</a>),\n",
       "  it may mean that your frontend doesn't currently support widgets.\n",
       "</p>\n"
      ],
      "text/plain": [
       "interactive(children=(IntSlider(value=0, description='i', max=4368), Output()), _dom_classes=('widget-interact',))"
      ]
     },
     "metadata": {},
     "output_type": "display_data"
    },
    {
     "data": {
      "text/plain": [
       "<function mmtfPyspark.structureViewer.simple_structure_viewer.<locals>.view3d>"
      ]
     },
     "execution_count": 6,
     "metadata": {},
     "output_type": "execute_result"
    }
   ],
   "source": [
    "simple_structure_viewer(filtered_proteins)"
   ]
  },
  {
   "cell_type": "markdown",
   "metadata": {},
   "source": [
    "## Terminate Spark "
   ]
  },
  {
   "cell_type": "code",
   "execution_count": 7,
   "metadata": {},
   "outputs": [],
   "source": [
    "sc.stop()"
   ]
  },
  {
   "cell_type": "code",
   "execution_count": null,
   "metadata": {
    "collapsed": true
   },
   "outputs": [],
   "source": []
  }
 ],
 "metadata": {
  "kernelspec": {
   "display_name": "Python 3",
   "language": "python",
   "name": "python3"
  },
  "language_info": {
   "codemirror_mode": {
    "name": "ipython",
    "version": 3
   },
   "file_extension": ".py",
   "mimetype": "text/x-python",
   "name": "python",
   "nbconvert_exporter": "python",
   "pygments_lexer": "ipython3",
   "version": "3.6.0"
  }
 },
 "nbformat": 4,
 "nbformat_minor": 2
}
