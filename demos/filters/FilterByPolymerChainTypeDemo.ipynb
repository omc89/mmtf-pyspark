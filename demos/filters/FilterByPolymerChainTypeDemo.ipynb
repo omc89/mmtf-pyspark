{
 "cells": [
  {
   "cell_type": "markdown",
   "metadata": {},
   "source": [
    "# Filter By Polymer Chain Type Demo\n",
    "\n",
    "Simple exmaple of reading an MMTF Hadoop Sequence file, filtering the entries by polymer chain type, L Protein Chain and D Saccharide Chain, and count the number of entires. This example also show show methods can be chained for a more concise syntax\n",
    "\n",
    "#### Supported polymer chain type includes  (Both string and class variable can be used a input parameter)\n",
    "\n",
    "* containsPolymerChainType.D_PEPTIDE_COOH_CARBOXY_TERMINUS = \"D-PEPTIDE COOH CARBOXY TERMINUS\"\n",
    "* containsPolymerChainType.D_PEPTIDE_NH3_AMINO_TERMINUS = \"D-PEPTIDE NH3 AMINO TERMINUS\"\n",
    "* containsPolymerChainType.D_PEPTIDE_LINKING = \"D-PEPTIDE LINKING\"\n",
    "* containsPolymerChainType.D_SACCHARIDE = \"D-SACCHARIDE\"\n",
    "* containsPolymerChainType.D_SACCHARIDE_14_and_14_LINKING = \"D-SACCHARIDE 1,4 AND 1,4 LINKING\"\n",
    "* containsPolymerChainType.D_SACCHARIDE_14_and_16_LINKING = \"D-SACCHARIDE 1,4 AND 1,6 LINKING\"\n",
    "* containsPolymerChainType.DNA_OH_3_PRIME_TERMINUS = \"DNA OH 3 PRIME TERMINUS\"\n",
    "* containsPolymerChainType.DNA_OH_5_PRIME_TERMINUS = \"DNA OH 5 PRIME TERMINUS\"\n",
    "* containsPolymerChainType.DNA_LINKING = \"DNA LINKING\"\n",
    "* containsPolymerChainType.L_PEPTIDE_COOH_CARBOXY_TERMINUS = \"L-PEPTIDE COOH CARBOXY TERMINUS\"\n",
    "* containsPolymerChainType.L_PEPTIDE_NH3_AMINO_TERMINUS = \"L-PEPTIDE NH3 AMINO TERMINUS\"\n",
    "* containsPolymerChainType.L_PEPTIDE_LINKING = \"L-PEPTIDE LINKING\"\n",
    "* containsPolymerChainType.L_SACCHARIDE = \"L-SACCHARIDE\"\n",
    "* containsPolymerChainType.L_SACCHARIDE_14_AND_14_LINKING = \"L-SACCHARDIE 1,4 AND 1,4 LINKING\"\n",
    "* containsPolymerChainType.L_SACCHARIDE_14_AND_16_LINKING = \"L-SACCHARIDE 1,4 AND 1,6 LINKING\"\n",
    "* containsPolymerChainType.PEPTIDE_LINKING = \"PEPTIDE LINKING\"\n",
    "* containsPolymerChainType.RNA_OH_3_PRIME_TERMINUS = \"RNA OH 3 PRIME TERMINUS\"\n",
    "* containsPolymerChainType.RNA_OH_5_PRIME_TERMINUS = \"RNA OH 5 PRIME TERMINUS\"\n",
    "* containsPolymerChainType.RNA_LINKING = \"RNA LINKING\"\n",
    "* containsPolymerChainType.NON_POLYMER = \"NON-POLYMER\"\n",
    "* containsPolymerChainType.OTHER = \"OTHER\"\n",
    "* containsPolymerChainType.SACCHARIDE = \"SACCHARIDE\"\n",
    "\n",
    "\n",
    "\n",
    "## Imports"
   ]
  },
  {
   "cell_type": "code",
   "execution_count": 1,
   "metadata": {},
   "outputs": [],
   "source": [
    "from pyspark import SparkConf, SparkContext\n",
    "from mmtfPyspark.io import mmtfReader\n",
    "from mmtfPyspark.filters import *\n",
    "from mmtfPyspark.structureViewer import simple_structure_viewer"
   ]
  },
  {
   "cell_type": "markdown",
   "metadata": {},
   "source": [
    "## Configure Spark"
   ]
  },
  {
   "cell_type": "code",
   "execution_count": 2,
   "metadata": {},
   "outputs": [],
   "source": [
    "conf = SparkConf().setMaster(\"local[*]\") \\\n",
    "                      .setAppName(\"FilterByPolymerChainType\")\n",
    "sc = SparkContext(conf = conf)"
   ]
  },
  {
   "cell_type": "markdown",
   "metadata": {},
   "source": [
    "## Read in MMTF Files, filter and count\n",
    "\n",
    "#### * Not filter returns the opposite of a particular filter*"
   ]
  },
  {
   "cell_type": "code",
   "execution_count": 3,
   "metadata": {},
   "outputs": [
    {
     "name": "stdout",
     "output_type": "stream",
     "text": [
      "Number of pure DNA and RNA entires: 227\n"
     ]
    }
   ],
   "source": [
    "path = \"../../resources/mmtf_reduced_sample/\"\n",
    "\n",
    "structures = mmtfReader.read_sequence_file(path, sc) \\\n",
    "                  .filter(ContainsPolymerChainType(\"DNA LINKING\", ContainsPolymerChainType.RNA_LINKING)) \\\n",
    "                  .filter(NotFilter(ContainsLProteinChain())) \\\n",
    "                  .filter(NotFilter(ContainsDSaccharideChain()))\n",
    "\n",
    "print(f\"Number of pure DNA and RNA entires: {structures.count()}\")"
   ]
  },
  {
   "cell_type": "markdown",
   "metadata": {},
   "source": [
    "## View Structures"
   ]
  },
  {
   "cell_type": "code",
   "execution_count": 4,
   "metadata": {},
   "outputs": [
    {
     "data": {
      "application/vnd.jupyter.widget-view+json": {
       "model_id": "ab0e4f00113c419b86e1f5a2a893ffc1",
       "version_major": 2,
       "version_minor": 0
      },
      "text/html": [
       "<p>Failed to display Jupyter Widget of type <code>interactive</code>.</p>\n",
       "<p>\n",
       "  If you're reading this message in the Jupyter Notebook or JupyterLab Notebook, it may mean\n",
       "  that the widgets JavaScript is still loading. If this message persists, it\n",
       "  likely means that the widgets JavaScript library is either not installed or\n",
       "  not enabled. See the <a href=\"https://ipywidgets.readthedocs.io/en/stable/user_install.html\">Jupyter\n",
       "  Widgets Documentation</a> for setup instructions.\n",
       "</p>\n",
       "<p>\n",
       "  If you're reading this message in another frontend (for example, a static\n",
       "  rendering on GitHub or <a href=\"https://nbviewer.jupyter.org/\">NBViewer</a>),\n",
       "  it may mean that your frontend doesn't currently support widgets.\n",
       "</p>\n"
      ],
      "text/plain": [
       "interactive(children=(IntSlider(value=0, description='i', max=226), Output()), _dom_classes=('widget-interact',))"
      ]
     },
     "metadata": {},
     "output_type": "display_data"
    },
    {
     "data": {
      "text/plain": [
       "<function mmtfPyspark.structureViewer.simple_structure_viewer.<locals>.view3d>"
      ]
     },
     "execution_count": 4,
     "metadata": {},
     "output_type": "execute_result"
    }
   ],
   "source": [
    "structure_names = structures.keys().collect()\n",
    "simple_structure_viewer(structure_names, style='sphere')"
   ]
  },
  {
   "cell_type": "markdown",
   "metadata": {},
   "source": [
    "## Terminate Spark "
   ]
  },
  {
   "cell_type": "code",
   "execution_count": 5,
   "metadata": {},
   "outputs": [],
   "source": [
    "sc.stop()"
   ]
  }
 ],
 "metadata": {
  "kernelspec": {
   "display_name": "Python 3",
   "language": "python",
   "name": "python3"
  },
  "language_info": {
   "codemirror_mode": {
    "name": "ipython",
    "version": 3
   },
   "file_extension": ".py",
   "mimetype": "text/x-python",
   "name": "python",
   "nbconvert_exporter": "python",
   "pygments_lexer": "ipython3",
   "version": "3.6.0"
  }
 },
 "nbformat": 4,
 "nbformat_minor": 2
}
