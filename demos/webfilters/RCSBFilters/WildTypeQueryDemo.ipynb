{
 "cells": [
  {
   "cell_type": "markdown",
   "metadata": {},
   "source": [
    "# Wild Type Query Demo\n",
    "\n",
    "This Demo shows how to read in some Hadoop sequence file and filter the pdb structures by it's wild type.\n",
    "\n",
    "![RCSB PDB](https://cdn.rcsb.org/rcsb-pdb/v2/common/images/Logo_wwpdb.png)\n",
    "\n",
    "## Imports"
   ]
  },
  {
   "cell_type": "code",
   "execution_count": 1,
   "metadata": {
    "collapsed": true
   },
   "outputs": [],
   "source": [
    "from pyspark import SparkConf, SparkContext\n",
    "from mmtfPyspark.io import MmtfReader\n",
    "from mmtfPyspark.webFilters import WildTypeQuery"
   ]
  },
  {
   "cell_type": "markdown",
   "metadata": {},
   "source": [
    "## Configure Spark"
   ]
  },
  {
   "cell_type": "code",
   "execution_count": 2,
   "metadata": {
    "collapsed": true
   },
   "outputs": [],
   "source": [
    "conf = SparkConf().setMaster(\"local[*]\") \\\n",
    "                  .setAppName(\"wildTypeQuery\")\n",
    "sc = SparkContext(conf = conf)"
   ]
  },
  {
   "cell_type": "markdown",
   "metadata": {},
   "source": [
    "## Read in Haddop Sequence Files and filter by WildType"
   ]
  },
  {
   "cell_type": "code",
   "execution_count": 4,
   "metadata": {
    "collapsed": true
   },
   "outputs": [],
   "source": [
    "path = \"../../resources/mmtf_reduced_sample/\"\n",
    "\n",
    "pdb = MmtfReader.read_sequence_file(path, sc) \\\n",
    "                .filter(WildTypeQuery(includeExpressionTags = True, percentSequenceCoverage = WildTypeQuery.SEQUENCE_COVERAGE_95))"
   ]
  },
  {
   "cell_type": "markdown",
   "metadata": {},
   "source": [
    "## Count results and show top 5 structures"
   ]
  },
  {
   "cell_type": "code",
   "execution_count": 5,
   "metadata": {
    "collapsed": false
   },
   "outputs": [
    {
     "name": "stdout",
     "output_type": "stream",
     "text": [
      "Number of structures after filtering : 1441\n"
     ]
    },
    {
     "data": {
      "text/plain": [
       "[('1GBS', <mmtfPyspark.io.mmtfStructure.mmtfStructure at 0x7f222c72aa20>),\n",
       " ('1GAX', <mmtfPyspark.io.mmtfStructure.mmtfStructure at 0x7f2227ddd748>),\n",
       " ('1GAR', <mmtfPyspark.io.mmtfStructure.mmtfStructure at 0x7f2227ce5ac8>),\n",
       " ('1GAL', <mmtfPyspark.io.mmtfStructure.mmtfStructure at 0x7f2227cf5ac8>),\n",
       " ('1GAJ', <mmtfPyspark.io.mmtfStructure.mmtfStructure at 0x7f2227d01be0>)]"
      ]
     },
     "execution_count": 5,
     "metadata": {},
     "output_type": "execute_result"
    }
   ],
   "source": [
    "count = pdb.count()\n",
    "\n",
    "print(f\"Number of structures after filtering : {count}\")\n",
    "\n",
    "pdb.top(5)"
   ]
  },
  {
   "cell_type": "markdown",
   "metadata": {},
   "source": [
    "## Terminate Spark"
   ]
  },
  {
   "cell_type": "code",
   "execution_count": 6,
   "metadata": {
    "collapsed": true
   },
   "outputs": [],
   "source": [
    "sc.stop()"
   ]
  }
 ],
 "metadata": {
  "kernelspec": {
   "display_name": "Python 3",
   "language": "python",
   "name": "python3"
  },
  "language_info": {
   "codemirror_mode": {
    "name": "ipython",
    "version": 3
   },
   "file_extension": ".py",
   "mimetype": "text/x-python",
   "name": "python",
   "nbconvert_exporter": "python",
   "pygments_lexer": "ipython3",
   "version": "3.6.0"
  }
 },
 "nbformat": 4,
 "nbformat_minor": 2
}
