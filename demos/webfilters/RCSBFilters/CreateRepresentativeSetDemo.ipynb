{
 "cells": [
  {
   "cell_type": "markdown",
   "metadata": {},
   "source": [
    "# Create Representative Set Demo\n",
    "\n",
    "This Demo shows how to create a representative set by reading in Hadoop sequence files, filter by BlastClusters, flatMap to polymerChains, and filter again AMINO_ACIDS polymer composition.\n",
    "\n",
    "![RCSB PDB](https://cdn.rcsb.org/rcsb-pdb/v2/common/images/Logo_wwpdb.png)\n",
    "\n",
    "## Imports"
   ]
  },
  {
   "cell_type": "code",
   "execution_count": 2,
   "metadata": {
    "collapsed": false
   },
   "outputs": [],
   "source": [
    "from pyspark import SparkConf, SparkContext\n",
    "from mmtfPyspark.io import mmtfReader, mmtfWriter\n",
    "from mmtfPyspark.mappers import structureToPolymerChains\n",
    "from mmtfPyspark.filters import polymerComposition\n",
    "from mmtfPyspark.webFilters import Pisces"
   ]
  },
  {
   "cell_type": "markdown",
   "metadata": {},
   "source": [
    "## Configure Spark"
   ]
  },
  {
   "cell_type": "code",
   "execution_count": 3,
   "metadata": {
    "collapsed": false
   },
   "outputs": [],
   "source": [
    "conf = SparkConf().setMaster(\"local[*]\") \\\n",
    "                  .setAppName(\"CreateRepresentativeSetDemo\")\n",
    "sc = SparkContext(conf = conf)"
   ]
  },
  {
   "cell_type": "markdown",
   "metadata": {},
   "source": [
    "## Read in Haddop Sequence Files"
   ]
  },
  {
   "cell_type": "code",
   "execution_count": 4,
   "metadata": {
    "collapsed": false
   },
   "outputs": [],
   "source": [
    "path = \"../../../resources/mmtf_full_sample/\"\n",
    "\n",
    "pdb = mmtfReader.read_sequence_file(path, sc)"
   ]
  },
  {
   "cell_type": "markdown",
   "metadata": {},
   "source": [
    "## Filter by representative protein chains at 40% sequence identity"
   ]
  },
  {
   "cell_type": "code",
   "execution_count": 5,
   "metadata": {
    "collapsed": false
   },
   "outputs": [],
   "source": [
    "sequenceIdentity = 40\n",
    "resolution = 2.0\n",
    "\n",
    "pdb = pdb.filter(Pisces(sequenceIdentity, resolution)) \\\n",
    "         .flatMap(structureToPolymerChains()) \\\n",
    "         .filter(Pisces(sequenceIdentity, resolution)) \\\n",
    "         .filter(polymerComposition(polymerComposition.AMINO_ACIDS_20))"
   ]
  },
  {
   "cell_type": "markdown",
   "metadata": {},
   "source": [
    "## Show top 10 structures"
   ]
  },
  {
   "cell_type": "code",
   "execution_count": 6,
   "metadata": {
    "collapsed": false
   },
   "outputs": [
    {
     "data": {
      "text/plain": [
       "[('1FYE.A', <mmtf.api.mmtf_writer.MMTFEncoder at 0x7f42e7929e80>),\n",
       " ('1FXL.A', <mmtf.api.mmtf_writer.MMTFEncoder at 0x7f42f730d470>),\n",
       " ('1FVI.A', <mmtf.api.mmtf_writer.MMTFEncoder at 0x7f42f73e6ef0>),\n",
       " ('1FV1.F', <mmtf.api.mmtf_writer.MMTFEncoder at 0x7f42f76ccd30>),\n",
       " ('1FTR.D', <mmtf.api.mmtf_writer.MMTFEncoder at 0x7f42f76a3c88>),\n",
       " ('1FT5.A', <mmtf.api.mmtf_writer.MMTFEncoder at 0x7f43085c7cf8>),\n",
       " ('1FSG.C', <mmtf.api.mmtf_writer.MMTFEncoder at 0x7f42e3aeecf8>),\n",
       " ('1FS1.C', <mmtf.api.mmtf_writer.MMTFEncoder at 0x7f42e39230b8>),\n",
       " ('1FR3.L', <mmtf.api.mmtf_writer.MMTFEncoder at 0x7f42e38ed898>),\n",
       " ('1FPZ.C', <mmtf.api.mmtf_writer.MMTFEncoder at 0x7f42e385df98>)]"
      ]
     },
     "execution_count": 6,
     "metadata": {},
     "output_type": "execute_result"
    }
   ],
   "source": [
    "pdb.top(10)"
   ]
  },
  {
   "cell_type": "markdown",
   "metadata": {},
   "source": [
    "## Save representative set"
   ]
  },
  {
   "cell_type": "code",
   "execution_count": 7,
   "metadata": {
    "collapsed": false
   },
   "outputs": [],
   "source": [
    "write_path = f'./pdb_representatives_{sequenceIdentity}'\n",
    "\n",
    "mmtfWriter.write_sequence_file(write_path, sc, pdb)"
   ]
  },
  {
   "cell_type": "markdown",
   "metadata": {},
   "source": [
    "## Terminate Spark"
   ]
  },
  {
   "cell_type": "code",
   "execution_count": 8,
   "metadata": {
    "collapsed": true
   },
   "outputs": [],
   "source": [
    "sc.stop()"
   ]
  },
  {
   "cell_type": "code",
   "execution_count": null,
   "metadata": {
    "collapsed": true
   },
   "outputs": [],
   "source": []
  }
 ],
 "metadata": {
  "kernelspec": {
   "display_name": "Python 3",
   "language": "python",
   "name": "python3"
  },
  "language_info": {
   "codemirror_mode": {
    "name": "ipython",
    "version": 3
   },
   "file_extension": ".py",
   "mimetype": "text/x-python",
   "name": "python",
   "nbconvert_exporter": "python",
   "pygments_lexer": "ipython3",
   "version": "3.6.0"
  }
 },
 "nbformat": 4,
 "nbformat_minor": 2
}
