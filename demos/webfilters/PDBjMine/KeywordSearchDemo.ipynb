{
 "cells": [
  {
   "cell_type": "markdown",
   "metadata": {},
   "source": [
    "# Keywork Search Demo\n",
    "\n",
    "![pdbj](https://pdbj.org/content/default.svg)\n",
    "\n",
    "PDBj Mine 2 RDB keyword search query and MMTF filtering using pdbid.\n",
    "This filter searches the 'keyword' column in the brief_summary table for a keyword and returns a couple of columns for the matching entries.\n",
    "\n",
    "[PDBj Mine Search Website](https://pdbj.org/mine)\n",
    "\n",
    "## Imports"
   ]
  },
  {
   "cell_type": "code",
   "execution_count": 1,
   "metadata": {
    "collapsed": true
   },
   "outputs": [],
   "source": [
    "from pyspark import SparkConf, SparkContext\n",
    "from mmtfPyspark.webFilters import PdbjMine\n",
    "from mmtfPyspark.datasets import pdbjMineService\n",
    "from mmtfPyspark.io import mmtfReader"
   ]
  },
  {
   "cell_type": "markdown",
   "metadata": {},
   "source": [
    "## Configure Spark Context"
   ]
  },
  {
   "cell_type": "code",
   "execution_count": 2,
   "metadata": {
    "collapsed": false
   },
   "outputs": [],
   "source": [
    "conf = SparkConf().setMaster(\"local[*]\") \\\n",
    "                  .setAppName(\"keywordSearch\")\n",
    "    \n",
    "sc = SparkContext(conf = conf)"
   ]
  },
  {
   "cell_type": "markdown",
   "metadata": {},
   "source": [
    "## Read in MMTF files from local directory"
   ]
  },
  {
   "cell_type": "code",
   "execution_count": 3,
   "metadata": {
    "collapsed": false
   },
   "outputs": [],
   "source": [
    "path = \"../../resources/mmtf_full_sample/\"\n",
    "\n",
    "pdb = mmtfReader.read_sequence_file(path, sc)"
   ]
  },
  {
   "cell_type": "markdown",
   "metadata": {
    "collapsed": true
   },
   "source": [
    "## Apply a SQL search on PDBj using a filter"
   ]
  },
  {
   "cell_type": "code",
   "execution_count": 4,
   "metadata": {
    "collapsed": false
   },
   "outputs": [
    {
     "name": "stdout",
     "output_type": "stream",
     "text": [
      "Number of entries using sql to filter: 6\n"
     ]
    }
   ],
   "source": [
    "sql = \"select pdbid, resolution, biol_species, db_uniprot, db_pfam, hit_score from keyword_search('porin') order by hit_score desc\"\n",
    "\n",
    "\n",
    "search = PdbjMine(sql)\n",
    "count = pdb.filter(search).keys().count()\n",
    "print(f\"Number of entries using sql to filter: {count}\")"
   ]
  },
  {
   "cell_type": "markdown",
   "metadata": {},
   "source": [
    "## Apply a SQL search on PDBj and get a dataset"
   ]
  },
  {
   "cell_type": "code",
   "execution_count": 5,
   "metadata": {
    "collapsed": false
   },
   "outputs": [
    {
     "name": "stdout",
     "output_type": "stream",
     "text": [
      "+-----+----------+--------------------+--------------------+-----------+---------+\n",
      "|pdbid|resolution|        biol_species|          db_uniprot|    db_pfam|hit_score|\n",
      "+-----+----------+--------------------+--------------------+-----------+---------+\n",
      "| 3por|       2.5|Rhodobacter capsu...|['P31243', 'PORI_...|['PF13609']| 0.095809|\n",
      "| 2omf|       2.4|Escherichia coli K12|['OMPF_ECOLI', 'P...|['PF00267']|0.0954989|\n",
      "| 2por|       1.8|Rhodobacter capsu...|['P31243', 'PORI_...|['PF13609']|0.0951392|\n",
      "| 1gfq|       2.8|    Escherichia coli|['OMPF_ECOLI', 'P...|['PF00267']| 0.094717|\n",
      "| 1gfp|       2.7|    Escherichia coli|['OMPF_ECOLI', 'P...|['PF00267']| 0.094717|\n",
      "| 1gfo|       3.3|    Escherichia coli|['OMPF_ECOLI', 'P...|['PF00267']| 0.094717|\n",
      "| 1gfn|       3.1|    Escherichia coli|['OMPF_ECOLI', 'P...|         []| 0.094717|\n",
      "| 1gfm|       3.5|    Escherichia coli|['OMPF_ECOLI', 'P...|['PF00267']| 0.094717|\n",
      "| 1bt9|       3.0|    Escherichia coli|['OMPF_ECOLI', 'P...|['PF00267']| 0.094717|\n",
      "| 1h6s|       3.0|RHODOPSEUDOMONAS ...|['P39767', 'PORI_...|['PF13609']| 0.094717|\n",
      "+-----+----------+--------------------+--------------------+-----------+---------+\n",
      "only showing top 10 rows\n",
      "\n",
      "Number of entries using dataset to filter: 6\n"
     ]
    }
   ],
   "source": [
    "sql = \"select pdbid, resolution, biol_species, db_uniprot, db_pfam, hit_score from keyword_search('porin') order by hit_score desc\"\n",
    "\n",
    "dataset = pdbjMineService.get_dataset(sql)\n",
    "dataset.show(10)\n",
    "search = PdbjMine(dataset = dataset)\n",
    "count = pdb.filter(search).keys().count()\n",
    "print(f\"Number of entries using dataset to filter: {count}\")\n"
   ]
  },
  {
   "cell_type": "markdown",
   "metadata": {},
   "source": [
    "## Terminate Spark Context"
   ]
  },
  {
   "cell_type": "code",
   "execution_count": 6,
   "metadata": {
    "collapsed": true
   },
   "outputs": [],
   "source": [
    "sc.stop()"
   ]
  },
  {
   "cell_type": "code",
   "execution_count": null,
   "metadata": {
    "collapsed": true
   },
   "outputs": [],
   "source": []
  }
 ],
 "metadata": {
  "kernelspec": {
   "display_name": "Python 3",
   "language": "python",
   "name": "python3"
  },
  "language_info": {
   "codemirror_mode": {
    "name": "ipython",
    "version": 3
   },
   "file_extension": ".py",
   "mimetype": "text/x-python",
   "name": "python",
   "nbconvert_exporter": "python",
   "pygments_lexer": "ipython3",
   "version": "3.6.0"
  }
 },
 "nbformat": 4,
 "nbformat_minor": 2
}
