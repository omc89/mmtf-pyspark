{
 "cells": [
  {
   "cell_type": "markdown",
   "metadata": {},
   "source": [
    "# Simple Query Demo\n",
    "\n",
    "![pdbj](https://pdbj.org/content/default.svg)\n",
    "\n",
    "PDBj Mine 2 RDB keyword search query and MMTF filtering using pdbid.\n",
    "\n",
    "[PDBj Mine Search Website](https://pdbj.org/mine)\n",
    "\n",
    "## Imports"
   ]
  },
  {
   "cell_type": "code",
   "execution_count": 1,
   "metadata": {
    "collapsed": true
   },
   "outputs": [],
   "source": [
    "from pyspark import SparkConf, SparkContext\n",
    "from mmtfPyspark.webFilters import PdbjMine\n",
    "from mmtfPyspark.datasets import PdbjMineService\n",
    "from mmtfPyspark.io import mmtfReader"
   ]
  },
  {
   "cell_type": "markdown",
   "metadata": {},
   "source": [
    "## Configure Spark Context"
   ]
  },
  {
   "cell_type": "code",
   "execution_count": 2,
   "metadata": {
    "collapsed": false
   },
   "outputs": [],
   "source": [
    "conf = SparkConf().setMaster(\"local[*]\") \\\n",
    "                  .setAppName(\"SimpleQuerySearch\")\n",
    "    \n",
    "sc = SparkContext(conf = conf)"
   ]
  },
  {
   "cell_type": "markdown",
   "metadata": {},
   "source": [
    "## Read in MMTF files from local directory"
   ]
  },
  {
   "cell_type": "code",
   "execution_count": 3,
   "metadata": {
    "collapsed": false
   },
   "outputs": [],
   "source": [
    "path = \"../../resources/mmtf_full_sample/\"\n",
    "\n",
    "pdb = mmtfReader.read_sequence_file(path, sc)"
   ]
  },
  {
   "cell_type": "markdown",
   "metadata": {
    "collapsed": true
   },
   "source": [
    "## Apply a SQL search on PDBj using a filter\n",
    "\n",
    "Very simple query; this gets the pdbids for all entries modified since 2016-06-28 with a resulution better than 1.5 A"
   ]
  },
  {
   "cell_type": "code",
   "execution_count": 4,
   "metadata": {
    "collapsed": false
   },
   "outputs": [
    {
     "name": "stdout",
     "output_type": "stream",
     "text": [
      "Number of entries using sql to filter: 5\n"
     ]
    }
   ],
   "source": [
    "sql = \"select pdbid from brief_summary where modification_date >= '2016-06-28' and resolution < 1.5\"\n",
    "\n",
    "search = PdbjMine(sql)\n",
    "count = pdb.filter(search).keys().count()\n",
    "print(f\"Number of entries using sql to filter: {count}\")"
   ]
  },
  {
   "cell_type": "markdown",
   "metadata": {},
   "source": [
    "## Apply a SQL search on PDBj and get a dataset"
   ]
  },
  {
   "cell_type": "code",
   "execution_count": 5,
   "metadata": {
    "collapsed": false
   },
   "outputs": [
    {
     "name": "stdout",
     "output_type": "stream",
     "text": [
      "+-----+\n",
      "|pdbid|\n",
      "+-----+\n",
      "| 2yke|\n",
      "| 2yny|\n",
      "| 2ynz|\n",
      "| 2z12|\n",
      "| 2z18|\n",
      "+-----+\n",
      "only showing top 5 rows\n",
      "\n",
      "Number of entries using dataset to filter: 5\n"
     ]
    }
   ],
   "source": [
    "dataset = PdbjMineService.getDataset(sql)\n",
    "dataset.show(5)\n",
    "search = PdbjMine(dataset = dataset)\n",
    "count = pdb.filter(search).keys().count()\n",
    "print(f\"Number of entries using dataset to filter: {count}\")\n"
   ]
  },
  {
   "cell_type": "markdown",
   "metadata": {},
   "source": [
    "## Terminate Spark Context"
   ]
  },
  {
   "cell_type": "code",
   "execution_count": 6,
   "metadata": {
    "collapsed": true
   },
   "outputs": [],
   "source": [
    "sc.stop()"
   ]
  },
  {
   "cell_type": "code",
   "execution_count": null,
   "metadata": {
    "collapsed": true
   },
   "outputs": [],
   "source": []
  }
 ],
 "metadata": {
  "kernelspec": {
   "display_name": "Python 3",
   "language": "python",
   "name": "python3"
  },
  "language_info": {
   "codemirror_mode": {
    "name": "ipython",
    "version": 3
   },
   "file_extension": ".py",
   "mimetype": "text/x-python",
   "name": "python",
   "nbconvert_exporter": "python",
   "pygments_lexer": "ipython3",
   "version": "3.6.0"
  }
 },
 "nbformat": 4,
 "nbformat_minor": 2
}
