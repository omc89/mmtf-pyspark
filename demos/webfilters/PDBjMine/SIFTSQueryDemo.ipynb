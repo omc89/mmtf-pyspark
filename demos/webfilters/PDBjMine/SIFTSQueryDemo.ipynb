{
 "cells": [
  {
   "cell_type": "markdown",
   "metadata": {},
   "source": [
    "# SIFTS Query Demo\n",
    "\n",
    "![pdbj](https://pdbj.org/content/default.svg)\n",
    "\n",
    "PDBj Mine 2 RDB complex query of PDB and SIFTS data, followed by MMTF filtering using pdbid & chain name.\n",
    "Additional fitering can be done on the client side, in addition the obtained data can also be reused (so not only filtering, but also data gathering).\n",
    "\n",
    "[PDBj Mine Search Website](https://pdbj.org/mine)\n",
    "\n",
    "## Imports"
   ]
  },
  {
   "cell_type": "code",
   "execution_count": 2,
   "metadata": {
    "collapsed": true
   },
   "outputs": [],
   "source": [
    "from pyspark import SparkConf, SparkContext\n",
    "from mmtfPyspark.webFilters import PdbjMine\n",
    "from mmtfPyspark.datasets import PdbjMineService\n",
    "from mmtfPyspark.io import mmtfReader"
   ]
  },
  {
   "cell_type": "markdown",
   "metadata": {},
   "source": [
    "## Configure Spark Context"
   ]
  },
  {
   "cell_type": "code",
   "execution_count": 3,
   "metadata": {
    "collapsed": false
   },
   "outputs": [],
   "source": [
    "conf = SparkConf().setMaster(\"local[*]\") \\\n",
    "                  .setAppName(\"SIFTSQuery\")\n",
    "    \n",
    "sc = SparkContext(conf = conf)"
   ]
  },
  {
   "cell_type": "markdown",
   "metadata": {},
   "source": [
    "## Read in MMTF files from local directory"
   ]
  },
  {
   "cell_type": "code",
   "execution_count": 4,
   "metadata": {
    "collapsed": false
   },
   "outputs": [],
   "source": [
    "path = \"../../resources/mmtf_full_sample/\"\n",
    "\n",
    "pdb = mmtfReader.read_sequence_file(path, sc)"
   ]
  },
  {
   "cell_type": "markdown",
   "metadata": {
    "collapsed": true
   },
   "source": [
    "## Apply a SQL search on PDBj using a filter\n",
    "\n",
    "Retrieve PDB chain sequences matching to the Pfam accession \"PF00046\" (Homeobox) and having a resolution better than 2.0 Angstrom and a sequence length greater than or equal to 58 (residues)"
   ]
  },
  {
   "cell_type": "code",
   "execution_count": 6,
   "metadata": {
    "collapsed": false
   },
   "outputs": [
    {
     "name": "stdout",
     "output_type": "stream",
     "text": [
      "Number of entries using sql to filter: 1\n"
     ]
    }
   ],
   "source": [
    "sql = \"SELECT concat(s.pdbid, '.', s.chain) as \\\"structureChainId\\\", s.*, r.ls_d_res_high as reso,\"+ \\\n",
    "      \"LENGTH(p.pdbx_seq_one_letter_code_can) as len, \" + \\\n",
    "      \"('>' || s.pdbid || s.chain) as header, \" + \\\n",
    "      \"replace(p.pdbx_seq_one_letter_code_can,E'\\n','') as aaseq \" + \\\n",
    "      \"FROM sifts.pdb_chain_pfam s \" +\\\n",
    "      \"JOIN refine r on r.pdbid = s.pdbid \" +\\\n",
    "      \"JOIN entity_poly p on p.pdbid = s.pdbid \" +\\\n",
    "      \"AND s.chain = ANY(regexp_split_to_array(p.pdbx_strand_id,',')) \" +\\\n",
    "      \"WHERE pfam_id = 'PF00046' \" +\\\n",
    "      \"AND r.ls_d_res_high < 2.0 \" +\\\n",
    "      \"AND LENGTH(p.pdbx_seq_one_letter_code_can) >= 58 \" +\\\n",
    "      \"ORDER BY reso, len,s.chain \"\n",
    "\n",
    "\n",
    "search = PdbjMine(sql)\n",
    "count = pdb.filter(search).keys().count()\n",
    "print(f\"Number of entries using sql to filter: {count}\")"
   ]
  },
  {
   "cell_type": "markdown",
   "metadata": {},
   "source": [
    "## Apply a SQL search on PDBj and get a dataset"
   ]
  },
  {
   "cell_type": "code",
   "execution_count": 7,
   "metadata": {
    "collapsed": false
   },
   "outputs": [
    {
     "name": "stdout",
     "output_type": "stream",
     "text": [
      "+----------------+-----+-----+----------+-------+----+---+------+--------------------+\n",
      "|structureChainId|pdbid|chain|sp_primary|pfam_id|reso|len|header|               aaseq|\n",
      "+----------------+-----+-----+----------+-------+----+---+------+--------------------+\n",
      "|          4rdu.A| 4rdu|    A|    P56178|PF00046|1.85| 65|>4rduA|GHMVRKPRTIYSSFQLA...|\n",
      "+----------------+-----+-----+----------+-------+----+---+------+--------------------+\n",
      "only showing top 1 row\n",
      "\n",
      "Number of entries using dataset to filter: 1\n"
     ]
    }
   ],
   "source": [
    "dataset = PdbjMineService.getDataset(sql)\n",
    "dataset.show(1)\n",
    "search = PdbjMine(dataset = dataset)\n",
    "count = pdb.filter(search).keys().count()\n",
    "print(f\"Number of entries using dataset to filter: {count}\")"
   ]
  },
  {
   "cell_type": "markdown",
   "metadata": {},
   "source": [
    "## Terminate Spark Context"
   ]
  },
  {
   "cell_type": "code",
   "execution_count": 6,
   "metadata": {
    "collapsed": true
   },
   "outputs": [],
   "source": [
    "sc.stop()"
   ]
  }
 ],
 "metadata": {
  "kernelspec": {
   "display_name": "Python 3",
   "language": "python",
   "name": "python3"
  },
  "language_info": {
   "codemirror_mode": {
    "name": "ipython",
    "version": 3
   },
   "file_extension": ".py",
   "mimetype": "text/x-python",
   "name": "python",
   "nbconvert_exporter": "python",
   "pygments_lexer": "ipython3",
   "version": "3.6.0"
  }
 },
 "nbformat": 4,
 "nbformat_minor": 2
}
