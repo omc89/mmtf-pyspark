{
 "cells": [
  {
   "cell_type": "markdown",
   "metadata": {},
   "source": [
    "# Secondary Structure Segment Demo\n",
    "\n",
    "This demo shows how to get a dataset of secondary structure segment\n",
    "\n",
    "## Imports"
   ]
  },
  {
   "cell_type": "code",
   "execution_count": 2,
   "metadata": {
    "collapsed": true
   },
   "outputs": [],
   "source": [
    "from pyspark import SparkConf, SparkContext\n",
    "from mmtfPyspark.io import mmtfReader\n",
    "from mmtfPyspark.mappers import structureToPolymerChains\n",
    "from mmtfPyspark.filters import containsLProteinChain\n",
    "from mmtfPyspark.datasets import secondaryStructureSegmentExtractor"
   ]
  },
  {
   "cell_type": "markdown",
   "metadata": {},
   "source": [
    "## Configure Spark"
   ]
  },
  {
   "cell_type": "code",
   "execution_count": 3,
   "metadata": {
    "collapsed": false
   },
   "outputs": [],
   "source": [
    "conf = SparkConf().setMaster(\"local[*]\") \\\n",
    "                      .setAppName(\"secondaryStructureSegmentDemo\")\n",
    "sc = SparkContext(conf = conf)"
   ]
  },
  {
   "cell_type": "markdown",
   "metadata": {},
   "source": [
    "## Download protein (1STP)\n",
    "\n",
    "### Note: Need to use SparkContext as parameter to download Mmtf files"
   ]
  },
  {
   "cell_type": "code",
   "execution_count": 4,
   "metadata": {
    "collapsed": false
   },
   "outputs": [],
   "source": [
    "pdb = mmtfReader.download_mmtf_files(['1STP'], sc).cache()"
   ]
  },
  {
   "cell_type": "markdown",
   "metadata": {},
   "source": [
    "## Map protein to polymer chains and apply LProteinChain filter"
   ]
  },
  {
   "cell_type": "code",
   "execution_count": 5,
   "metadata": {
    "collapsed": true
   },
   "outputs": [],
   "source": [
    "pdb = pdb.flatMap(structureToPolymerChains()) \\\n",
    "         .filter(containsLProteinChain())"
   ]
  },
  {
   "cell_type": "markdown",
   "metadata": {},
   "source": [
    "## Extract secondary structure element 'E'"
   ]
  },
  {
   "cell_type": "code",
   "execution_count": 6,
   "metadata": {
    "collapsed": false
   },
   "outputs": [
    {
     "name": "stdout",
     "output_type": "stream",
     "text": [
      "+----------------+-------------------------+-------+-------+\n",
      "|structureChainId|sequence                 |labelQ8|labelQ3|\n",
      "+----------------+-------------------------+-------+-------+\n",
      "|1STP.A          |DPSKDSKAQVSAAEAGITGTWYNQL|C      |C      |\n",
      "|1STP.A          |PSKDSKAQVSAAEAGITGTWYNQLG|H      |H      |\n",
      "|1STP.A          |SKDSKAQVSAAEAGITGTWYNQLGS|H      |H      |\n",
      "|1STP.A          |KDSKAQVSAAEAGITGTWYNQLGST|H      |H      |\n",
      "|1STP.A          |DSKAQVSAAEAGITGTWYNQLGSTF|H      |H      |\n",
      "|1STP.A          |SKAQVSAAEAGITGTWYNQLGSTFI|C      |C      |\n",
      "|1STP.A          |KAQVSAAEAGITGTWYNQLGSTFIV|E      |E      |\n",
      "|1STP.A          |AQVSAAEAGITGTWYNQLGSTFIVT|E      |E      |\n",
      "|1STP.A          |QVSAAEAGITGTWYNQLGSTFIVTA|E      |E      |\n",
      "|1STP.A          |VSAAEAGITGTWYNQLGSTFIVTAG|E      |E      |\n",
      "|1STP.A          |SAAEAGITGTWYNQLGSTFIVTAGA|E      |E      |\n",
      "|1STP.A          |AAEAGITGTWYNQLGSTFIVTAGAD|T      |C      |\n",
      "|1STP.A          |AEAGITGTWYNQLGSTFIVTAGADG|T      |C      |\n",
      "|1STP.A          |EAGITGTWYNQLGSTFIVTAGADGA|C      |C      |\n",
      "|1STP.A          |AGITGTWYNQLGSTFIVTAGADGAL|C      |C      |\n",
      "|1STP.A          |GITGTWYNQLGSTFIVTAGADGALT|E      |E      |\n",
      "|1STP.A          |ITGTWYNQLGSTFIVTAGADGALTG|E      |E      |\n",
      "|1STP.A          |TGTWYNQLGSTFIVTAGADGALTGT|E      |E      |\n",
      "|1STP.A          |GTWYNQLGSTFIVTAGADGALTGTY|E      |E      |\n",
      "|1STP.A          |TWYNQLGSTFIVTAGADGALTGTYE|E      |E      |\n",
      "|1STP.A          |WYNQLGSTFIVTAGADGALTGTYES|E      |E      |\n",
      "|1STP.A          |YNQLGSTFIVTAGADGALTGTYESA|C      |C      |\n",
      "|1STP.A          |NQLGSTFIVTAGADGALTGTYESAV|T      |C      |\n",
      "|1STP.A          |QLGSTFIVTAGADGALTGTYESAVG|T      |C      |\n",
      "|1STP.A          |LGSTFIVTAGADGALTGTYESAVGN|S      |C      |\n",
      "|1STP.A          |GSTFIVTAGADGALTGTYESAVGNA|E      |E      |\n",
      "|1STP.A          |STFIVTAGADGALTGTYESAVGNAE|E      |E      |\n",
      "|1STP.A          |TFIVTAGADGALTGTYESAVGNAES|E      |E      |\n",
      "|1STP.A          |FIVTAGADGALTGTYESAVGNAESR|E      |E      |\n",
      "|1STP.A          |IVTAGADGALTGTYESAVGNAESRY|E      |E      |\n",
      "|1STP.A          |VTAGADGALTGTYESAVGNAESRYV|E      |E      |\n",
      "|1STP.A          |TAGADGALTGTYESAVGNAESRYVL|E      |E      |\n",
      "|1STP.A          |AGADGALTGTYESAVGNAESRYVLT|C      |C      |\n",
      "|1STP.A          |GADGALTGTYESAVGNAESRYVLTG|S      |C      |\n",
      "|1STP.A          |ADGALTGTYESAVGNAESRYVLTGR|S      |C      |\n",
      "|1STP.A          |DGALTGTYESAVGNAESRYVLTGRY|S      |C      |\n",
      "|1STP.A          |GALTGTYESAVGNAESRYVLTGRYD|S      |C      |\n",
      "|1STP.A          |ALTGTYESAVGNAESRYVLTGRYDS|C      |C      |\n",
      "|1STP.A          |LTGTYESAVGNAESRYVLTGRYDSA|C      |C      |\n",
      "|1STP.A          |TGTYESAVGNAESRYVLTGRYDSAP|S      |C      |\n",
      "|1STP.A          |GTYESAVGNAESRYVLTGRYDSAPA|C      |C      |\n",
      "|1STP.A          |TYESAVGNAESRYVLTGRYDSAPAT|E      |E      |\n",
      "|1STP.A          |YESAVGNAESRYVLTGRYDSAPATD|E      |E      |\n",
      "|1STP.A          |ESAVGNAESRYVLTGRYDSAPATDG|E      |E      |\n",
      "|1STP.A          |SAVGNAESRYVLTGRYDSAPATDGS|E      |E      |\n",
      "|1STP.A          |AVGNAESRYVLTGRYDSAPATDGSG|E      |E      |\n",
      "|1STP.A          |VGNAESRYVLTGRYDSAPATDGSGT|E      |E      |\n",
      "|1STP.A          |GNAESRYVLTGRYDSAPATDGSGTA|E      |E      |\n",
      "|1STP.A          |NAESRYVLTGRYDSAPATDGSGTAL|C      |C      |\n",
      "|1STP.A          |AESRYVLTGRYDSAPATDGSGTALG|S      |C      |\n",
      "+----------------+-------------------------+-------+-------+\n",
      "only showing top 50 rows\n",
      "\n"
     ]
    }
   ],
   "source": [
    "segmentLength = 25\n",
    "ds = secondaryStructureSegmentExtractor.get_dataset(pdb, segmentLength)\n",
    "\n",
    "ds.show(50, False)"
   ]
  },
  {
   "cell_type": "markdown",
   "metadata": {
    "collapsed": true
   },
   "source": [
    "## Terminate Spark"
   ]
  },
  {
   "cell_type": "code",
   "execution_count": null,
   "metadata": {
    "collapsed": true
   },
   "outputs": [],
   "source": [
    "sc.stop()"
   ]
  }
 ],
 "metadata": {
  "kernelspec": {
   "display_name": "Python 3",
   "language": "python",
   "name": "python3"
  },
  "language_info": {
   "codemirror_mode": {
    "name": "ipython",
    "version": 3
   },
   "file_extension": ".py",
   "mimetype": "text/x-python",
   "name": "python",
   "nbconvert_exporter": "python",
   "pygments_lexer": "ipython3",
   "version": "3.6.0"
  }
 },
 "nbformat": 4,
 "nbformat_minor": 2
}
