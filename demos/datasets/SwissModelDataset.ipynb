{
 "cells": [
  {
   "cell_type": "markdown",
   "metadata": {},
   "source": [
    "# Swiss Model Dataset\n",
    "\n",
    "This demo shows how to access metadata for SWISS-MODEL homology models.\n",
    "\n",
    "## Reference\n",
    " \n",
    "Bienert S, Waterhouse A, de Beer TA, Tauriello G, Studer G, Bordoli L, Schwede T (2017). The SWISS-MODEL Repository - new features and functionality, Nucleic Acids Res. 45(D1):D313-D319.\n",
    "    * https://dx.doi.org/10.1093/nar/gkw1132\n",
    "   \n",
    "Biasini M, Bienert S, Waterhouse A, Arnold K, Studer G, Schmidt T, Kiefer F, Gallo Cassarino T, Bertoni M, Bordoli L, Schwede T(2014). The SWISS-MODEL Repository - modelling protein tertiary and quaternary structure using evolutionary information, Nucleic Acids Res. 42(W1):W252–W258.\n",
    "    * https://doi.org/10.1093/nar/gku340\n",
    "\n",
    "## Imports"
   ]
  },
  {
   "cell_type": "code",
   "execution_count": 1,
   "metadata": {},
   "outputs": [],
   "source": [
    "from pyspark.sql import SparkSession\n",
    "from mmtfPyspark.datasets import swissModelDataset"
   ]
  },
  {
   "cell_type": "markdown",
   "metadata": {},
   "source": [
    "## Configure Spark Session"
   ]
  },
  {
   "cell_type": "code",
   "execution_count": 2,
   "metadata": {},
   "outputs": [],
   "source": [
    "spark = SparkSession.builder\\\n",
    "                    .master(\"local[*]\")\\\n",
    "                    .appName(\"SwissModelDatasetDemo\") \\\n",
    "                    .getOrCreate()"
   ]
  },
  {
   "cell_type": "markdown",
   "metadata": {},
   "source": [
    "## Download metadata for Swiss-Model homology"
   ]
  },
  {
   "cell_type": "code",
   "execution_count": 4,
   "metadata": {},
   "outputs": [
    {
     "name": "stdout",
     "output_type": "stream",
     "text": [
      "WARNING: Counld not load data for: P092838\n"
     ]
    }
   ],
   "source": [
    "# list of uniProtIds to be retrived from Swiss-Model\n",
    "uniProtIds = ['P36575','P24539','O00244','P092838']\n",
    "\n",
    "ds = swissModelDataset.get_swiss_models(uniProtIds)"
   ]
  },
  {
   "cell_type": "markdown",
   "metadata": {},
   "source": [
    "## Show results"
   ]
  },
  {
   "cell_type": "code",
   "execution_count": 5,
   "metadata": {},
   "outputs": [
    {
     "name": "stdout",
     "output_type": "stream",
     "text": [
      "+------+--------------------+----+---+-------------+------------+------------+------------------+-----------+--------+--------+-------------+------------+--------------------+--------------------+--------------------+\n",
      "|    ac|            sequence|from| to|        qmean|  qmean_norm|        gmqe|          coverage|oligo-state|  method|template|     identity|  similarity|         coordinates|                 md5|                 md5|\n",
      "+------+--------------------+----+---+-------------+------------+------------+------------------+-----------+--------+--------+-------------+------------+--------------------+--------------------+--------------------+\n",
      "|P36575|MSKVFKKTSSNGKLSIY...|   2|371|-3.2063825412|0.6580184574|0.7570000291|0.9536082474226805|    monomer|Homology|1suj.1.A|68.6648483276|0.5046331286|https://swissmode...|1b2ec664c28f6cde3...|1b2ec664c28f6cde3...|\n",
      "|P24539|MLSRVVLSAAATAAPSL...|  76|249|-2.5436226241|0.6698411085|0.6560000181|         0.6796875|    monomer|Homology|5ara.1.S|84.4827575684|0.5478888154|https://swissmode...|138e5aeaf02a8fa2e...|138e5aeaf02a8fa2e...|\n",
      "|O00244|MPKHEFSVDMTCGGCAE...|   1| 68| 1.0471340832|0.8423321822|0.9869999886|               1.0| homo-2-mer|Homology|1fe4.1.B|        100.0|0.6068645716|https://swissmode...|34f221f64be3395aa...|34f221f64be3395aa...|\n",
      "+------+--------------------+----+---+-------------+------------+------------+------------------+-----------+--------+--------+-------------+------------+--------------------+--------------------+--------------------+\n",
      "\n"
     ]
    }
   ],
   "source": [
    "ds.show()"
   ]
  },
  {
   "cell_type": "markdown",
   "metadata": {
    "collapsed": true
   },
   "source": [
    "## Terminate Spark"
   ]
  },
  {
   "cell_type": "code",
   "execution_count": 7,
   "metadata": {},
   "outputs": [],
   "source": [
    "sc.stop()"
   ]
  }
 ],
 "metadata": {
  "kernelspec": {
   "display_name": "Python 3",
   "language": "python",
   "name": "python3"
  },
  "language_info": {
   "codemirror_mode": {
    "name": "ipython",
    "version": 3
   },
   "file_extension": ".py",
   "mimetype": "text/x-python",
   "name": "python",
   "nbconvert_exporter": "python",
   "pygments_lexer": "ipython3",
   "version": "3.6.0"
  }
 },
 "nbformat": 4,
 "nbformat_minor": 2
}
