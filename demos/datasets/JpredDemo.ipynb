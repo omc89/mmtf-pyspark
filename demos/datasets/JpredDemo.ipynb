{
 "cells": [
  {
   "cell_type": "markdown",
   "metadata": {},
   "source": [
    "# Jpred Demo\n",
    "\n",
    "This demo shows how to create and query a Jpred dataset.\n",
    "\n",
    "![Jpred](./figures/Jpred.png)\n",
    "\n",
    "## Imports"
   ]
  },
  {
   "cell_type": "code",
   "execution_count": 3,
   "metadata": {
    "collapsed": false
   },
   "outputs": [],
   "source": [
    "from pyspark import SparkConf, SparkContext, SQLContext\n",
    "from mmtfPyspark.datasets import jpredDataset"
   ]
  },
  {
   "cell_type": "markdown",
   "metadata": {},
   "source": [
    "## Configure Spark"
   ]
  },
  {
   "cell_type": "code",
   "execution_count": 4,
   "metadata": {
    "collapsed": false
   },
   "outputs": [],
   "source": [
    "conf = SparkConf().setMaster(\"local[*]\") \\\n",
    "                      .setAppName(\"JpredDemo\")\n",
    "sc = SparkContext(conf = conf)"
   ]
  },
  {
   "cell_type": "markdown",
   "metadata": {},
   "source": [
    "## Get Jpred Datasets"
   ]
  },
  {
   "cell_type": "code",
   "execution_count": 6,
   "metadata": {
    "collapsed": false
   },
   "outputs": [],
   "source": [
    "res = jpredDataset.get_dataset()"
   ]
  },
  {
   "cell_type": "markdown",
   "metadata": {},
   "source": [
    "## Display Jpred Dataset"
   ]
  },
  {
   "cell_type": "code",
   "execution_count": 7,
   "metadata": {
    "collapsed": false
   },
   "outputs": [
    {
     "name": "stdout",
     "output_type": "stream",
     "text": [
      "+--------+----------------------------------------------------------------------------------------------------------------------------------------------------------------------------------------------------------------------------------------------------------------------------------------------------------------------------------------------------------------+----------------------------------------------------------------------------------------------------------------------------------------------------------------------------------------------------------------------------------------------------------------------------------------------------------------------------------------------------------------+-------+\n",
      "|scopID  |sequence                                                                                                                                                                                                                                                                                                                                                        |secondaryStructure                                                                                                                                                                                                                                                                                                                                              |trained|\n",
      "+--------+----------------------------------------------------------------------------------------------------------------------------------------------------------------------------------------------------------------------------------------------------------------------------------------------------------------------------------------------------------------+----------------------------------------------------------------------------------------------------------------------------------------------------------------------------------------------------------------------------------------------------------------------------------------------------------------------------------------------------------------+-------+\n",
      "|d1rcqa2 |IDLQALRHNYRLAREATGARALAVIKADAYGHGAVRCAEALAAEADGFAVACIEEGLELREAGIRQPILLLEGFFEASELELIVAHDFWCVVHCAWQLEAIERASLARPLNVWLKMDSGMHRVGFFPEDFRAAHERLRASGKVAKIVMMSHFSRADELDCPRTEEQLAAFSAASQGLEGEISLRNSPAVLGWPKVPSDWVRPGILLYGATPFERAHPLADRLRPVM                                                                                                                              |EEHHHHHHHHHHHHHHHCCEEEEECHHHHHCCCHHHHHHHHCCCCCEEEECCHHHHHHHHHCCCCCCEEECCCCCCCCCHHHHHHCCEEEEECCHHHHHHHHHCCCCCCEEEEEEECCCCCCCCECHHHHHHHHHHHHHCCCEEEEEEECCCCCCCCCCCCHHHHHHHHHHHHHCCCCCCEECCCHHHHHHCCCCCCCEECCCCCCCCCCCCCCCCCCCCCCCCCE                                                                                                                              |true   |\n",
      "|d1vr8a1 |PPEAYSLDTAIFVLETRDYRLSDVKEIDSYGDVEMKGKVAVFETEYGPVFLYVYKGEEAKKIWKKLNGRVSIRSVLDLPNMGKFSTVSNGKKIVAWWRKNWLFIVEGKNGVEEFVKHVYRVYEEMKQ                                                                                                                                                                                                                                 |CCCCCCHHHHHHCCCECCEEEEEEEEEEEECCEEEEEEEEEEEECCEEEEEEEEECCCHHHHHHHHHCCCCCEEEEECCCEEEEEEEECCEEEEEEEECCEEEEEEECCCHHHHHHHHHHHHHCCCC                                                                                                                                                                                                                                 |false  |\n",
      "|e1qqp.12|DKKTTTLLEDRILTTRNGHTTSTTQSSVGVTYGYATAEDFVSGPNTSGLETRVVQAERFFKTHLFDWVTSDSFGRCHLLELPTDHKGVYGSLTDSYAYMRNGWDVEVTAVGNQFNGGCLLVAMVPELCSIQKRELYQLTLFPHQFINPRTNMTAHITVPFVGVNRYDQYKVHKPWTLVVMVVAPLTVNTEGAPQIKVYANIAPTNVHVAGEFPSKE                                                                                                                                        |CCCCCCCCCCCCEEEEECCEEEEECCCCCCEECCCCCCCCCCCCCCCCCCEECCCCCCCEEEEEEEECCCCCCCCEEEEEECCCCCCHHHHHHHHEEEEEEEEEEEEEECCCCCCEEEEEEEEEECCCCCCCCCCCCCCCCCEEEECCCCCCEEEEEECCCCCCCCECCCCCCCEEEEEEEEEEEECCCCCCCCEEEEEEEEEEEEEEEEECCCCC                                                                                                                                        |true   |\n",
      "|d3amra_ |LSDPYHFTVNAAAETEPVDTAGDAADDPAIWLDPKTPQNSKLITTNKKSGLVVYSLDGKMLHSYNTGKLNNVDIRYDFPLNGKKVDIAAASNRSEGKNTIEIYAIDGKNGTLQSMTDPDHPIATAINEVYGFTLYHSQKTGKYYAMVTGKEGEFEQYELKADKNGYISGKKVRAFKMNSQTEGMAADDEYGRLYIAEEDEAIWKFSAEPDGGSNGTVIDRADGRHLTRDIEGLTIYYAADGKGYLMASSQGNSSYAIYDRQGKNKYVADFRITDGPETDGTSDTDGIDVLGFGLGPEYPFGIFVAQDGENIDHGQKANQNFKIVPWERIADQIGFRPLANEQVDPRKLTDRS|CCCCCEEEECCCEECCCCCCCCCCEEEEEEECCCCCCCCCEEEEEECCCEEEEEECCCCEEEEECCCCEEEEEEEEEEEECCEEEEEEEEEECCCCCCEEEEEEECCCCCCEEECCCCCCCEECCCCCCCCEEEEECCCCCCEEEEEECCCCEEEEEEEEECCCCCEEEEEEEEEECCCCEEEEEEECCCCEEEEEECCCEEEEEECCCCCCCCCEEEEEECCCCECCCEEEEEEEECCCCCEEEEEEECCCCEEEEEECCCCCCEEEEEEECCCCCCCCCCCCCCEEEECCCCCCCCCCCEEEEEECCCEECCEECCCEEEEEEHHHHHHHCCCCCCCCCCCCCCCCCCCC|true   |\n",
      "|d2icua_ |GRFAQSQTREDYLALLAEDIERDIPYDPEPIGRYNVAPGTKVLLLSERDEHLHLDPVFWGYAPGPPLINARVETAATSRMFKPLWQHGRAICFADGWFEWKQPFFIYRADGQPIFMAAIGSTPFERGDEAEGFLIVTAAADQGLVDIHDRRPLVLSPEAAREWMRQEISGKEASEIAASGCVPANQFSWHPVSRAVGNVKNQGAELIQPV                                                                                                                                              |CCEEECCCHHHHHCCCCCCCCECCCCCCCCCCEEEECCCCEEEEEEEECCEEEEEEEEECECCCCCECEEEHHHHCCCCCCHHHHHHCEEEEEECEEEEECCEEEEEECCCCCEEEEEEECCCCCCCCCCECEEEEEEECCCCCCCCCCEEECEECHHHHHHHHCCCCCHHHHHHHHHHHECCCCCEEEEECCCCCCCCCCCCCCCCCCC                                                                                                                                              |true   |\n",
      "|d1r5la2 |SIIGLLKAGYHGVLRSRDPTGSKVLIYRIAHWDPKVFTAYDVFRVSLITSELIVQEVETQRNGIKAIFDLEGWQFSHAFQITPSVAKKIAAVLTDSFPLKVRGIHLINEPVIFHAVFSMIKPFLTEKIKERIHMHGNNYKQSLLQHFPDILPLEYGGEEFSMEDICQEWTNFIMKSEDYLSSISE                                                                                                                                                                       |CCHHHHHCCCEEECCCCCCCCCEEEEEECCCCCCCCCCHHHHHHHHHHHHHHHCCCHHHHHHCEEEEEECCCCCHHHHHHCCHHHHHHHHHHHHCCCCCCEEEEEEECCCCCCHHHHHHHCCCCCHHHHCCEEECCCCCHHHHHHHCCCCCCCCCCCCCCCHHHHHHHHHHHHHHCHHHHHHCCC                                                                                                                                                                       |true   |\n",
      "|d1owla2 |APILFWHRRDLRLSDNIGLAAARAQSAQLIGLFCLDPQILQSADMAPARVAYLQGCLQELQQRYQQAGSRLLLLQGDPQHLIPQLAQQLQAEAVYWNQDIEPYGRDRDGQVAAALKTAGIRAVQLWDQLLHSPDQILSGSGNPYSVYGPFWKNWQAQPKPTPVATPTELVDLSPEQLTAIAPLLLSELPTLKQLGFDWDGGF                                                                                                                                                      |CCEEEEECCCCCCCCCHHHHHHHHHCCCEEEEEEECHHHHCCCCCCHHHHHHHHHHHHHHHHHHHHHCCCEEEEECCHHHHHHHHHHHCCCCEEEEECCCCHHHHHHHHHHHHHHHHCCCEEEEECCCCCCCCCCCCCCCCCCCCCHHHHHHHHHHCCCCCCCCCCCCCCCCCHHHHHHHCCCCCCCCCCCCCCCCCCCCCC                                                                                                                                                      |true   |\n",
      "|d2eiya_ |QIKAGLIWMNGAFVPQEEAKTSVLSHALHYGTSVFEGIRAYETAKGPAIFRLKEHVKRFYNSAKVLRMEIPFAPEELEEAIKEVVRRNGYRSCYIRPLAWMGAKALGVNPLPNNPAEVMVAAWEWVRKGARLITSSWARFPANVMPGKAKVGGNYVNSALAKMEAVAAGADEALLLDEEGYVAEGSGENLFFVRDGVIYALEHSVNLEGITRDSVIRIAKDLGYEVQVVRATRDQLYMADEVFMTGTAAEVTPVSMIDWRPIGKGTAGPVALRLREVYLEAVTGRRPEYEGWLTYVN                                                       |CCCCCCEEECCEEECCCCCCCCCCCHHHHHCCEEECCEEEECCCCCCEEECHHHHHHHHHHHHHHCCCCCCCCHHHHHHHHHHHHHHCCCCCEEEEEEEECCCCCCCCCCCCCCCCEEEEEEEECCCCCEEEEECCCCECCCCCCCCCCCECCCHHHHHHHHHHHHHCCCCEEEEEECCCCEEEECCCEEEEEECCEEEEECCCCCCCCHHHHHHHHHHHHCCCCEEEECCCHHHHHCCCEEEEEECCCEEEEEEEECCEECCCCCCCHHHHHHHHHHHHHHCCCCCCCCCCEEECC                                                       |false  |\n",
      "|d2pbka_ |QGLYVGGFVDVVSCPKLEQELYLDPDQVTDYLPVTEPLPITIEHLPETEVGWTLGLFQVSHGIFCTGAITSPAFLELASRLADTSHVARAPVKNLPKEPLLEILHTWLPGLSLSSIHPRELSQTPSGPVFQHVSLCALGRRRGTVAVYGHDAEWVVSRFSSVSKSERAHILQHVSSCRLEDLSTPNFVSPLETLMAKAIDAGFIRDRLDLLKTDRGVASILSPVYLKA                                                                                                                            |CCCEEEEEEEECCCCCCCCCCCCCHHHHCCCCCECCCCEEEECCCCCECCEEEEEEEEECCEEEEEEEECCHHHHHHHHHHHHHCCCCCCCECCECCCHHHHHHHHHCCEEEEEEECHHHHCCCCCCCCEEEEEEECCCCCCCCECEEECCHHHHHHCECCCCHHHHHHHHHHHHHCCCCCCCCCCECCCHHHHHHHHHHHCCCCCHHHHHHHHHHHCCECCCCCCCC                                                                                                                            |true   |\n",
      "|d2i0za2 |PTEVPILSNEPFIRDRSLQGLALRDINLSVLNAIISHKMDMLFTHFGLSGPAALRCSQFVVKALKKFKTNTIQMSIDALPEENSEQLFQRMLKQMKEDPKKGIKNVLKGYVPERYFLFLLEKNEIDGSEQAGQVSHEKIRALVKDFKEFTVNVNGTQSIEKAFVT                                                                                                                                                                                           |ECCCCEECCCHHHHCCCCCCCEEEEEEEEECCCEEEEEEEEEECCCEEECHHHHHHHHHHHHHHHHHCCCCEEEEEECCCCCCHHHHHHHHHHHHCCCCCCEHHHHCCCCCCHHHHHHHHHHCCCCCCCECCCCCHHHHHHHHHHHHHEEEEECEECCCCCCCCE                                                                                                                                                                                           |true   |\n",
      "|d3f6ya_ |FWRQTWSGPGTTKRFPETVLARCVKYTEIHPEMRHVDCQSVWDAFKGAFISKHPCDITEEDYQPLMKLGTQTVPCNKILLWSRIKDLAHQFTQVQRDMFTLEDTLLGYLADDLTWCGEFDTSKINYQSCPDWRKDCSNNPVSVFWKTVSRRFAEAACDVVHVMLDGSRSKIFDKDSTFGSVEVHNLQPEKVQTLEAWVIHGGREDSRDLCQDPTIKELESIISKRNIQFSCKNIY                                                                                                                     |CCCCCCCEECCCCCHHHHHHHHHHHHHHHCCCCCCCCHHHHHHHHHHHHCCCCCCCCCCCCCHHHHHHCCCCCCCCCEECCCCCCCCCCCCHHHHHHCECCCCCHHHHHHCCCCCCCCCCCCCCCCCEECCCCCCCCCCHHHHHHHHHHHHHHHHCCEEEEEEEECCCCCCCCCCCHHHHCCCCCCCCCCEEEEEEEEECCCCCCCCCCCCCHHHHHHHHHHHHCCCEEEEEEEC                                                                                                                     |true   |\n",
      "|d1zpsa1 |VNILLNFRHNINGEDLIIAVAQDHETGEVLMVAYMNREALRRTLETGTAHYWSTSRGKLWLKGESSGHVQRVKDVLVDCDGDAVVLKVEQEGGACHTGYRSCFYRSIDGDELKVREDAVKVFDP                                                                                                                                                                                                                                    |CCCCCCCCCCCCCCCCEEEEEEECCCCCEEEEEEECHHHHHHHHHHCECEEEECCCCEEEECCCCCCCCEEEEEEEECCCCCEEEEEEEECCCCCCCCECCCCCEEEECCEEEECCCCCECCCC                                                                                                                                                                                                                                    |true   |\n",
      "|d1roca_ |GASIVSLLGIKVLNNPAKFTDPYEFEITFECLESLKHDLEWKLTYVGSSRSLDHDQELDSILVGPVPVGVNKFVFSADPPSAELIPASELVSVTVILLSCSYDGREFVRVGYYVNNEYDEEELRENPPAKVQVDHIVRNILAEKPRVTRFNIVWD                                                                                                                                                                                                     |CCCCEEEEEEEECCCCEECCCCEEEEEEEEECCCCCCCEEEEEEECCCCCCCCCCEEEEEEEECCCCCEEEEEEEEECCCCCCCCCCHHHHCCEEEEEEEEECCEEEEEEEEEEEEEECCHHHHHCCCCCCCCCCEEEEECCCCCEEEECCCCCC                                                                                                                                                                                                     |true   |\n",
      "|d2fmaa_ |EACKFLHQERMDVCETHLHWHTVAKETCSEKSTNLHDYGMLLPCGIDKFRGVEFVCCPL                                                                                                                                                                                                                                                                                                     |CCCEEEEEECCCCCECHHHHHHHHHHHHHHCCEEEEEEEEEEEECCCEEEEEEEEEEEC                                                                                                                                                                                                                                                                                                     |true   |\n",
      "|d2j80a_ |TEERLHYQVGQRALIQAMQISAMPELVEAVQKRDLARIKALIDPMRSFSDATYITVGDASGQRLYHVNPDEIGKSMEGGDSDEALINAKSYVSVRKGSLGSSLRGKSPIQDATGKVIGIVSVGYTIEQL                                                                                                                                                                                                                               |CCCHHHHHHHHHHHHHHHHHHCCHHHHHHHHCCCHHHHHHHHHHHHHCCCCCEEEEEECCCEEEECCCCCCCCCECCCCCCHHHHCCCCCEEEEEEECCEEEEEEEEEEECCCCCEEEEEEEEEECCCC                                                                                                                                                                                                                               |true   |\n",
      "|d2czvc1 |RKLKTLPPTLRDKNRYIAFEIISDGDFTKDEVKELIWKSSLEVLGETGTAIVKPWLIKFDPNTKTGIVRSDREYVEYLRFALMLVSEFNGKRLIIRTLGVSGTIKRLKRKFLAKYGWK                                                                                                                                                                                                                                          |CCCCCCCCCCCCCEEEEEEEEECCCCCCHHHHHHHHHHHHHHHHHHHHHHHHCCEEEEEECCCCEEEEEEECCCHHHHHHHHHCCCEECCEECEEEEEEEECCHHHHHHHHCCCCCCC                                                                                                                                                                                                                                          |true   |\n",
      "|d1ro2a_ |SSERIRYAKWMLEHGFNIIPIDPESKKPVLKEWQKYSHEMPSDEEKQRFLKMIEEGYNYAIPGGQKGMVIMDFESKEKLKAWIGESALEELCRKTLCTNTVHGGIHIYVLSNDIPPHKINPLFEENGKGIIDLQSYNSYVLGLGSCVNHLHCTTDKCPWKEQNYTTCYTLYNELKEISKVDLKSLLRFLAEKGKRLGITLSKTAKEWLEG                                                                                                                                              |CCHHHHHHHHHHHCCCCCEEECCCCCCECCCCCCCCCCCCCCHHHHHHHHHHHHHCCEEEEECCCCCEEEEEECCHHHHHHHHCHHHHHHHHHHCCEEECCCCCEEEEEECCCCCCCCCCCCEECCCCEEEEEECCCCEEECCCCEEECCCCCCCCCCCCCCCCEEECEECCCCCCCEECCHHHHHHHHHHHHCCCCCEECHHHHHHHHC                                                                                                                                              |false  |\n",
      "|d3ag3c_ |HQTHAYHMVNPSPWPLTGALSALLMTSGLTMWFHFNSMTLLMIGLTTNMLTMYQWWRDVIRESTFQGHHTPAVQKGLRYGMILFIISEVLFFTGFFWAFYHSSLAPTPELGGCWPPTGIHPLNPLEVPLLNTSVLLASGVSITWAHHSLMEGDRKHMLQALFITITLGVYFTLLQASEYYEAPFTISDGVYGSTFFVATGFHGLHVIIGSTFLIVCFFRQLKFHFTSNHHFGFEAAAWYWHFVDVVWLFLYVSIYWWGS                                                                                             |CCCCCCCCCCCCCHHHHHHHHHHHHHHHHHHHHHCCCCHHHHHHHHHHHHHHHHHHHHHHHHHCCCCCCCHHHHHHHHHHHHHHHHHHHHHHHHHHHHHHHHHHCCCCCCCCCCCCCCCCCCCCCCHHHHHHHHHHHHHHHHHHHHHHHHCCEHHHHHHHHHHHHHHHHHHHHHHHHHHHHCCCCCCCHHHHHHHHHHHHHHHHHHHHHHHHHHHHHHHHHCCCCCCCCCHHHHHHHHHHHHHHHHHHHHHHHCCCCCC                                                                                             |true   |\n",
      "|d1ae9a_ |RSRLTADEYLKIYQAAESSPCWLRLAMELAVVTGQRVGDLCEMKWSDIVDGYLYVEQSKTGVKIAIPTALHIDALGISMKETLDKCKEILGGETIIASTRREPLSSGTVSRYFMRARKASGLSFEGDPPTFHELRSLSARLYEKQISDKFAQHLLGHFRDDRGREWDKIEI                                                                                                                                                                                     |CCCCCHHHHHHHHHHCCCCCHHHHHHHHHHHHHCCCHHHHHHCECCCEECCEEEEECCCCCCEEEEECCCEECCCCEEHHHHHHHHHHHCCCCECCCCCCCCCCCHHHHHHHHHHHHHHHCCCCCCCCCCCCHHHHHHHHHHHHHCCHHHHHHHHCCCEECCCCEEEECCC                                                                                                                                                                                     |false  |\n",
      "|d2cnqa_ |SITKTELDGILPLVARGKVRDIYEVDAGTLLFVATDRISAYDVIMENSIPEKGILLTKLSEFWFKFLSNDVRNHLVDIAPGKTIFDYLPAKLSEPKYKTQLEDRSLLVHKHKLIPLEVIVRGYITGSAWKEYVKTGTVHGLKQPQGLKESQEFPEPIFTPSTKAEHDENISPAQAAELVGEDLSRRVAELAVKLYSKCKDYAKEKGIIIADTKFEFGIDEKTNEIILVDEVLTPDSSRFWNGASYKVGESQDSYDKQFLRDWLTANKLNGVNGVKMPQDIVDRTRAKYIEAYETLTGSKWS                                                   |CCCCCCCCCCCCEEEECCCEEEEEEECCEEEEEECCCCEECCEECCCCCCCHHHHHHHHHHHHHHHCCCCCEECECCCCCCCCCCCCCCCCCCCHHHHHHHCCCEEEEECCEECCCEEEEEEECCHHHHHHHHHHCEECCEECCCCCCCCCEEEEEEECCECCCCCCCECCHHHHHHHHCHHHHHHHHHHHHHHHHHHHHHHHHHCEEEEEEEEEEEEECCCCEEEEECCCCCCCCEEEEECCCCCCCCCCCCCCCHHHHHHHHHCCCCCCCCCCCCHHHHHHHHHHHHHHHHHHHCCCCC                                                   |true   |\n",
      "+--------+----------------------------------------------------------------------------------------------------------------------------------------------------------------------------------------------------------------------------------------------------------------------------------------------------------------------------------------------------------------+----------------------------------------------------------------------------------------------------------------------------------------------------------------------------------------------------------------------------------------------------------------------------------------------------------------------------------------------------------------+-------+\n",
      "only showing top 20 rows\n",
      "\n"
     ]
    }
   ],
   "source": [
    "res.show(20, False)"
   ]
  },
  {
   "cell_type": "markdown",
   "metadata": {},
   "source": [
    "## Coalesce"
   ]
  },
  {
   "cell_type": "code",
   "execution_count": 8,
   "metadata": {
    "collapsed": false
   },
   "outputs": [],
   "source": [
    "res = res.coalesce(1)"
   ]
  },
  {
   "cell_type": "markdown",
   "metadata": {
    "collapsed": true
   },
   "source": [
    "## Save to a local JSON file\n",
    "\n",
    "### This line of code will overwrite exsisting file or directory"
   ]
  },
  {
   "cell_type": "code",
   "execution_count": 10,
   "metadata": {
    "collapsed": false
   },
   "outputs": [],
   "source": [
    "res.write.mode(\"overwrite\").format(\"json\").save(\"Local directory to save your JSON file\")"
   ]
  },
  {
   "cell_type": "markdown",
   "metadata": {
    "collapsed": true
   },
   "source": [
    "## Terminate Spark"
   ]
  },
  {
   "cell_type": "code",
   "execution_count": null,
   "metadata": {
    "collapsed": true
   },
   "outputs": [],
   "source": [
    "sc.stop()"
   ]
  }
 ],
 "metadata": {
  "kernelspec": {
   "display_name": "Python 3",
   "language": "python",
   "name": "python3"
  },
  "language_info": {
   "codemirror_mode": {
    "name": "ipython",
    "version": 3
   },
   "file_extension": ".py",
   "mimetype": "text/x-python",
   "name": "python",
   "nbconvert_exporter": "python",
   "pygments_lexer": "ipython3",
   "version": "3.6.0"
  }
 },
 "nbformat": 4,
 "nbformat_minor": 2
}
