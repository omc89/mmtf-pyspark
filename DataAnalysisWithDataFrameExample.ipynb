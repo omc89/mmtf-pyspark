{
 "cells": [
  {
   "cell_type": "markdown",
   "metadata": {},
   "source": [
    "# Example of using PySpark to do data analysis with dataframe"
   ]
  },
  {
   "cell_type": "markdown",
   "metadata": {},
   "source": [
    "## Imports and variables"
   ]
  },
  {
   "cell_type": "code",
   "execution_count": 1,
   "metadata": {
    "scrolled": true
   },
   "outputs": [],
   "source": [
    "from pyspark import SparkConf, SparkContext                    \n",
    "from mmtfPyspark.io import mmtfReader                                \n",
    "from mmtfPyspark.webFilters import Pisces                        \n",
    "from mmtfPyspark.datasets import groupInteractionExtractor\n",
    "from mmtfPyspark.structureViewer import interaction_structure_viewer\n",
    "import py3Dmol\n",
    "import time\n",
    "                                                               \n",
    "# Create variables                                             \n",
    "APP_NAME = \"MMTF_Spark\"                                        \n",
    "path = \"./resources/mmtf_full_sample/\"                            \n",
    "                                                               \n",
    "# Configure Spark                                              \n",
    "conf = SparkConf().setAppName(APP_NAME).setMaster(\"local[*]\")  \n",
    "sc = SparkContext(conf=conf)                                   "
   ]
  },
  {
   "cell_type": "markdown",
   "metadata": {},
   "source": [
    "## Read PDB and create PISCES non-redundant set"
   ]
  },
  {
   "cell_type": "code",
   "execution_count": 2,
   "metadata": {},
   "outputs": [],
   "source": [
    "pdb = mmtfReader.read_sequence_file(path, sc)\n",
    "pdb = pdb.filter(Pisces(sequenceIdentity = 20, resolution = 2.0))         "
   ]
  },
  {
   "cell_type": "markdown",
   "metadata": {},
   "source": [
    "## Extract Zinc interactions"
   ]
  },
  {
   "cell_type": "code",
   "execution_count": 3,
   "metadata": {},
   "outputs": [
    {
     "name": "stdout",
     "output_type": "stream",
     "text": [
      "+-----------+--------+-----+--------+------+--------+-----+--------+------+---------+\n",
      "|structureId|residue1|atom1|element1|index1|residue2|atom2|element2|index2| distance|\n",
      "+-----------+--------+-----+--------+------+--------+-----+--------+------+---------+\n",
      "|       1FN9|      ZN|   ZN|      Zn|   730|     CYS|   SG|       S|    50|2.3709755|\n",
      "|       1FN9|      ZN|   ZN|      Zn|   730|     CYS|   SG|       S|    53|2.3940797|\n",
      "|       1FN9|      ZN|   ZN|      Zn|   730|     HIS|  NE2|       N|    70|2.2196307|\n",
      "|       1FN9|      ZN|   ZN|      Zn|   730|     CYS|   SG|       S|    72|2.3465357|\n",
      "|       1FN9|      ZN|   ZN|      Zn|   731|     CYS|   SG|       S|   415|2.3747551|\n",
      "|       1FN9|      ZN|   ZN|      Zn|   731|     CYS|   SG|       S|   418|2.3680198|\n",
      "|       1FN9|      ZN|   ZN|      Zn|   731|     HIS|  NE2|       N|   435|2.1647959|\n",
      "|       1FN9|      ZN|   ZN|      Zn|   731|     CYS|   SG|       S|   437|2.3763454|\n",
      "|       1A73|      ZN|   ZN|      Zn|   366|     CYS|   SG|       S|   165|2.3760905|\n",
      "|       1A73|      ZN|   ZN|      Zn|   366|     CYS|   SG|       S|   172|2.4604716|\n",
      "+-----------+--------+-----+--------+------+--------+-----+--------+------+---------+\n",
      "only showing top 10 rows\n",
      "\n"
     ]
    }
   ],
   "source": [
    "finder = groupInteractionExtractor(\"ZN\", distance = 3.0)       \n",
    "interactions = finder.getDataset(pdb)\n",
    "\n",
    "interactions.show(10)"
   ]
  },
  {
   "cell_type": "markdown",
   "metadata": {},
   "source": [
    "## Get unique PDBIds from result"
   ]
  },
  {
   "cell_type": "code",
   "execution_count": 4,
   "metadata": {},
   "outputs": [],
   "source": [
    "# Get list of PDBids\n",
    "pdbIds = [row.structureId for row in interactions.collect()]\n",
    "\n",
    "# Get unique pdbIds and convert back to list\n",
    "unique_pdbIds = list(set(pdbIds))"
   ]
  },
  {
   "cell_type": "markdown",
   "metadata": {},
   "source": [
    "## Visualize first hit"
   ]
  },
  {
   "cell_type": "code",
   "execution_count": 5,
   "metadata": {},
   "outputs": [
    {
     "data": {
      "application/vnd.jupyter.widget-view+json": {
       "model_id": "23f77938650f4c0b9a62be907821c799",
       "version_major": 2,
       "version_minor": 0
      },
      "text/html": [
       "<p>Failed to display Jupyter Widget of type <code>interactive</code>.</p>\n",
       "<p>\n",
       "  If you're reading this message in the Jupyter Notebook or JupyterLab Notebook, it may mean\n",
       "  that the widgets JavaScript is still loading. If this message persists, it\n",
       "  likely means that the widgets JavaScript library is either not installed or\n",
       "  not enabled. See the <a href=\"https://ipywidgets.readthedocs.io/en/stable/user_install.html\">Jupyter\n",
       "  Widgets Documentation</a> for setup instructions.\n",
       "</p>\n",
       "<p>\n",
       "  If you're reading this message in another frontend (for example, a static\n",
       "  rendering on GitHub or <a href=\"https://nbviewer.jupyter.org/\">NBViewer</a>),\n",
       "  it may mean that your frontend doesn't currently support widgets.\n",
       "</p>\n"
      ],
      "text/plain": [
       "interactive(children=(IntSlider(value=0, description='i', max=5), Output()), _dom_classes=('widget-interact',))"
      ]
     },
     "metadata": {},
     "output_type": "display_data"
    },
    {
     "data": {
      "text/plain": [
       "<function mmtfPyspark.structureViewer.interaction_structure_viewer.<locals>.view3d>"
      ]
     },
     "execution_count": 5,
     "metadata": {},
     "output_type": "execute_result"
    }
   ],
   "source": [
    "interaction_structure_viewer(unique_pdbIds, 'ZN')"
   ]
  },
  {
   "cell_type": "markdown",
   "metadata": {},
   "source": [
    "## Show top 5 interacting groups                           \n"
   ]
  },
  {
   "cell_type": "code",
   "execution_count": 6,
   "metadata": {},
   "outputs": [
    {
     "name": "stdout",
     "output_type": "stream",
     "text": [
      "+--------+-----+\n",
      "|residue2|count|\n",
      "+--------+-----+\n",
      "|     CYS|   19|\n",
      "|     HIS|   14|\n",
      "|     HOH|   10|\n",
      "|     ASP|    5|\n",
      "|     GLU|    5|\n",
      "|     TRP|    2|\n",
      "|     VAL|    2|\n",
      "|      CL|    1|\n",
      "+--------+-----+\n",
      "\n"
     ]
    }
   ],
   "source": [
    "interactions.filter(\"element2 != 'C'\").groupBy(\"residue2\").count().sort(\"count\", ascending=False).show(10)"
   ]
  },
  {
   "cell_type": "code",
   "execution_count": 7,
   "metadata": {},
   "outputs": [],
   "source": [
    "sc.stop()"
   ]
  },
  {
   "cell_type": "code",
   "execution_count": null,
   "metadata": {},
   "outputs": [],
   "source": []
  }
 ],
 "metadata": {
  "kernelspec": {
   "display_name": "Python 3",
   "language": "python",
   "name": "python3"
  },
  "language_info": {
   "codemirror_mode": {
    "name": "ipython",
    "version": 3
   },
   "file_extension": ".py",
   "mimetype": "text/x-python",
   "name": "python",
   "nbconvert_exporter": "python",
   "pygments_lexer": "ipython3",
   "version": "3.6.0"
  }
 },
 "nbformat": 4,
 "nbformat_minor": 2
}
